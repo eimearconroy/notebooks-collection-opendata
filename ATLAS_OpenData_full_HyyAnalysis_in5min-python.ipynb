{
 "cells": [
  {
   "cell_type": "markdown",
   "metadata": {},
   "source": [
    "<CENTER><img src=\"http://opendata.atlas.cern/DataAndTools/pictures/ATLASOD.gif\" style=\"width:50%\"></CENTER>"
   ]
  },
  {
   "cell_type": "markdown",
   "metadata": {},
   "source": [
    "<CENTER><h1>Get running the full Hyy analysis using the 13 TeV dataset in 5 minutes!"
   ]
  },
  {
   "cell_type": "markdown",
   "metadata": {},
   "source": [
    "**Introduction**\n",
    "The analysis is based on the 13 TeV Open Data.\n",
    "The ATLAS note [ATL-OREACH-PUB-2020-001](https://atlas.web.cern.ch/Atlas/GROUPS/PHYSICS/PUBNOTES/ATL-OREACH-PUB-2020-001) can be used as a guide on the content, properties, capabilities and limitations of the released datasets.\n",
    "\n",
    "In the following, in about **5 minutes** we are going to re-produce the H->yy analysis plots from the note.\n",
    "<CENTER>\n",
    "    <img src=\"https://atlas.web.cern.ch/Atlas/GROUPS/PHYSICS/PUBNOTES/ATL-OREACH-PUB-2020-001/fig_12b.png\" alt=\"mass\" width=\"350\" height=\"200\">\n",
    "</CENTER>"
   ]
  },
  {
   "cell_type": "code",
   "execution_count": 1,
   "metadata": {},
   "outputs": [
    {
     "name": "stdout",
     "output_type": "stream",
     "text": [
      "Welcome to JupyROOT 6.18/04\n"
     ]
    }
   ],
   "source": [
    "import os\n",
    "import ROOT\n",
    "from ROOT import TMath\n",
    "import time"
   ]
  },
  {
   "cell_type": "code",
   "execution_count": 2,
   "metadata": {},
   "outputs": [],
   "source": [
    "start = time.time()"
   ]
  },
  {
   "cell_type": "markdown",
   "metadata": {},
   "source": [
    "##  First, we will download from github the 13 TeV C++ analysis software\n"
   ]
  },
  {
   "cell_type": "code",
   "execution_count": 3,
   "metadata": {},
   "outputs": [
    {
     "name": "stdout",
     "output_type": "stream",
     "text": [
      "total 12M\n",
      "-rw-r--r-- 1 conroy pp-atlas  17K Feb 21 13:46 ATLAS_OpenData_03-cpp_invariant_mass_reconstruction_using_TLorentz_vectors.ipynb\n",
      "-rw-r--r-- 1 conroy pp-atlas 3.3M Feb 21 13:46 ATLAS_OpenData_05-ccp_CSV_to_ROOT_ploting_example.ipynb\n",
      "-rw-r--r-- 1 conroy pp-atlas  14K Feb 21 13:46 ATLAS_OpenData_06-cpp_simple_cut_and_count_analysis_example.ipynb\n",
      "-rw-r--r-- 1 conroy pp-atlas  57K Feb 21 13:46 ATLAS_OpenData_07-python_simple_two_samples_comparison.ipynb\n",
      "-rw-r--r-- 1 conroy pp-atlas  28K Feb 21 13:46 ATLAS_OpenData_08-cpp_cut_and_count_analysis_example.ipynb\n",
      "-rw-r--r-- 1 conroy pp-atlas  28K Feb 21 13:46 ATLAS_OpenData_analysis_example-cpp_Hyy_channel.ipynb\n",
      "-rw-r--r-- 1 conroy pp-atlas  238 Feb 21 13:46 README.md\n",
      "-rw-r--r-- 1 conroy pp-atlas   64 Feb 21 13:46 environment.yml\n",
      "drwxr-xr-x 2 conroy pp-atlas 4.0K Feb 21 13:46 images\n",
      "-rw-r--r-- 1 conroy pp-atlas 8.4M Feb 21 13:46 outreach.csv\n",
      "-rw-r--r-- 1 conroy pp-atlas  16K Feb 21 13:49 ATLAS_OpenData_01-simple_cpp_example_histogram.ipynb\n",
      "-rw-r--r-- 1 conroy pp-atlas 6.6K Feb 21 14:50 ATLAS_OpenData_04-python_invariant_mass_reconstruction_using_TLorentz_vectors.ipynb\n",
      "-rw-r--r-- 1 conroy pp-atlas  28K Feb 21 14:57 ATLAS_OpenData_02-simple_python_example_histogram.ipynb\n",
      "-rw-r--r-- 1 conroy pp-atlas  27K Feb 21 15:33 ATLAS_OpenData_analysis_example-python_Hyy_channel.ipynb\n",
      "drwxr-xr-x 3 conroy pp-atlas 4.0K Feb 24 17:22 atlas-demo-Hyy\n",
      "-rw-r--r-- 1 conroy pp-atlas  18K Feb 24 17:23 ATLAS_OpenData_full_HyyAnalysis_in5min-python.ipynb\n",
      "\n"
     ]
    }
   ],
   "source": [
    "myCmd = os.popen('ls -lhrt').read()\n",
    "print(myCmd)"
   ]
  },
  {
   "cell_type": "markdown",
   "metadata": {},
   "source": [
    "in case it already exists, remove it"
   ]
  },
  {
   "cell_type": "code",
   "execution_count": 4,
   "metadata": {},
   "outputs": [
    {
     "data": {
      "text/plain": [
       "0"
      ]
     },
     "execution_count": 4,
     "metadata": {},
     "output_type": "execute_result"
    }
   ],
   "source": [
    "folder_demo = 'atlas-demo-Hyy'\n",
    "command1 = 'rm -rf '+folder_demo\n",
    "os.system(command1)"
   ]
  },
  {
   "cell_type": "code",
   "execution_count": 5,
   "metadata": {},
   "outputs": [
    {
     "name": "stdout",
     "output_type": "stream",
     "text": [
      "total 12M\n",
      "-rw-r--r-- 1 conroy pp-atlas  17K Feb 21 13:46 ATLAS_OpenData_03-cpp_invariant_mass_reconstruction_using_TLorentz_vectors.ipynb\n",
      "-rw-r--r-- 1 conroy pp-atlas 3.3M Feb 21 13:46 ATLAS_OpenData_05-ccp_CSV_to_ROOT_ploting_example.ipynb\n",
      "-rw-r--r-- 1 conroy pp-atlas  14K Feb 21 13:46 ATLAS_OpenData_06-cpp_simple_cut_and_count_analysis_example.ipynb\n",
      "-rw-r--r-- 1 conroy pp-atlas  57K Feb 21 13:46 ATLAS_OpenData_07-python_simple_two_samples_comparison.ipynb\n",
      "-rw-r--r-- 1 conroy pp-atlas  28K Feb 21 13:46 ATLAS_OpenData_08-cpp_cut_and_count_analysis_example.ipynb\n",
      "-rw-r--r-- 1 conroy pp-atlas  28K Feb 21 13:46 ATLAS_OpenData_analysis_example-cpp_Hyy_channel.ipynb\n",
      "-rw-r--r-- 1 conroy pp-atlas  238 Feb 21 13:46 README.md\n",
      "-rw-r--r-- 1 conroy pp-atlas   64 Feb 21 13:46 environment.yml\n",
      "drwxr-xr-x 2 conroy pp-atlas 4.0K Feb 21 13:46 images\n",
      "-rw-r--r-- 1 conroy pp-atlas 8.4M Feb 21 13:46 outreach.csv\n",
      "-rw-r--r-- 1 conroy pp-atlas  16K Feb 21 13:49 ATLAS_OpenData_01-simple_cpp_example_histogram.ipynb\n",
      "-rw-r--r-- 1 conroy pp-atlas 6.6K Feb 21 14:50 ATLAS_OpenData_04-python_invariant_mass_reconstruction_using_TLorentz_vectors.ipynb\n",
      "-rw-r--r-- 1 conroy pp-atlas  28K Feb 21 14:57 ATLAS_OpenData_02-simple_python_example_histogram.ipynb\n",
      "-rw-r--r-- 1 conroy pp-atlas  27K Feb 21 15:33 ATLAS_OpenData_analysis_example-python_Hyy_channel.ipynb\n",
      "-rw-r--r-- 1 conroy pp-atlas  18K Feb 24 17:23 ATLAS_OpenData_full_HyyAnalysis_in5min-python.ipynb\n",
      "\n"
     ]
    }
   ],
   "source": [
    "myCmd = os.popen('ls -lhrt').read()\n",
    "print(myCmd)"
   ]
  },
  {
   "cell_type": "code",
   "execution_count": 6,
   "metadata": {},
   "outputs": [
    {
     "data": {
      "text/plain": [
       "0"
      ]
     },
     "execution_count": 6,
     "metadata": {},
     "output_type": "execute_result"
    }
   ],
   "source": [
    "folder_demo = 'atlas-demo-Hyy'\n",
    "command1 = 'mkdir '+folder_demo\n",
    "os.system(command1)"
   ]
  },
  {
   "cell_type": "markdown",
   "metadata": {},
   "source": [
    "Show the contents in the current folder, and checck your new folder is there"
   ]
  },
  {
   "cell_type": "code",
   "execution_count": 7,
   "metadata": {},
   "outputs": [
    {
     "name": "stdout",
     "output_type": "stream",
     "text": [
      "total 12M\n",
      "-rw-r--r-- 1 conroy pp-atlas  17K Feb 21 13:46 ATLAS_OpenData_03-cpp_invariant_mass_reconstruction_using_TLorentz_vectors.ipynb\n",
      "-rw-r--r-- 1 conroy pp-atlas 3.3M Feb 21 13:46 ATLAS_OpenData_05-ccp_CSV_to_ROOT_ploting_example.ipynb\n",
      "-rw-r--r-- 1 conroy pp-atlas  14K Feb 21 13:46 ATLAS_OpenData_06-cpp_simple_cut_and_count_analysis_example.ipynb\n",
      "-rw-r--r-- 1 conroy pp-atlas  57K Feb 21 13:46 ATLAS_OpenData_07-python_simple_two_samples_comparison.ipynb\n",
      "-rw-r--r-- 1 conroy pp-atlas  28K Feb 21 13:46 ATLAS_OpenData_08-cpp_cut_and_count_analysis_example.ipynb\n",
      "-rw-r--r-- 1 conroy pp-atlas  28K Feb 21 13:46 ATLAS_OpenData_analysis_example-cpp_Hyy_channel.ipynb\n",
      "-rw-r--r-- 1 conroy pp-atlas  238 Feb 21 13:46 README.md\n",
      "-rw-r--r-- 1 conroy pp-atlas   64 Feb 21 13:46 environment.yml\n",
      "drwxr-xr-x 2 conroy pp-atlas 4.0K Feb 21 13:46 images\n",
      "-rw-r--r-- 1 conroy pp-atlas 8.4M Feb 21 13:46 outreach.csv\n",
      "-rw-r--r-- 1 conroy pp-atlas  16K Feb 21 13:49 ATLAS_OpenData_01-simple_cpp_example_histogram.ipynb\n",
      "-rw-r--r-- 1 conroy pp-atlas 6.6K Feb 21 14:50 ATLAS_OpenData_04-python_invariant_mass_reconstruction_using_TLorentz_vectors.ipynb\n",
      "-rw-r--r-- 1 conroy pp-atlas  28K Feb 21 14:57 ATLAS_OpenData_02-simple_python_example_histogram.ipynb\n",
      "-rw-r--r-- 1 conroy pp-atlas  27K Feb 21 15:33 ATLAS_OpenData_analysis_example-python_Hyy_channel.ipynb\n",
      "-rw-r--r-- 1 conroy pp-atlas  18K Feb 24 17:23 ATLAS_OpenData_full_HyyAnalysis_in5min-python.ipynb\n",
      "drwxr-xr-x 2 conroy pp-atlas 4.0K Feb 24 17:33 atlas-demo-Hyy\n",
      "\n"
     ]
    }
   ],
   "source": [
    "myCmd = os.popen('ls -lhrt').read()\n",
    "print(myCmd)"
   ]
  },
  {
   "cell_type": "markdown",
   "metadata": {},
   "source": [
    "Get into the folder which we just created"
   ]
  },
  {
   "cell_type": "code",
   "execution_count": 8,
   "metadata": {},
   "outputs": [],
   "source": [
    "os.chdir(folder_demo+\"/\")"
   ]
  },
  {
   "cell_type": "markdown",
   "metadata": {},
   "source": [
    "Print the current path and check that you are really there"
   ]
  },
  {
   "cell_type": "code",
   "execution_count": 9,
   "metadata": {},
   "outputs": [
    {
     "name": "stdout",
     "output_type": "stream",
     "text": [
      "/home/conroy/OpenData/notebooks-collection-opendata/atlas-demo-Hyy\n",
      "\n"
     ]
    }
   ],
   "source": [
    "myCmd = os.popen('pwd').read()\n",
    "print(myCmd)"
   ]
  },
  {
   "cell_type": "markdown",
   "metadata": {},
   "source": [
    "Clone the analysis code **(do this only once!)**"
   ]
  },
  {
   "cell_type": "code",
   "execution_count": 10,
   "metadata": {},
   "outputs": [
    {
     "name": "stdout",
     "output_type": "stream",
     "text": [
      "Cloning into 'atlas-outreach-cpp-framework-13tev'...\n",
      "\n"
     ]
    }
   ],
   "source": [
    "myCmd = os.popen('git clone https://github.com/atlas-outreach-data-tools/atlas-outreach-cpp-framework-13tev.git').read()\n",
    "print(myCmd)"
   ]
  },
  {
   "cell_type": "markdown",
   "metadata": {},
   "source": [
    "Get into the folder which contains the analysis code"
   ]
  },
  {
   "cell_type": "code",
   "execution_count": 11,
   "metadata": {},
   "outputs": [],
   "source": [
    "os.chdir(\"atlas-outreach-cpp-framework-13tev/\")"
   ]
  },
  {
   "cell_type": "code",
   "execution_count": 12,
   "metadata": {},
   "outputs": [
    {
     "name": "stdout",
     "output_type": "stream",
     "text": [
      "total 28K\n",
      "drwxr-xr-x 14 conroy pp-atlas 4.0K Feb 24 17:33 Analysis\n",
      "drwxr-xr-x  4 conroy pp-atlas 4.0K Feb 24 17:33 Plotting\n",
      "-rw-r--r--  1 conroy pp-atlas  11K Feb 24 17:33 README.md\n",
      "-rwxr-xr-x  1 conroy pp-atlas  370 Feb 24 17:33 welcome_web.sh\n",
      "-rwxr-xr-x  1 conroy pp-atlas 1.7K Feb 24 17:33 welcome.sh\n",
      "\n"
     ]
    }
   ],
   "source": [
    "myCmd = os.popen('ls -lhrt').read()\n",
    "print(myCmd)"
   ]
  },
  {
   "cell_type": "markdown",
   "metadata": {},
   "source": [
    "let's create the output folders **do it once**"
   ]
  },
  {
   "cell_type": "code",
   "execution_count": 13,
   "metadata": {},
   "outputs": [
    {
     "data": {
      "text/plain": [
       "0"
      ]
     },
     "execution_count": 13,
     "metadata": {},
     "output_type": "execute_result"
    }
   ],
   "source": [
    "command3 = \"./welcome_web.sh\"\n",
    "os.system(command3)"
   ]
  },
  {
   "cell_type": "markdown",
   "metadata": {},
   "source": [
    "### Let's run the Hyy physics analysis\n",
    "\n",
    "#### From the list below, we will selection the proper HyyAnalysis option:"
   ]
  },
  {
   "cell_type": "code",
   "execution_count": 14,
   "metadata": {},
   "outputs": [],
   "source": [
    "os.chdir(\"Analysis/HyyAnalysis\")"
   ]
  },
  {
   "cell_type": "code",
   "execution_count": 15,
   "metadata": {
    "scrolled": true
   },
   "outputs": [
    {
     "name": "stdout",
     "output_type": "stream",
     "text": [
      "/home/conroy/OpenData/notebooks-collection-opendata/atlas-demo-Hyy/atlas-outreach-cpp-framework-13tev/Analysis/HyyAnalysis\n",
      "\n"
     ]
    }
   ],
   "source": [
    "myCmd = os.popen('pwd').read()\n",
    "print(myCmd)"
   ]
  },
  {
   "cell_type": "code",
   "execution_count": 16,
   "metadata": {},
   "outputs": [
    {
     "name": "stdout",
     "output_type": "stream",
     "text": [
      "total 52K\n",
      "-rw-r--r-- 1 conroy pp-atlas 6.4K Feb 24 17:33 HyyAnalysis.C\n",
      "-rw-r--r-- 1 conroy pp-atlas  15K Feb 24 17:33 HyyAnalysis.h\n",
      "-rw-r--r-- 1 conroy pp-atlas 2.7K Feb 24 17:33 main_HyyAnalysis.C\n",
      "-rw-r--r-- 1 conroy pp-atlas 1.3K Feb 24 17:33 HyyAnalysisHistograms.h\n",
      "-rw-r--r-- 1 conroy pp-atlas 2.7K Feb 24 17:33 main_HyyAnalysis_web.C\n",
      "-rwxr-xr-x 1 conroy pp-atlas  492 Feb 24 17:33 run_web.sh\n",
      "-rwxr-xr-x 1 conroy pp-atlas  665 Feb 24 17:33 run.sh\n",
      "-rwxr-xr-x 1 conroy pp-atlas  492 Feb 24 17:33 run_web2.sh\n",
      "drwxr-xr-x 2 conroy pp-atlas 4.0K Feb 24 17:33 Output_HyyAnalysis\n",
      "\n"
     ]
    }
   ],
   "source": [
    "myCmd = os.popen('ls -lhrt').read()\n",
    "print(myCmd)"
   ]
  },
  {
   "cell_type": "markdown",
   "metadata": {},
   "source": [
    "Check that the directory **Output_HyyAnalysis** is there! If not, **create it**"
   ]
  },
  {
   "cell_type": "code",
   "execution_count": 17,
   "metadata": {},
   "outputs": [],
   "source": [
    "#command1 = 'mkdir Output_HyyAnalysis'\n",
    "#os.system(command1)"
   ]
  },
  {
   "cell_type": "markdown",
   "metadata": {},
   "source": [
    "### Now, we will execute the C++ analysis code. It will take some time (less than 5mins)"
   ]
  },
  {
   "cell_type": "markdown",
   "metadata": {},
   "source": [
    "First, we will run over MC samples"
   ]
  },
  {
   "cell_type": "code",
   "execution_count": 18,
   "metadata": {},
   "outputs": [
    {
     "data": {
      "text/plain": [
       "0"
      ]
     },
     "execution_count": 18,
     "metadata": {},
     "output_type": "execute_result"
    },
    {
     "name": "stdout",
     "output_type": "stream",
     "text": [
      "Will always run all data and MC one after another!\n",
      "Option is 1\n",
      "Will always set PROOF to false for now!\n",
      "PROOF option is 0\n",
      "starting ROOT\n",
      "Starting analysis with process option: data \n",
      "Analysed a total of: 50000 events out of 430344 in this sample\n",
      "Analysed a total of: 100000 events out of 430344 in this sample\n",
      "Analysed a total of: 150000 events out of 430344 in this sample\n",
      "Analysed a total of: 200000 events out of 430344 in this sample\n",
      "Analysed a total of: 250000 events out of 430344 in this sample\n",
      "Analysed a total of: 300000 events out of 430344 in this sample\n",
      "Analysed a total of: 350000 events out of 430344 in this sample\n",
      "Analysed a total of: 400000 events out of 430344 in this sample\n",
      "Analysed a total of: 450000 events out of 1528717 in this sample\n",
      "Analysed a total of: 500000 events out of 1528717 in this sample\n",
      "Analysed a total of: 550000 events out of 1528717 in this sample\n",
      "Analysed a total of: 600000 events out of 1528717 in this sample\n",
      "Analysed a total of: 650000 events out of 1528717 in this sample\n",
      "Analysed a total of: 700000 events out of 1528717 in this sample\n",
      "Analysed a total of: 750000 events out of 1528717 in this sample\n",
      "Analysed a total of: 800000 events out of 1528717 in this sample\n",
      "Analysed a total of: 850000 events out of 1528717 in this sample\n",
      "Analysed a total of: 900000 events out of 1528717 in this sample\n",
      "Analysed a total of: 950000 events out of 1528717 in this sample\n",
      "Analysed a total of: 1000000 events out of 1528717 in this sample\n",
      "Analysed a total of: 1050000 events out of 1528717 in this sample\n",
      "Analysed a total of: 1100000 events out of 1528717 in this sample\n",
      "Analysed a total of: 1150000 events out of 1528717 in this sample\n",
      "Analysed a total of: 1200000 events out of 1528717 in this sample\n",
      "Analysed a total of: 1250000 events out of 1528717 in this sample\n",
      "Analysed a total of: 1300000 events out of 1528717 in this sample\n",
      "Analysed a total of: 1350000 events out of 1528717 in this sample\n",
      "Analysed a total of: 1400000 events out of 1528717 in this sample\n",
      "Analysed a total of: 1450000 events out of 1528717 in this sample\n",
      "Analysed a total of: 1500000 events out of 1528717 in this sample\n",
      "Analysed a total of: 1550000 events out of 1528717 in this sample\n",
      "Analysed a total of: 1600000 events out of 1528717 in this sample\n",
      "Analysed a total of: 1650000 events out of 1528717 in this sample\n",
      "Analysed a total of: 1700000 events out of 1528717 in this sample\n",
      "Analysed a total of: 1750000 events out of 1528717 in this sample\n",
      "Analysed a total of: 1800000 events out of 1528717 in this sample\n",
      "Analysed a total of: 1850000 events out of 1528717 in this sample\n",
      "Analysed a total of: 1900000 events out of 1528717 in this sample\n",
      "Analysed a total of: 1950000 events out of 1528717 in this sample\n",
      "Analysed a total of: 2000000 events out of 2237187 in this sample\n",
      "Analysed a total of: 2050000 events out of 2237187 in this sample\n",
      "Analysed a total of: 2100000 events out of 2237187 in this sample\n",
      "Analysed a total of: 2150000 events out of 2237187 in this sample\n",
      "Analysed a total of: 2200000 events out of 2237187 in this sample\n",
      "Analysed a total of: 2250000 events out of 2237187 in this sample\n",
      "Analysed a total of: 2300000 events out of 2237187 in this sample\n",
      "Analysed a total of: 2350000 events out of 2237187 in this sample\n",
      "Analysed a total of: 2400000 events out of 2237187 in this sample\n",
      "Analysed a total of: 2450000 events out of 2237187 in this sample\n",
      "Analysed a total of: 2500000 events out of 2237187 in this sample\n",
      "Analysed a total of: 2550000 events out of 2237187 in this sample\n",
      "Analysed a total of: 2600000 events out of 2237187 in this sample\n",
      "Analysed a total of: 2650000 events out of 2237187 in this sample\n",
      "Analysed a total of: 2700000 events out of 2237187 in this sample\n",
      "Analysed a total of: 2750000 events out of 2237187 in this sample\n",
      "Analysed a total of: 2800000 events out of 2237187 in this sample\n",
      "Analysed a total of: 2850000 events out of 2237187 in this sample\n",
      "Analysed a total of: 2900000 events out of 2237187 in this sample\n",
      "Analysed a total of: 2950000 events out of 2237187 in this sample\n",
      "Analysed a total of: 3000000 events out of 2237187 in this sample\n",
      "Analysed a total of: 3050000 events out of 2237187 in this sample\n",
      "Analysed a total of: 3100000 events out of 2237187 in this sample\n",
      "Analysed a total of: 3150000 events out of 2237187 in this sample\n",
      "Analysed a total of: 3200000 events out of 2237187 in this sample\n",
      "Analysed a total of: 3250000 events out of 2237187 in this sample\n",
      "Analysed a total of: 3300000 events out of 2237187 in this sample\n",
      "Analysed a total of: 3350000 events out of 2237187 in this sample\n",
      "Analysed a total of: 3400000 events out of 2237187 in this sample\n",
      "Analysed a total of: 3450000 events out of 2237187 in this sample\n",
      "Analysed a total of: 3500000 events out of 2237187 in this sample\n",
      "Analysed a total of: 3550000 events out of 2237187 in this sample\n",
      "Analysed a total of: 3600000 events out of 2237187 in this sample\n",
      "Analysed a total of: 3650000 events out of 2237187 in this sample\n",
      "Analysed a total of: 3700000 events out of 2237187 in this sample\n",
      "Analysed a total of: 3750000 events out of 2237187 in this sample\n",
      "Analysed a total of: 3800000 events out of 2237187 in this sample\n",
      "Analysed a total of: 3850000 events out of 2237187 in this sample\n",
      "Analysed a total of: 3900000 events out of 2237187 in this sample\n",
      "Analysed a total of: 3950000 events out of 2237187 in this sample\n",
      "Analysed a total of: 4000000 events out of 2237187 in this sample\n",
      "Analysed a total of: 4050000 events out of 2237187 in this sample\n",
      "Analysed a total of: 4100000 events out of 2237187 in this sample\n",
      "Analysed a total of: 4150000 events out of 2237187 in this sample\n",
      "Analysed a total of: 4200000 events out of 3602176 in this sample\n",
      "Analysed a total of: 4250000 events out of 3602176 in this sample\n",
      "Analysed a total of: 4300000 events out of 3602176 in this sample\n",
      "Analysed a total of: 4350000 events out of 3602176 in this sample\n",
      "Analysed a total of: 4400000 events out of 3602176 in this sample\n",
      "Analysed a total of: 4450000 events out of 3602176 in this sample\n",
      "Analysed a total of: 4500000 events out of 3602176 in this sample\n",
      "Analysed a total of: 4550000 events out of 3602176 in this sample\n",
      "Analysed a total of: 4600000 events out of 3602176 in this sample\n",
      "Analysed a total of: 4650000 events out of 3602176 in this sample\n",
      "Analysed a total of: 4700000 events out of 3602176 in this sample\n",
      "Analysed a total of: 4750000 events out of 3602176 in this sample\n",
      "Analysed a total of: 4800000 events out of 3602176 in this sample\n",
      "Analysed a total of: 4850000 events out of 3602176 in this sample\n",
      "Analysed a total of: 4900000 events out of 3602176 in this sample\n",
      "Analysed a total of: 4950000 events out of 3602176 in this sample\n",
      "Analysed a total of: 5000000 events out of 3602176 in this sample\n",
      "Analysed a total of: 5050000 events out of 3602176 in this sample\n",
      "Analysed a total of: 5100000 events out of 3602176 in this sample\n",
      "Analysed a total of: 5150000 events out of 3602176 in this sample\n",
      "Analysed a total of: 5200000 events out of 3602176 in this sample\n",
      "Analysed a total of: 5250000 events out of 3602176 in this sample\n",
      "Analysed a total of: 5300000 events out of 3602176 in this sample\n",
      "Analysed a total of: 5350000 events out of 3602176 in this sample\n",
      "Analysed a total of: 5400000 events out of 3602176 in this sample\n",
      "Analysed a total of: 5450000 events out of 3602176 in this sample\n",
      "Analysed a total of: 5500000 events out of 3602176 in this sample\n",
      "Analysed a total of: 5550000 events out of 3602176 in this sample\n",
      "Analysed a total of: 5600000 events out of 3602176 in this sample\n",
      "Analysed a total of: 5650000 events out of 3602176 in this sample\n",
      "Analysed a total of: 5700000 events out of 3602176 in this sample\n",
      "Analysed a total of: 5750000 events out of 3602176 in this sample\n",
      "Analysed a total of: 5800000 events out of 3602176 in this sample\n",
      "Analysed a total of: 5850000 events out of 3602176 in this sample\n",
      "Analysed a total of: 5900000 events out of 3602176 in this sample\n",
      "Analysed a total of: 5950000 events out of 3602176 in this sample\n",
      "Analysed a total of: 6000000 events out of 3602176 in this sample\n",
      "Analysed a total of: 6050000 events out of 3602176 in this sample\n",
      "Analysed a total of: 6100000 events out of 3602176 in this sample\n",
      "Analysed a total of: 6150000 events out of 3602176 in this sample\n",
      "Analysed a total of: 6200000 events out of 3602176 in this sample\n",
      "Analysed a total of: 6250000 events out of 3602176 in this sample\n",
      "Analysed a total of: 6300000 events out of 3602176 in this sample\n",
      "Analysed a total of: 6350000 events out of 3602176 in this sample\n",
      "Analysed a total of: 6400000 events out of 3602176 in this sample\n",
      "Analysed a total of: 6450000 events out of 3602176 in this sample\n",
      "Analysed a total of: 6500000 events out of 3602176 in this sample\n",
      "Analysed a total of: 6550000 events out of 3602176 in this sample\n",
      "Analysed a total of: 6600000 events out of 3602176 in this sample\n",
      "Analysed a total of: 6650000 events out of 3602176 in this sample\n",
      "Analysed a total of: 6700000 events out of 3602176 in this sample\n",
      "Analysed a total of: 6750000 events out of 3602176 in this sample\n",
      "Analysed a total of: 6800000 events out of 3602176 in this sample\n",
      "Analysed a total of: 6850000 events out of 3602176 in this sample\n",
      "Analysed a total of: 6900000 events out of 3602176 in this sample\n",
      "Analysed a total of: 6950000 events out of 3602176 in this sample\n",
      "Analysed a total of: 7000000 events out of 3602176 in this sample\n",
      "Analysed a total of: 7050000 events out of 3602176 in this sample\n",
      "Analysed a total of: 7100000 events out of 3602176 in this sample\n",
      "Analysed a total of: 7150000 events out of 3602176 in this sample\n",
      "Analysed a total of: 7200000 events out of 3602176 in this sample\n",
      "Analysed a total of: 7250000 events out of 3602176 in this sample\n",
      "Analysed a total of: 7300000 events out of 3602176 in this sample\n",
      "Analysed a total of: 7350000 events out of 3602176 in this sample\n",
      "Analysed a total of: 7400000 events out of 3602176 in this sample\n",
      "Analysed a total of: 7450000 events out of 3602176 in this sample\n",
      "Analysed a total of: 7500000 events out of 3602176 in this sample\n",
      "Analysed a total of: 7550000 events out of 3602176 in this sample\n",
      "Analysed a total of: 7600000 events out of 3602176 in this sample\n",
      "Analysed a total of: 7650000 events out of 3602176 in this sample\n",
      "Analysed a total of: 7700000 events out of 3602176 in this sample\n",
      "Analysed a total of: 7750000 events out of 3602176 in this sample\n",
      "Writting with name option: data \n",
      "end of ROOT execution\n"
     ]
    },
    {
     "name": "stderr",
     "output_type": "stream",
     "text": [
      "Info in <TUnixSystem::ACLiC>: creating shared library /home/conroy/OpenData/notebooks-collection-opendata/atlas-demo-Hyy/atlas-outreach-cpp-framework-13tev/Analysis/HyyAnalysis/./main_HyyAnalysis_web_C.so\n",
      "Info in <TUnixSystem::ACLiC>: creating shared library /home/conroy/OpenData/notebooks-collection-opendata/atlas-demo-Hyy/atlas-outreach-cpp-framework-13tev/Analysis/HyyAnalysis/./HyyAnalysis_C.so\n"
     ]
    }
   ],
   "source": [
    "command4 = \"./run_web.sh\"\n",
    "os.system(command4)"
   ]
  },
  {
   "cell_type": "markdown",
   "metadata": {},
   "source": [
    "#### Now the analysis is done"
   ]
  },
  {
   "cell_type": "markdown",
   "metadata": {},
   "source": [
    "Inside that directory **Output_HyyAnalysis** you will find the output root file: data.root"
   ]
  },
  {
   "cell_type": "code",
   "execution_count": 19,
   "metadata": {
    "scrolled": true
   },
   "outputs": [
    {
     "name": "stdout",
     "output_type": "stream",
     "text": [
      "-rw-r--r-- 1 conroy pp-atlas 4.6K Feb 24 18:03 Output_HyyAnalysis/data.root\n",
      "\n"
     ]
    }
   ],
   "source": [
    "myCmd = os.popen('ls -lhrt Output_HyyAnalysis/*').read()\n",
    "print(myCmd)"
   ]
  },
  {
   "cell_type": "markdown",
   "metadata": {},
   "source": [
    "Now we will run over MC samples"
   ]
  },
  {
   "cell_type": "code",
   "execution_count": 20,
   "metadata": {},
   "outputs": [
    {
     "data": {
      "text/plain": [
       "0"
      ]
     },
     "execution_count": 20,
     "metadata": {},
     "output_type": "execute_result"
    },
    {
     "name": "stdout",
     "output_type": "stream",
     "text": [
      "Will always run all data and MC one after another!\n",
      "Option is 2\n",
      "Will always set PROOF to false for now!\n",
      "PROOF option is 0\n",
      "starting ROOT\n",
      "Starting analysis with process option: ggH125_gamgam \n",
      "Analysed a total of: 50000 events out of 1054711 in this sample\n",
      "Analysed a total of: 100000 events out of 1054711 in this sample\n",
      "Analysed a total of: 150000 events out of 1054711 in this sample\n",
      "Analysed a total of: 200000 events out of 1054711 in this sample\n",
      "Analysed a total of: 250000 events out of 1054711 in this sample\n",
      "Analysed a total of: 300000 events out of 1054711 in this sample\n",
      "Analysed a total of: 350000 events out of 1054711 in this sample\n",
      "Analysed a total of: 400000 events out of 1054711 in this sample\n",
      "Analysed a total of: 450000 events out of 1054711 in this sample\n",
      "Analysed a total of: 500000 events out of 1054711 in this sample\n",
      "Analysed a total of: 550000 events out of 1054711 in this sample\n",
      "Analysed a total of: 600000 events out of 1054711 in this sample\n",
      "Analysed a total of: 650000 events out of 1054711 in this sample\n",
      "Analysed a total of: 700000 events out of 1054711 in this sample\n",
      "Analysed a total of: 750000 events out of 1054711 in this sample\n",
      "Analysed a total of: 800000 events out of 1054711 in this sample\n",
      "Analysed a total of: 850000 events out of 1054711 in this sample\n",
      "Analysed a total of: 900000 events out of 1054711 in this sample\n",
      "Analysed a total of: 950000 events out of 1054711 in this sample\n",
      "Analysed a total of: 1000000 events out of 1054711 in this sample\n",
      "Analysed a total of: 1050000 events out of 1054711 in this sample\n",
      "Writting with name option: ggH125_gamgam \n",
      "Starting analysis with process option: VBFH125_gamgam \n",
      "Analysed a total of: 50000 events out of 497468 in this sample\n",
      "Analysed a total of: 100000 events out of 497468 in this sample\n",
      "Analysed a total of: 150000 events out of 497468 in this sample\n",
      "Analysed a total of: 200000 events out of 497468 in this sample\n",
      "Analysed a total of: 250000 events out of 497468 in this sample\n",
      "Analysed a total of: 300000 events out of 497468 in this sample\n",
      "Analysed a total of: 350000 events out of 497468 in this sample\n",
      "Analysed a total of: 400000 events out of 497468 in this sample\n",
      "Analysed a total of: 450000 events out of 497468 in this sample\n",
      "Writting with name option: VBFH125_gamgam \n",
      "Starting analysis with process option: WH125_gamgam \n",
      "Analysed a total of: 50000 events out of 113765 in this sample\n",
      "Analysed a total of: 100000 events out of 113765 in this sample\n",
      "Writting with name option: WH125_gamgam \n",
      "Starting analysis with process option: ZH125_gamgam \n",
      "Analysed a total of: 50000 events out of 230900 in this sample\n",
      "Analysed a total of: 100000 events out of 230900 in this sample\n",
      "Analysed a total of: 150000 events out of 230900 in this sample\n",
      "Analysed a total of: 200000 events out of 230900 in this sample\n",
      "Writting with name option: ZH125_gamgam \n",
      "Starting analysis with process option: ttH125_gamgam \n",
      "Analysed a total of: 50000 events out of 576491 in this sample\n",
      "Analysed a total of: 100000 events out of 576491 in this sample\n",
      "Analysed a total of: 150000 events out of 576491 in this sample\n",
      "Analysed a total of: 200000 events out of 576491 in this sample\n",
      "Analysed a total of: 250000 events out of 576491 in this sample\n",
      "Analysed a total of: 300000 events out of 576491 in this sample\n",
      "Analysed a total of: 350000 events out of 576491 in this sample\n",
      "Analysed a total of: 400000 events out of 576491 in this sample\n",
      "Analysed a total of: 450000 events out of 576491 in this sample\n",
      "Analysed a total of: 500000 events out of 576491 in this sample\n",
      "Analysed a total of: 550000 events out of 576491 in this sample\n",
      "Writting with name option: ttH125_gamgam \n",
      "end of ROOT execution\n"
     ]
    },
    {
     "name": "stderr",
     "output_type": "stream",
     "text": [
      "Info in <ACLiC>: unmodified script has already been compiled and loaded\n",
      "Info in <ACLiC>: unmodified script has already been compiled and loaded\n",
      "Info in <ACLiC>: unmodified script has already been compiled and loaded\n",
      "Info in <ACLiC>: unmodified script has already been compiled and loaded\n"
     ]
    }
   ],
   "source": [
    "command4 = \"./run_web2.sh\"\n",
    "os.system(command4)"
   ]
  },
  {
   "cell_type": "markdown",
   "metadata": {},
   "source": [
    "**only** if there are 5 root files, you can proceed with plotting"
   ]
  },
  {
   "cell_type": "code",
   "execution_count": 21,
   "metadata": {},
   "outputs": [
    {
     "name": "stdout",
     "output_type": "stream",
     "text": [
      "-rw-r--r-- 1 conroy pp-atlas 4.6K Feb 24 18:03 Output_HyyAnalysis/data.root\n",
      "-rw-r--r-- 1 conroy pp-atlas 5.2K Feb 24 18:06 Output_HyyAnalysis/ggH125_gamgam.root\n",
      "-rw-r--r-- 1 conroy pp-atlas 5.2K Feb 24 18:08 Output_HyyAnalysis/VBFH125_gamgam.root\n",
      "-rw-r--r-- 1 conroy pp-atlas 5.1K Feb 24 18:08 Output_HyyAnalysis/WH125_gamgam.root\n",
      "-rw-r--r-- 1 conroy pp-atlas 5.2K Feb 24 18:09 Output_HyyAnalysis/ZH125_gamgam.root\n",
      "-rw-r--r-- 1 conroy pp-atlas 5.2K Feb 24 18:12 Output_HyyAnalysis/ttH125_gamgam.root\n",
      "\n"
     ]
    }
   ],
   "source": [
    "myCmd = os.popen('ls -lhrt Output_HyyAnalysis/*').read()\n",
    "print(myCmd)"
   ]
  },
  {
   "cell_type": "markdown",
   "metadata": {},
   "source": [
    "### Let's run the Plotting code"
   ]
  },
  {
   "cell_type": "code",
   "execution_count": 22,
   "metadata": {},
   "outputs": [],
   "source": [
    "os.chdir(\"../../Plotting/\")"
   ]
  },
  {
   "cell_type": "code",
   "execution_count": 23,
   "metadata": {},
   "outputs": [
    {
     "name": "stdout",
     "output_type": "stream",
     "text": [
      "/home/conroy/OpenData/notebooks-collection-opendata/atlas-demo-Hyy/atlas-outreach-cpp-framework-13tev/Plotting\n",
      "\n"
     ]
    }
   ],
   "source": [
    "myCmd = os.popen('pwd').read()\n",
    "print(myCmd)"
   ]
  },
  {
   "cell_type": "code",
   "execution_count": 24,
   "metadata": {},
   "outputs": [
    {
     "name": "stdout",
     "output_type": "stream",
     "text": [
      "total 124K\n",
      "-rw-r--r-- 1 conroy pp-atlas  600 Feb 24 17:33 Makefile\n",
      "-rw-r--r-- 1 conroy pp-atlas  88K Feb 24 17:33 Plotting.cxx\n",
      "-rw-r--r-- 1 conroy pp-atlas 1.7K Feb 24 17:33 Plotting.h\n",
      "-rwxr-xr-x 1 conroy pp-atlas  185 Feb 24 17:33 clean.sh\n",
      "drwxr-xr-x 2 conroy pp-atlas 4.0K Feb 24 17:33 inputfiles\n",
      "drwxr-xr-x 2 conroy pp-atlas 4.0K Feb 24 17:33 list_histos\n",
      "-rwxr-xr-x 1 conroy pp-atlas 2.7K Feb 24 17:33 plotme.sh\n",
      "-rwxr-xr-x 1 conroy pp-atlas 2.3K Feb 24 17:33 plotme_web.sh\n",
      "-rwxr-xr-x 1 conroy pp-atlas  410 Feb 24 17:33 plotme_Hyyweb.sh\n",
      "drwxr-xr-x 2 conroy pp-atlas 4.0K Feb 24 17:33 histograms\n",
      "\n"
     ]
    }
   ],
   "source": [
    "myCmd = os.popen('ls -lhrt').read()\n",
    "print(myCmd)"
   ]
  },
  {
   "cell_type": "markdown",
   "metadata": {},
   "source": [
    "Check that the directory **histograms** is there! If not, **create it**"
   ]
  },
  {
   "cell_type": "code",
   "execution_count": 25,
   "metadata": {},
   "outputs": [],
   "source": [
    "#command5 = 'mkdir histograms/'\n",
    "#os.system(command5)"
   ]
  },
  {
   "cell_type": "code",
   "execution_count": 26,
   "metadata": {},
   "outputs": [
    {
     "data": {
      "text/plain": [
       "0"
      ]
     },
     "execution_count": 26,
     "metadata": {},
     "output_type": "execute_result"
    },
    {
     "name": "stdout",
     "output_type": "stream",
     "text": [
      "\n",
      " ---------------------DISCLAIMER--------------------- \n",
      "\n",
      "This Software is intended for educational use only!\n",
      "Under no circumstances does it qualify to reproduce actual ATLAS analysis results or produce publishable results! \n",
      "\n",
      " ---------------------------------------------------- \n",
      "\n",
      "Analysis option found, proceeding...\n",
      "Reading list of histograms from: list_histos/HistoList_HyyAnalysis.txt \n",
      " \n",
      "Analysis: HyyAnalysis, reading input from: inputfiles/Files_Hyy.txt \n",
      " \n",
      "Reading files from: ../Analysis/HyyAnalysis/Output_HyyAnalysis \n",
      " \n",
      "=====processing HyyAnalysis=====\n",
      "\n",
      "\n",
      "Plotting histogram: hist_mYY_bin1\n",
      " === Fitting a 3rd-order polynomial + Gaussian to data == \n",
      " FCN=19.9698 FROM HESSE     STATUS=NOT POSDEF     23 CALLS         158 TOTAL\n",
      "                     EDM=2.2548e-13    STRATEGY= 1      ERR MATRIX NOT POS-DEF\n",
      "  EXT PARAMETER                APPROXIMATE        STEP         FIRST   \n",
      "  NO.   NAME      VALUE            ERROR          SIZE      DERIVATIVE \n",
      "   1  p0           9.42873e+04   7.20535e+01   2.24798e-02   2.99446e-09\n",
      "   2  p1          -1.77637e+03   7.78161e-01   4.23521e-04  -3.96765e-07\n",
      "   3  p2           1.15543e+01   5.36058e-03   2.75476e-06  -3.60119e-05\n",
      "   4  p3          -2.56128e-02   2.66825e-05   6.10657e-09   7.99461e-03\n",
      "   5  p4           1.19100e+02     fixed    \n",
      "   6  p5           1.25000e+02     fixed    \n",
      "   7  p6           2.38000e+00     fixed    \n",
      "Chi2/NDF: 0.768069\n",
      " ================================ \n",
      "Plotting histogram: hist_mYY_cat_bin1\n",
      " === Fitting a 3rd-order polynomial + Gaussian to data == \n",
      " FCN=19.8163 FROM HESSE     STATUS=NOT POSDEF     23 CALLS         160 TOTAL\n",
      "                     EDM=7.37537e-14    STRATEGY= 1      ERR MATRIX NOT POS-DEF\n",
      "  EXT PARAMETER                APPROXIMATE        STEP         FIRST   \n",
      "  NO.   NAME      VALUE            ERROR          SIZE      DERIVATIVE \n",
      "   1  p0           1.10021e+04   2.37578e+01   2.62311e-03   4.23518e-09\n",
      "   2  p1          -2.06414e+02   2.55645e-01   4.92130e-05  -7.69804e-07\n",
      "   3  p2           1.33405e+00   1.75569e-03   3.18062e-07  -6.95380e-05\n",
      "   4  p3          -2.93682e-03   8.73693e-06   7.00192e-10   1.40827e-02\n",
      "   5  p4           2.32000e+01     fixed    \n",
      "   6  p5           1.25000e+02     fixed    \n",
      "   7  p6           1.83000e+00     fixed    \n",
      "Chi2/NDF: 0.762166\n",
      " ================================ \n"
     ]
    },
    {
     "name": "stderr",
     "output_type": "stream",
     "text": [
      "Info in <TUnixSystem::ACLiC>: creating shared library /home/conroy/OpenData/notebooks-collection-opendata/atlas-demo-Hyy/atlas-outreach-cpp-framework-13tev/Plotting/./Plotting_cxx.so\n",
      "Info in <TCanvas::Print>: png file histograms/hist_mYY_bin1.png has been created\n",
      "Info in <TCanvas::Print>: png file histograms/hist_mYY_cat_bin1.png has been created\n"
     ]
    }
   ],
   "source": [
    "command5 = \"./plotme_Hyyweb.sh\"\n",
    "os.system(command5)"
   ]
  },
  {
   "cell_type": "code",
   "execution_count": 27,
   "metadata": {},
   "outputs": [
    {
     "name": "stdout",
     "output_type": "stream",
     "text": [
      "-rw-r--r-- 1 conroy pp-atlas 27K Feb 24 18:12 histograms/hist_mYY_bin1.png\n",
      "-rw-r--r-- 1 conroy pp-atlas 31K Feb 24 18:12 histograms/hist_mYY_cat_bin1.png\n",
      "\n"
     ]
    }
   ],
   "source": [
    "myCmd = os.popen('ls -lhrt histograms/*png').read()\n",
    "print(myCmd)"
   ]
  },
  {
   "cell_type": "markdown",
   "metadata": {},
   "source": [
    "<CENTER>\n",
    "    <h2> The two photons invariant mass </h2>\n",
    "    <img src=\"atlas-demo-Hyy/atlas-outreach-cpp-framework-13tev/Plotting/histograms/hist_mYY_bin1.png\"  alt=\"mass\" width=\"700\" height=\"400\">\n",
    "</CENTER>"
   ]
  },
  {
   "cell_type": "code",
   "execution_count": 28,
   "metadata": {},
   "outputs": [
    {
     "name": "stdout",
     "output_type": "stream",
     "text": [
      "Finished in 38 min 57 s\n"
     ]
    }
   ],
   "source": [
    "end = time.time()\n",
    "duration = end-start\n",
    "print(\"Finished in {} min {} s\".format(int(duration//60),int(duration%60))) # Python3"
   ]
  },
  {
   "cell_type": "markdown",
   "metadata": {},
   "source": [
    "### Done!"
   ]
  },
  {
   "cell_type": "markdown",
   "metadata": {},
   "source": [
    "Finally, you can compare it to the ATLAS plot from a published [paper](https://arxiv.org/abs/1802.04146) that uses **3 times more data!**\n",
    "\n",
    "<CENTER>\n",
    "    <img src=\"http://atlas.web.cern.ch/Atlas/GROUPS/PHYSICS/PAPERS/HIGG-2016-21/fig_09.png\"  alt=\"mass\" width=\"350\" height=\"200\">\n",
    "</CENTER>"
   ]
  },
  {
   "cell_type": "code",
   "execution_count": null,
   "metadata": {},
   "outputs": [],
   "source": []
  },
  {
   "cell_type": "code",
   "execution_count": null,
   "metadata": {},
   "outputs": [],
   "source": []
  }
 ],
 "metadata": {
  "kernelspec": {
   "display_name": "Python 3",
   "language": "python",
   "name": "python3"
  },
  "language_info": {
   "codemirror_mode": {
    "name": "ipython",
    "version": 3
   },
   "file_extension": ".py",
   "mimetype": "text/x-python",
   "name": "python",
   "nbconvert_exporter": "python",
   "pygments_lexer": "ipython3",
   "version": "3.7.6"
  }
 },
 "nbformat": 4,
 "nbformat_minor": 1
}
