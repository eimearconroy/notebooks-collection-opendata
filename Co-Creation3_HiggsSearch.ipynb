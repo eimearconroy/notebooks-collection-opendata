{
 "cells": [
  {
   "cell_type": "markdown",
   "metadata": {},
   "source": [
    "<CENTER>\n",
    "    <a href=\"http://opendata.atlas.cern/release/2020/documentation/notebooks/intro.html\" class=\"icons\"><img src=\"./images/ATLASOD.gif\" style=\"width:40%\"></a>\n",
    "</CENTER>"
   ]
  },
  {
   "cell_type": "markdown",
   "metadata": {},
   "source": [
    "<CENTER><h1>Searching for the Higgs boson </h1></CENTER>\n",
    "\n",
    "\n",
    "Below are some Feyman diagrams of ways the Higgs boson can be produced according to the Standard Model:\n",
    "\n",
    "<br>\n",
    "\n",
    "<CENTER><img src=\"https://cds.cern.ch/record/2243593/files/Figures_FeynmanHprod.png\" style=\"width:50%\"></CENTER>"
   ]
  },
  {
   "cell_type": "markdown",
   "metadata": {},
   "source": [
    "Just as the Higgs can be produced in several ways, the Higgs can also decay in a number of ways or 'channels'. In this excercise, we will be searching for the Higgs in two different decay channels."
   ]
  },
  {
   "cell_type": "markdown",
   "metadata": {},
   "source": [
    "---"
   ]
  },
  {
   "cell_type": "markdown",
   "metadata": {},
   "source": [
    "### Warning:\n",
    "\n",
    "\n",
    "Some of the datafiles used in this notebook have millions of events - Don't be surpised if running some of the event loops takes up to 10 mins!"
   ]
  },
  {
   "cell_type": "markdown",
   "metadata": {},
   "source": [
    "---"
   ]
  },
  {
   "cell_type": "markdown",
   "metadata": {},
   "source": [
    "<CENTER><h2>Search 1: The H&#8594;&gamma;&gamma; channel</h2></CENTER>"
   ]
  },
  {
   "cell_type": "markdown",
   "metadata": {},
   "source": [
    "<CENTER><img src=\"./images/higgsFD.png\" style=\"width:30%\"></CENTER>\n",
    "\n",
    "<br>\n",
    "  \n",
    "One of the ways the Higgs can decay is to two photons. We call this channel __H&#8594;&gamma;&gamma;__ (\"Higgs to gamma gamma\").\n",
    "\n",
    "\n",
    "Of course, there are other ways two photons can be made in the LHC, but if we look at the entire range of invariant masses of these two photons, we should expect there to be more of them around 125 GeV, the mass of the Higgs (\"bump hunting\")."
   ]
  },
  {
   "cell_type": "markdown",
   "metadata": {},
   "source": [
    "#### Importing the usual libraries"
   ]
  },
  {
   "cell_type": "code",
   "execution_count": 2,
   "metadata": {},
   "outputs": [],
   "source": [
    "import ROOT\n",
    "from ROOT import TMath\n",
    "import time\n",
    "%jsroot"
   ]
  },
  {
   "cell_type": "markdown",
   "metadata": {},
   "source": [
    "### 1. Reading in ROOT files\n",
    "<br>\n",
    "In the usual way:\n",
    "\n",
    "1. Open our datafile containing two photon (\"diphoton\" or $\\gamma\\gamma$) events \n",
    "\n",
    "2. Retrieive the TTree storing the data and \n",
    "\n",
    "3. Get the tree entries \n",
    "\n",
    "<br>\n",
    "\n",
    "As always, if you need hints, refer back to the first tutorial `HistogramTutorial`. If you are really stuck, check out the solutions notebook `HiggsSearch_Solutions`"
   ]
  },
  {
   "cell_type": "markdown",
   "metadata": {},
   "source": [
    "#### a) Open Root File\n",
    "\n",
    "Using `ROOT`, `TFile.Open()` a sample of diphoton data, stored at \n",
    "\n",
    "`https://atlas-opendata.web.cern.ch/atlas-opendata/samples/2020/GamGam/Data/data_A.GamGam.root`\n",
    "\n",
    " "
   ]
  },
  {
   "cell_type": "code",
   "execution_count": 44,
   "metadata": {},
   "outputs": [],
   "source": [
    "#f = ####\n",
    "\n",
    "#To solution:\n",
    "f = ROOT.TFile.Open(\"https://atlas-opendata.web.cern.ch/atlas-opendata/samples/2020/GamGam/Data/data_A.GamGam.root\")"
   ]
  },
  {
   "cell_type": "markdown",
   "metadata": {},
   "source": [
    "#### b) Retrieve TTree\n",
    "\n",
    "`Get()` the TTree named `mini` from the ROOT file `f`"
   ]
  },
  {
   "cell_type": "code",
   "execution_count": 45,
   "metadata": {},
   "outputs": [],
   "source": [
    "#tree = ####\n",
    "\n",
    "#To solution:\n",
    "tree = f.Get(\"mini\")"
   ]
  },
  {
   "cell_type": "markdown",
   "metadata": {},
   "source": [
    "#### c) Load TTree data\n",
    "\n",
    "`GetEntries()` of our `tree` to load in the data for each event stored in the tree"
   ]
  },
  {
   "cell_type": "code",
   "execution_count": 46,
   "metadata": {},
   "outputs": [
    {
     "data": {
      "text/plain": [
       "430344"
      ]
     },
     "execution_count": 46,
     "metadata": {},
     "output_type": "execute_result"
    }
   ],
   "source": [
    "####\n",
    "\n",
    "#To solution:\n",
    "tree.GetEntries()"
   ]
  },
  {
   "cell_type": "markdown",
   "metadata": {},
   "source": [
    "### 2. Preparing histograms\n",
    "<br>\n",
    "\n",
    "As in previous examples, before we are ready to fill our histograms we need to:\n",
    "\n",
    "1. Create a canvas for the histogram to be drawn onto\n",
    "\n",
    "2. Define the settings of the histograms we intend to draw"
   ]
  },
  {
   "cell_type": "markdown",
   "metadata": {},
   "source": [
    "#### a) Create canvas\n",
    "\n",
    "Using `ROOT`, create a `TCanvas` named `\"Canvas\"` with the title `'cz'` that's sized `800`x`600` pixels"
   ]
  },
  {
   "cell_type": "code",
   "execution_count": 47,
   "metadata": {},
   "outputs": [
    {
     "name": "stderr",
     "output_type": "stream",
     "text": [
      "Warning in <TCanvas::Constructor>: Deleting canvas with same name: Canvas\n"
     ]
    }
   ],
   "source": [
    "#canvas = ####\n",
    "\n",
    "#To solution\n",
    "canvas = ROOT.TCanvas(\"Canvas\",\"cz\",800,600)"
   ]
  },
  {
   "cell_type": "markdown",
   "metadata": {},
   "source": [
    "#### b) Set up histogram \n",
    "\n",
    "Set up a `TH1F` type histogram to be filled with our __diphoton invariant masses__. Name it `h_M_Hyy`, give it the title `Diphoton invariant-mass`, label the x and y axes `Invariant Mass m_{yy} [GeV]` and `events` respectively and divide it in `30` bins between `105` and `160` GeV.\n",
    "\n",
    "__Hint:__ Remember how we separate names, titles and axis labels in the `TH1F` function?"
   ]
  },
  {
   "cell_type": "code",
   "execution_count": 48,
   "metadata": {},
   "outputs": [],
   "source": [
    "#Invariant mass histograms definition\n",
    "#hist = ####\n",
    "\n",
    "#To solution\n",
    "hist = ROOT.TH1F(\"h_M_Hyy\",\"Diphoton invariant-mass ; Invariant Mass m_{yy} [GeV] ; events\",30,105,160)"
   ]
  },
  {
   "cell_type": "markdown",
   "metadata": {},
   "source": [
    "### 3. Selecting events and filling histograms"
   ]
  },
  {
   "cell_type": "markdown",
   "metadata": {},
   "source": [
    "Our strategy for filling our diphoton invariant mass histogram is as follows:\n",
    "\n",
    "1. Loop through each `event` in our `tree`. We can print out how many events have been processed every 100000 events to keep track of progress.\n",
    "\n",
    "2. In each event, search for _'good quality photons'_ (more on this later).\n",
    "\n",
    "3. If there are exactly two qood quality photons, check that they are _'well isolated'_ (again, more later).\n",
    "\n",
    "4. If the two photons are well-isolated, extract their 4 momentum from the components' individual TTree branches, converting their transverse momentum (pT) and energy (E) from MeV, as is stored in the TTree, to GeV as will be displayed in the histogram.\n",
    "\n",
    "5. Add the TLorentz vectors of the two photons together\n",
    "\n",
    "6. Fill the histogram with the invariant mass of our two-photon system"
   ]
  },
  {
   "cell_type": "markdown",
   "metadata": {},
   "source": [
    "__NOTE:__ To simplify our code, we will be writing some custom __functions__ to handle some of the more complicated\n",
    "operations performed in each event"
   ]
  },
  {
   "cell_type": "markdown",
   "metadata": {},
   "source": [
    "#### a) Loop tracker"
   ]
  },
  {
   "cell_type": "code",
   "execution_count": 2,
   "metadata": {},
   "outputs": [],
   "source": [
    "def trackProgress(n,m):\n",
    "    \"\"\"\n",
    "    Function which prints the event loop progress every m events \n",
    "    \n",
    "    Parameters\n",
    "    ----------\n",
    "    n : Number of events processed so far\n",
    "    \n",
    "    m : Printout event interval\n",
    "    \n",
    "    \"\"\"\n",
    "    if n == 0:\n",
    "        print(\"Event loop tracker\")\n",
    "        print(\"------------------\")\n",
    "    \n",
    "    if(n%m==0):\n",
    "        print(\"%d events processed\" % n)"
   ]
  },
  {
   "cell_type": "markdown",
   "metadata": {},
   "source": [
    "#### b) Photon quality"
   ]
  },
  {
   "cell_type": "code",
   "execution_count": 50,
   "metadata": {},
   "outputs": [],
   "source": [
    "#@NOTE: Explain 'triggers'\n",
    "\n",
    "def locateGoodPhotons(tree):\n",
    "    \"\"\"\n",
    "    Function which returns the index of photons in the event which pass our quality requirements.\n",
    "    These are:\n",
    "        - Event passes photon trigger\n",
    "        - Photon is identified as such, passing 'Tight' requirements\n",
    "        - Photon has pT > 25 GeV (or 25000 MeV)\n",
    "        - Photon is in the 'central' region of ATLAS i.e. |eta| < 2.37\n",
    "        - Photon does not fall in the 'transition region' between ATLAS's inner detector barrell\n",
    "          and ECal encap i.e. 1.37 <= |eta| <= 1.52\n",
    "          \n",
    "    Parameters\n",
    "    ----------\n",
    "    tree : TTree entry for this event\n",
    "    \n",
    "    \"\"\"\n",
    "    \n",
    "    ## Checking the event passes the photon trigger\n",
    "    if(tree.trigP):\n",
    "        \n",
    "        #Initialise (set up) the variables we want to return\n",
    "        goodphoton_index = [] #Indices (position in list of event's photons) of our good photons\n",
    "            \n",
    "        ##Loop through all the photons in the event\n",
    "        for j in range(0,tree.photon_n):\n",
    "            \n",
    "            ##Check photon ID\n",
    "            if(tree.photon_isTightID[j]):\n",
    "                \n",
    "                if(tree.photon_pt[j] > 25000 and  #Check photon has a large enough pT\n",
    "                  (TMath.Abs(tree.photon_eta[j]) < 2.37) and  #Check photon eta is in the 'central' region\n",
    "                  \n",
    "                  #Exclude \"transition region\" between ID barrell and ECal endcap\n",
    "                  (TMath.Abs(tree.photon_eta[j]) < 1.37 or TMath.Abs(tree.photon_eta[j]) > 1.52)):\n",
    "\n",
    "                    goodphoton_index.append(j) #Store photon's index\n",
    "                    \n",
    "        return goodphoton_index #return list of good photon indices"
   ]
  },
  {
   "cell_type": "markdown",
   "metadata": {},
   "source": [
    "#### c) Photon isolation"
   ]
  },
  {
   "cell_type": "code",
   "execution_count": 40,
   "metadata": {},
   "outputs": [],
   "source": [
    "def photonIsolation(tree,photon_indices):\n",
    "    \"\"\"\n",
    "    Function which returns True if all photons are well-isolated, otherwise returns false.\n",
    "    \n",
    "    A photon is considered 'isolated' if the transverse momentum and transverse energy within \n",
    "    a particular radius of the photon is below a certain threshold compared to the photon's \n",
    "    transverse momentum (don't worry too much about the details!).\n",
    "    \n",
    "    Parameters\n",
    "    ----------\n",
    "    tree : TTree entry for this event\n",
    "    \n",
    "    photon_indices : List containing the indices in the TTree of our photons of interest\n",
    "    \n",
    "    \"\"\"\n",
    "    \n",
    "    #Loop through our list of photon indices\n",
    "    for i in photon_indices:\n",
    "        \n",
    "        #If each photon passes isolation requirements...\n",
    "        if((tree.photon_ptcone30[i]/tree.photon_pt[i] < 0.065) and \n",
    "           (tree.photon_etcone20[i] / tree.photon_pt[i] < 0.065)):\n",
    "            continue #...keep the loop going \n",
    "        \n",
    "        #If any fail, break the loop and return False\n",
    "        else: \n",
    "            return False\n",
    "    \n",
    "    #If the loop is able to finish, i.e. all photons are well-isolated, return True\n",
    "    return True"
   ]
  },
  {
   "cell_type": "markdown",
   "metadata": {},
   "source": [
    "#### d) Extracting four-momentum"
   ]
  },
  {
   "cell_type": "code",
   "execution_count": 52,
   "metadata": {},
   "outputs": [],
   "source": [
    "def photonFourMomentum(tree, photon_indices):\n",
    "    \"\"\"\n",
    "    Function which returns the 4 momenta of a list of photons in an event as a list of TLorentzVectors\n",
    "    \n",
    "    Parameters\n",
    "    ----------\n",
    "    tree : TTree entry for this event\n",
    "    \n",
    "    photon_indices : List containing the indices in the TTree of our photons of interest\n",
    "    \n",
    "    \"\"\"\n",
    "    \n",
    "    photon_four_momenta = []\n",
    "    \n",
    "    #Loop through our list of photon indices\n",
    "    for i in photon_indices:\n",
    "    \n",
    "        #Initialse (set up) an empty 4 vector for each photon\n",
    "        Photon_i = ROOT.TLorentzVector()\n",
    "        \n",
    "        #Retrieve the photon's 4 momentum components from the tree\n",
    "        #Convert from MeV to GeV where needed\n",
    "        Photon_i.SetPtEtaPhiE(tree.photon_pt[i]/1000., tree.photon_eta[i],tree.photon_phi[i],tree.photon_E[i]/1000.)\n",
    "        \n",
    "        #Store photon's 4 momentum\n",
    "        photon_four_momenta.append(Photon_i)\n",
    "        \n",
    "        \n",
    "    return photon_four_momenta"
   ]
  },
  {
   "cell_type": "markdown",
   "metadata": {},
   "source": [
    "#### e) Sum the 4 momenta of each photon in the event"
   ]
  },
  {
   "cell_type": "code",
   "execution_count": 53,
   "metadata": {},
   "outputs": [],
   "source": [
    "def sumFourMomentum(four_momenta):\n",
    "    \"\"\"\n",
    "    Function which sums a list of four-momenta, and returns the resultant four-momentum of the system\n",
    "    \n",
    "    Parameters\n",
    "    ----------\n",
    "    four_momenta : List of TLorentzVectors containing the four-momentum of each object in the system\n",
    "    \n",
    "    \"\"\"\n",
    "    \n",
    "    # Initialise (set up) TLorentzVector for our momentum sum\n",
    "    four_mom_sum = ROOT.TLorentzVector()\n",
    "    \n",
    "    for obj in four_momenta:\n",
    "        four_mom_sum += obj\n",
    "        \n",
    "    return four_mom_sum"
   ]
  },
  {
   "cell_type": "markdown",
   "metadata": {},
   "source": [
    "### Putting it all together!"
   ]
  },
  {
   "cell_type": "code",
   "execution_count": 54,
   "metadata": {},
   "outputs": [
    {
     "name": "stdout",
     "output_type": "stream",
     "text": [
      "100000 events processed\n",
      "200000 events processed\n",
      "300000 events processed\n",
      "400000 events processed\n"
     ]
    }
   ],
   "source": [
    "n = 0\n",
    "for event in tree:\n",
    "    \n",
    "    #a) Loop progress tracking: Print progress every 100,000 events\n",
    "    trackProgress(n,100000)\n",
    "    n += 1\n",
    "    \n",
    "    #b) Identify exactly two 'good quality photons'\n",
    "    goodphoton_indices = locateGoodPhotons(tree)\n",
    "    \n",
    "    if len(goodphoton_indices) == 2:\n",
    "        \n",
    "        #c) Check our good quality photons are well-isolated\n",
    "        photons_are_isolated = photonIsolation(tree,goodphoton_indices)\n",
    "        \n",
    "        if photons_are_isolated:\n",
    "        \n",
    "            #d) Convert 4-momentum from MeV to GeV\n",
    "            photon_four_momenta = photonFourMomentum(tree, goodphoton_indices)\n",
    "            \n",
    "            #e) Add the 4-momenta together\n",
    "            Photon_12 = sumFourMomentum(photon_four_momenta)\n",
    "            \n",
    "            #f) Fill the histogram with the diphoton invariant mass\n",
    "            inv_mass = Photon_12.M() #Calculated invariant mass\n",
    "            \n",
    "            hist.Fill(inv_mass) #Fill histogram with invariant mass"
   ]
  },
  {
   "cell_type": "markdown",
   "metadata": {},
   "source": [
    "### 4. Draw plots\n",
    "\n",
    "Finally, we would like to draw our diphoton invariant mass histograms and display the canvas showing our results. \n",
    "\n",
    "For this study, we would also like to plot the __error bars__ for each bin to illustrate the (statistical) __uncertainties__ on our measurement. This is done by passing `\"E\"` as an argument to `Draw()` when drawing the _histogram_."
   ]
  },
  {
   "cell_type": "code",
   "execution_count": 55,
   "metadata": {},
   "outputs": [
    {
     "data": {
      "text/html": [
       "\n",
       "<div id=\"root_plot_4\"\n",
       "     style=\"width: 796px; height: 572px\">\n",
       "</div>\n",
       "\n",
       "<script>\n",
       " requirejs.config({\n",
       "     paths: {\n",
       "       'JSRootCore' : 'https://root.cern.ch/js/notebook//scripts/JSRootCore',\n",
       "     }\n",
       "   });\n",
       " require(['JSRootCore'],\n",
       "     function(Core) {\n",
       "       var obj = Core.JSONR_unref({\"_typename\":\"TCanvas\",\"fUniqueID\":0,\"fBits\":53673992,\"fLineColor\":1,\"fLineStyle\":1,\"fLineWidth\":1,\"fFillColor\":0,\"fFillStyle\":1001,\"fLeftMargin\":0.1,\"fRightMargin\":0.1,\"fBottomMargin\":0.1,\"fTopMargin\":0.1,\"fXfile\":2,\"fYfile\":2,\"fAfile\":1,\"fXstat\":0.99,\"fYstat\":0.99,\"fAstat\":2,\"fFrameFillColor\":0,\"fFrameLineColor\":1,\"fFrameFillStyle\":1001,\"fFrameLineStyle\":1,\"fFrameLineWidth\":1,\"fFrameBorderSize\":1,\"fFrameBorderMode\":0,\"fX1\":98.1249994877726,\"fY1\":24.588892189593,\"fX2\":166.875000512227,\"fY2\":407.161801897923,\"fXtoAbsPixelk\":-1136.10901804908,\"fXtoPixelk\":-1136.10901804908,\"fXtoPixel\":11.5781816456535,\"fYtoAbsPixelk\":608.763882397778,\"fYtoPixelk\":608.763882397778,\"fYtoPixel\":-1.49513984258867,\"fUtoAbsPixelk\":5e-5,\"fUtoPixelk\":5e-5,\"fUtoPixel\":796,\"fVtoAbsPixelk\":572.00005,\"fVtoPixelk\":572,\"fVtoPixel\":-572,\"fAbsPixeltoXk\":98.1249994877726,\"fPixeltoXk\":98.1249994877726,\"fPixeltoX\":0.086369348020672,\"fAbsPixeltoYk\":407.161801897923,\"fPixeltoYk\":24.588892189593,\"fPixeltoY\":-0.668833758231346,\"fXlowNDC\":0,\"fYlowNDC\":0,\"fXUpNDC\":0,\"fYUpNDC\":0,\"fWNDC\":1,\"fHNDC\":1,\"fAbsXlowNDC\":0,\"fAbsYlowNDC\":0,\"fAbsWNDC\":1,\"fAbsHNDC\":1,\"fUxmin\":105,\"fUymin\":62.8461854407384,\"fUxmax\":160,\"fUymax\":368.904508646778,\"fTheta\":30,\"fPhi\":30,\"fAspectRatio\":0,\"fNumber\":0,\"fTickx\":0,\"fTicky\":0,\"fLogx\":0,\"fLogy\":0,\"fLogz\":0,\"fPadPaint\":0,\"fCrosshair\":0,\"fCrosshairPos\":0,\"fBorderSize\":2,\"fBorderMode\":0,\"fModified\":false,\"fGridx\":false,\"fGridy\":false,\"fAbsCoord\":false,\"fEditable\":true,\"fFixedAspectRatio\":false,\"fPrimitives\":{\"_typename\":\"TList\",\"name\":\"TList\",\"arr\":[{\"_typename\":\"TFrame\",\"fUniqueID\":0,\"fBits\":50331656,\"fLineColor\":1,\"fLineStyle\":1,\"fLineWidth\":1,\"fFillColor\":0,\"fFillStyle\":1001,\"fX1\":105,\"fY1\":62.8461854407384,\"fX2\":160,\"fY2\":368.904508646778,\"fBorderSize\":1,\"fBorderMode\":0},{\"_typename\":\"TH1F\",\"fUniqueID\":0,\"fBits\":50331656,\"fName\":\"h_M_Hyy\",\"fTitle\":\"Diphoton invariant-mass \",\"fLineColor\":602,\"fLineStyle\":1,\"fLineWidth\":1,\"fFillColor\":0,\"fFillStyle\":1001,\"fMarkerColor\":1,\"fMarkerStyle\":1,\"fMarkerSize\":1,\"fNcells\":32,\"fXaxis\":{\"_typename\":\"TAxis\",\"fUniqueID\":0,\"fBits\":50331648,\"fName\":\"xaxis\",\"fTitle\":\" Invariant Mass m_{yy} [GeV] \",\"fNdivisions\":510,\"fAxisColor\":1,\"fLabelColor\":1,\"fLabelFont\":42,\"fLabelOffset\":0.005,\"fLabelSize\":0.035,\"fTickLength\":0.03,\"fTitleOffset\":1,\"fTitleSize\":0.035,\"fTitleColor\":1,\"fTitleFont\":42,\"fNbins\":30,\"fXmin\":105,\"fXmax\":160,\"fXbins\":[],\"fFirst\":0,\"fLast\":0,\"fBits2\":0,\"fTimeDisplay\":false,\"fTimeFormat\":\"\",\"fLabels\":null,\"fModLabs\":null},\"fYaxis\":{\"_typename\":\"TAxis\",\"fUniqueID\":0,\"fBits\":50331648,\"fName\":\"yaxis\",\"fTitle\":\" events\",\"fNdivisions\":510,\"fAxisColor\":1,\"fLabelColor\":1,\"fLabelFont\":42,\"fLabelOffset\":0.005,\"fLabelSize\":0.035,\"fTickLength\":0.03,\"fTitleOffset\":0,\"fTitleSize\":0.035,\"fTitleColor\":1,\"fTitleFont\":42,\"fNbins\":1,\"fXmin\":0,\"fXmax\":1,\"fXbins\":[],\"fFirst\":0,\"fLast\":0,\"fBits2\":0,\"fTimeDisplay\":false,\"fTimeFormat\":\"\",\"fLabels\":null,\"fModLabs\":null},\"fZaxis\":{\"_typename\":\"TAxis\",\"fUniqueID\":0,\"fBits\":50331648,\"fName\":\"zaxis\",\"fTitle\":\"\",\"fNdivisions\":510,\"fAxisColor\":1,\"fLabelColor\":1,\"fLabelFont\":42,\"fLabelOffset\":0.005,\"fLabelSize\":0.035,\"fTickLength\":0.03,\"fTitleOffset\":1,\"fTitleSize\":0.035,\"fTitleColor\":1,\"fTitleFont\":42,\"fNbins\":1,\"fXmin\":0,\"fXmax\":1,\"fXbins\":[],\"fFirst\":0,\"fLast\":0,\"fBits2\":0,\"fTimeDisplay\":false,\"fTimeFormat\":\"\",\"fLabels\":null,\"fModLabs\":null},\"fBarOffset\":0,\"fBarWidth\":1000,\"fEntries\":20169,\"fTsumw\":5241,\"fTsumw2\":5241,\"fTsumwx\":663960.19156792,\"fTsumwx2\":85338997.8657015,\"fMaximum\":-1111,\"fMinimum\":-1111,\"fNormFactor\":0,\"fContour\":[],\"fSumw2\":[],\"fOption\":\"\",\"fFunctions\":{\"_typename\":\"TList\",\"name\":\"TList\",\"arr\":[{\"_typename\":\"TPaveStats\",\"fUniqueID\":0,\"fBits\":50331657,\"fLineColor\":1,\"fLineStyle\":1,\"fLineWidth\":1,\"fFillColor\":0,\"fFillStyle\":1001,\"fX1\":151.750001393259,\"fY1\":321.082899493861,\"fX2\":165.500001803041,\"fY2\":382.294563679006,\"fX1NDC\":0.780000016093254,\"fY1NDC\":0.775000005960464,\"fX2NDC\":0.980000019073486,\"fY2NDC\":0.935000002384186,\"fBorderSize\":1,\"fInit\":1,\"fShadowColor\":1,\"fCornerRadius\":0,\"fOption\":\"brNDC\",\"fName\":\"stats\",\"fTextAngle\":0,\"fTextSize\":0,\"fTextAlign\":12,\"fTextColor\":1,\"fTextFont\":42,\"fLabel\":\"\",\"fLongest\":18,\"fMargin\":0.05,\"fLines\":{\"_typename\":\"TList\",\"name\":\"TList\",\"arr\":[{\"_typename\":\"TLatex\",\"fUniqueID\":0,\"fBits\":50331648,\"fName\":\"\",\"fTitle\":\"h_M_Hyy\",\"fTextAngle\":0,\"fTextSize\":0.0368,\"fTextAlign\":0,\"fTextColor\":0,\"fTextFont\":0,\"fX\":0,\"fY\":0,\"fLineColor\":1,\"fLineStyle\":1,\"fLineWidth\":2,\"fLimitFactorSize\":3,\"fOriginSize\":0.0368000008165836},{\"_typename\":\"TLatex\",\"fUniqueID\":0,\"fBits\":50331648,\"fName\":\"\",\"fTitle\":\"Entries = 20169  \",\"fTextAngle\":0,\"fTextSize\":0,\"fTextAlign\":0,\"fTextColor\":0,\"fTextFont\":0,\"fX\":0,\"fY\":0,\"fLineColor\":1,\"fLineStyle\":1,\"fLineWidth\":2,\"fLimitFactorSize\":3,\"fOriginSize\":0.04},{\"_typename\":\"TLatex\",\"fUniqueID\":0,\"fBits\":50331648,\"fName\":\"\",\"fTitle\":\"Mean  =  126.7\",\"fTextAngle\":0,\"fTextSize\":0,\"fTextAlign\":0,\"fTextColor\":0,\"fTextFont\":0,\"fX\":0,\"fY\":0,\"fLineColor\":1,\"fLineStyle\":1,\"fLineWidth\":2,\"fLimitFactorSize\":3,\"fOriginSize\":0.04},{\"_typename\":\"TLatex\",\"fUniqueID\":0,\"fBits\":50331648,\"fName\":\"\",\"fTitle\":\"Std Dev   =  15.29\",\"fTextAngle\":0,\"fTextSize\":0,\"fTextAlign\":0,\"fTextColor\":0,\"fTextFont\":0,\"fX\":0,\"fY\":0,\"fLineColor\":1,\"fLineStyle\":1,\"fLineWidth\":2,\"fLimitFactorSize\":3,\"fOriginSize\":0.04}],\"opt\":[\"\",\"\",\"\",\"\"]},\"fOptFit\":0,\"fOptStat\":1111,\"fFitFormat\":\"5.4g\",\"fStatFormat\":\"6.4g\",\"fParent\":{\"$ref\":3}}],\"opt\":[\"brNDC\"]},\"fBufferSize\":0,\"fBuffer\":[],\"fBinStatErrOpt\":0,\"fStatOverflows\":2,\"fArray\":[12179,336,279,265,276,272,225,220,245,211,190,224,179,199,162,154,166,168,140,134,126,105,124,139,120,101,109,108,86,89,89,2749]},{\"_typename\":\"TPaveText\",\"fUniqueID\":0,\"fBits\":50331657,\"fLineColor\":1,\"fLineStyle\":1,\"fLineWidth\":1,\"fFillColor\":0,\"fFillStyle\":0,\"fX1\":116.611494738117,\"fY1\":381.97352438718,\"fX2\":148.388505261883,\"fY2\":405.248939173631,\"fX1NDC\":0.268894472361809,\"fY1NDC\":0.934160843929211,\"fX2NDC\":0.731105527638191,\"fY2NDC\":0.995000004768372,\"fBorderSize\":0,\"fInit\":1,\"fShadowColor\":1,\"fCornerRadius\":0,\"fOption\":\"blNDC\",\"fName\":\"title\",\"fTextAngle\":0,\"fTextSize\":0,\"fTextAlign\":22,\"fTextColor\":1,\"fTextFont\":42,\"fLabel\":\"\",\"fLongest\":24,\"fMargin\":0.05,\"fLines\":{\"_typename\":\"TList\",\"name\":\"TList\",\"arr\":[{\"_typename\":\"TLatex\",\"fUniqueID\":0,\"fBits\":50331648,\"fName\":\"\",\"fTitle\":\"Diphoton invariant-mass \",\"fTextAngle\":0,\"fTextSize\":0,\"fTextAlign\":0,\"fTextColor\":0,\"fTextFont\":0,\"fX\":0,\"fY\":0,\"fLineColor\":1,\"fLineStyle\":1,\"fLineWidth\":2,\"fLimitFactorSize\":3,\"fOriginSize\":0.0517132878303528}],\"opt\":[\"\"]}}],\"opt\":[\"\",\"E\",\"blNDC\"]},\"fExecs\":null,\"fName\":\"Canvas\",\"fTitle\":\"cz\",\"fNumPaletteColor\":0,\"fNextPaletteColor\":0,\"fDISPLAY\":\"$DISPLAY\",\"fDoubleBuffer\":0,\"fRetained\":true,\"fXsizeUser\":0,\"fYsizeUser\":0,\"fXsizeReal\":20,\"fYsizeReal\":15,\"fWindowTopX\":0,\"fWindowTopY\":0,\"fWindowWidth\":0,\"fWindowHeight\":0,\"fCw\":796,\"fCh\":572,\"fCatt\":{\"_typename\":\"TAttCanvas\",\"fXBetween\":2,\"fYBetween\":2,\"fTitleFromTop\":1.2,\"fXdate\":0.2,\"fYdate\":0.3,\"fAdate\":1},\"kMoveOpaque\":true,\"kResizeOpaque\":true,\"fHighLightColor\":2,\"fBatch\":true,\"kShowEventStatus\":false,\"kAutoExec\":true,\"kMenuBar\":true});\n",
       "       Core.draw(\"root_plot_4\", obj, \"\");\n",
       "     }\n",
       " );\n",
       "</script>\n"
      ],
      "text/plain": [
       "<IPython.core.display.HTML object>"
      ]
     },
     "metadata": {},
     "output_type": "display_data"
    }
   ],
   "source": [
    "#hist.####\n",
    "#canvas.####\n",
    "\n",
    "#To solution\n",
    "hist.Draw(\"E\")\n",
    "canvas.Draw()"
   ]
  },
  {
   "cell_type": "markdown",
   "metadata": {},
   "source": [
    "To make our plot easier to read, we can change the y axis from a __linear scale__ to a __log scale__. This is done by calling the `.SetLogY()` function on our `canvas`, then `Draw()`ing it agin"
   ]
  },
  {
   "cell_type": "code",
   "execution_count": 69,
   "metadata": {},
   "outputs": [
    {
     "data": {
      "text/html": [
       "\n",
       "<div id=\"root_plot_9\"\n",
       "     style=\"width: 796px; height: 572px\">\n",
       "</div>\n",
       "\n",
       "<script>\n",
       " requirejs.config({\n",
       "     paths: {\n",
       "       'JSRootCore' : 'https://root.cern.ch/js/notebook//scripts/JSRootCore',\n",
       "     }\n",
       "   });\n",
       " require(['JSRootCore'],\n",
       "     function(Core) {\n",
       "       var obj = Core.JSONR_unref({\"_typename\":\"TCanvas\",\"fUniqueID\":0,\"fBits\":53673992,\"fLineColor\":1,\"fLineStyle\":1,\"fLineWidth\":1,\"fFillColor\":0,\"fFillStyle\":1001,\"fLeftMargin\":0.1,\"fRightMargin\":0.1,\"fBottomMargin\":0.1,\"fTopMargin\":0.1,\"fXfile\":2,\"fYfile\":2,\"fAfile\":1,\"fXstat\":0.99,\"fYstat\":0.99,\"fAstat\":2,\"fFrameFillColor\":0,\"fFrameLineColor\":1,\"fFrameFillStyle\":1001,\"fFrameLineStyle\":1,\"fFrameLineWidth\":1,\"fFrameBorderSize\":1,\"fFrameBorderMode\":0,\"fX1\":98.1249994877726,\"fY1\":0.771630333590832,\"fX2\":166.875000512227,\"fY2\":3.05532686156359,\"fXtoAbsPixelk\":-1136.10901804908,\"fXtoPixelk\":-1136.10901804908,\"fXtoPixel\":11.5781816456535,\"fYtoAbsPixelk\":765.271154723255,\"fYtoPixelk\":765.271154723255,\"fYtoPixel\":-250.471108132641,\"fUtoAbsPixelk\":5e-5,\"fUtoPixelk\":5e-5,\"fUtoPixel\":796,\"fVtoAbsPixelk\":572.00005,\"fVtoPixelk\":572,\"fVtoPixel\":-572,\"fAbsPixeltoXk\":98.1249994877726,\"fPixeltoXk\":98.1249994877726,\"fPixeltoX\":0.086369348020672,\"fAbsPixeltoYk\":3.05532686156359,\"fPixeltoYk\":0.771630333590832,\"fPixeltoY\":-0.00399247644750482,\"fXlowNDC\":0,\"fYlowNDC\":0,\"fXUpNDC\":0,\"fYUpNDC\":0,\"fWNDC\":1,\"fHNDC\":1,\"fAbsXlowNDC\":0,\"fAbsYlowNDC\":0,\"fAbsWNDC\":1,\"fAbsHNDC\":1,\"fUxmin\":105,\"fUymin\":1,\"fUxmax\":160,\"fUymax\":2.82695719515442,\"fTheta\":30,\"fPhi\":30,\"fAspectRatio\":0,\"fNumber\":0,\"fTickx\":0,\"fTicky\":0,\"fLogx\":0,\"fLogy\":1,\"fLogz\":0,\"fPadPaint\":0,\"fCrosshair\":0,\"fCrosshairPos\":0,\"fBorderSize\":2,\"fBorderMode\":0,\"fModified\":false,\"fGridx\":false,\"fGridy\":false,\"fAbsCoord\":false,\"fEditable\":true,\"fFixedAspectRatio\":false,\"fPrimitives\":{\"_typename\":\"TList\",\"name\":\"TList\",\"arr\":[{\"_typename\":\"TFrame\",\"fUniqueID\":0,\"fBits\":50331656,\"fLineColor\":1,\"fLineStyle\":1,\"fLineWidth\":1,\"fFillColor\":0,\"fFillStyle\":1001,\"fX1\":105,\"fY1\":1,\"fX2\":160,\"fY2\":2.82695719515442,\"fBorderSize\":1,\"fBorderMode\":0},{\"_typename\":\"TH1F\",\"fUniqueID\":0,\"fBits\":50331656,\"fName\":\"h_M_Hyy\",\"fTitle\":\"Diphoton invariant-mass \",\"fLineColor\":602,\"fLineStyle\":1,\"fLineWidth\":1,\"fFillColor\":0,\"fFillStyle\":1001,\"fMarkerColor\":1,\"fMarkerStyle\":1,\"fMarkerSize\":1,\"fNcells\":32,\"fXaxis\":{\"_typename\":\"TAxis\",\"fUniqueID\":0,\"fBits\":50331648,\"fName\":\"xaxis\",\"fTitle\":\" Invariant Mass m_{yy} [GeV] \",\"fNdivisions\":510,\"fAxisColor\":1,\"fLabelColor\":1,\"fLabelFont\":42,\"fLabelOffset\":0.005,\"fLabelSize\":0.035,\"fTickLength\":0.03,\"fTitleOffset\":1,\"fTitleSize\":0.035,\"fTitleColor\":1,\"fTitleFont\":42,\"fNbins\":30,\"fXmin\":105,\"fXmax\":160,\"fXbins\":[],\"fFirst\":0,\"fLast\":0,\"fBits2\":0,\"fTimeDisplay\":false,\"fTimeFormat\":\"\",\"fLabels\":null,\"fModLabs\":null},\"fYaxis\":{\"_typename\":\"TAxis\",\"fUniqueID\":0,\"fBits\":50331648,\"fName\":\"yaxis\",\"fTitle\":\" events\",\"fNdivisions\":510,\"fAxisColor\":1,\"fLabelColor\":1,\"fLabelFont\":42,\"fLabelOffset\":0.005,\"fLabelSize\":0.035,\"fTickLength\":0.03,\"fTitleOffset\":0,\"fTitleSize\":0.035,\"fTitleColor\":1,\"fTitleFont\":42,\"fNbins\":1,\"fXmin\":0,\"fXmax\":1,\"fXbins\":[],\"fFirst\":0,\"fLast\":0,\"fBits2\":0,\"fTimeDisplay\":false,\"fTimeFormat\":\"\",\"fLabels\":null,\"fModLabs\":null},\"fZaxis\":{\"_typename\":\"TAxis\",\"fUniqueID\":0,\"fBits\":50331648,\"fName\":\"zaxis\",\"fTitle\":\"\",\"fNdivisions\":510,\"fAxisColor\":1,\"fLabelColor\":1,\"fLabelFont\":42,\"fLabelOffset\":0.005,\"fLabelSize\":0.035,\"fTickLength\":0.03,\"fTitleOffset\":1,\"fTitleSize\":0.035,\"fTitleColor\":1,\"fTitleFont\":42,\"fNbins\":1,\"fXmin\":0,\"fXmax\":1,\"fXbins\":[],\"fFirst\":0,\"fLast\":0,\"fBits2\":0,\"fTimeDisplay\":false,\"fTimeFormat\":\"\",\"fLabels\":null,\"fModLabs\":null},\"fBarOffset\":0,\"fBarWidth\":1000,\"fEntries\":20169,\"fTsumw\":5241,\"fTsumw2\":5241,\"fTsumwx\":663960.19156792,\"fTsumwx2\":85338997.8657015,\"fMaximum\":-1111,\"fMinimum\":10,\"fNormFactor\":0,\"fContour\":[],\"fSumw2\":[],\"fOption\":\"\",\"fFunctions\":{\"_typename\":\"TList\",\"name\":\"TList\",\"arr\":[{\"_typename\":\"TPaveStats\",\"fUniqueID\":0,\"fBits\":50331657,\"fLineColor\":1,\"fLineStyle\":1,\"fLineWidth\":1,\"fFillColor\":0,\"fFillStyle\":1001,\"fX1\":151.750001393259,\"fY1\":2.54149515638161,\"fX2\":165.500001803041,\"fY2\":2.90688659269012,\"fX1NDC\":0.780000016093254,\"fY1NDC\":0.775000005960464,\"fX2NDC\":0.980000019073486,\"fY2NDC\":0.935000002384186,\"fBorderSize\":1,\"fInit\":1,\"fShadowColor\":1,\"fCornerRadius\":0,\"fOption\":\"brNDC\",\"fName\":\"stats\",\"fTextAngle\":0,\"fTextSize\":0,\"fTextAlign\":12,\"fTextColor\":1,\"fTextFont\":42,\"fLabel\":\"\",\"fLongest\":18,\"fMargin\":0.05,\"fLines\":{\"_typename\":\"TList\",\"name\":\"TList\",\"arr\":[{\"_typename\":\"TLatex\",\"fUniqueID\":0,\"fBits\":50331648,\"fName\":\"\",\"fTitle\":\"h_M_Hyy\",\"fTextAngle\":0,\"fTextSize\":0.0368,\"fTextAlign\":0,\"fTextColor\":0,\"fTextFont\":0,\"fX\":0,\"fY\":0,\"fLineColor\":1,\"fLineStyle\":1,\"fLineWidth\":2,\"fLimitFactorSize\":3,\"fOriginSize\":0.0368000008165836},{\"_typename\":\"TLatex\",\"fUniqueID\":0,\"fBits\":50331648,\"fName\":\"\",\"fTitle\":\"Entries = 20169  \",\"fTextAngle\":0,\"fTextSize\":0,\"fTextAlign\":0,\"fTextColor\":0,\"fTextFont\":0,\"fX\":0,\"fY\":0,\"fLineColor\":1,\"fLineStyle\":1,\"fLineWidth\":2,\"fLimitFactorSize\":3,\"fOriginSize\":0.04},{\"_typename\":\"TLatex\",\"fUniqueID\":0,\"fBits\":50331648,\"fName\":\"\",\"fTitle\":\"Mean  =  126.7\",\"fTextAngle\":0,\"fTextSize\":0,\"fTextAlign\":0,\"fTextColor\":0,\"fTextFont\":0,\"fX\":0,\"fY\":0,\"fLineColor\":1,\"fLineStyle\":1,\"fLineWidth\":2,\"fLimitFactorSize\":3,\"fOriginSize\":0.04},{\"_typename\":\"TLatex\",\"fUniqueID\":0,\"fBits\":50331648,\"fName\":\"\",\"fTitle\":\"Std Dev   =  15.29\",\"fTextAngle\":0,\"fTextSize\":0,\"fTextAlign\":0,\"fTextColor\":0,\"fTextFont\":0,\"fX\":0,\"fY\":0,\"fLineColor\":1,\"fLineStyle\":1,\"fLineWidth\":2,\"fLimitFactorSize\":3,\"fOriginSize\":0.04}],\"opt\":[\"\",\"\",\"\",\"\"]},\"fOptFit\":0,\"fOptStat\":1111,\"fFitFormat\":\"5.4g\",\"fStatFormat\":\"6.4g\",\"fParent\":{\"$ref\":3}}],\"opt\":[\"brNDC\"]},\"fBufferSize\":0,\"fBuffer\":[],\"fBinStatErrOpt\":0,\"fStatOverflows\":2,\"fArray\":[12179,336,279,265,276,272,225,220,245,211,190,224,179,199,162,154,166,168,140,134,126,105,124,139,120,101,109,108,86,89,89,2749]},{\"_typename\":\"TPaveText\",\"fUniqueID\":0,\"fBits\":50331657,\"fLineColor\":1,\"fLineStyle\":1,\"fLineWidth\":1,\"fFillColor\":0,\"fFillStyle\":0,\"fX1\":116.611494738117,\"fY1\":2.90497020944007,\"fX2\":148.388505261883,\"fY2\":3.04390838981324,\"fX1NDC\":0.268894472361809,\"fY1NDC\":0.934160843929211,\"fX2NDC\":0.731105527638191,\"fY2NDC\":0.995000004768372,\"fBorderSize\":0,\"fInit\":1,\"fShadowColor\":1,\"fCornerRadius\":0,\"fOption\":\"blNDC\",\"fName\":\"title\",\"fTextAngle\":0,\"fTextSize\":0,\"fTextAlign\":22,\"fTextColor\":1,\"fTextFont\":42,\"fLabel\":\"\",\"fLongest\":24,\"fMargin\":0.05,\"fLines\":{\"_typename\":\"TList\",\"name\":\"TList\",\"arr\":[{\"_typename\":\"TLatex\",\"fUniqueID\":0,\"fBits\":50331648,\"fName\":\"\",\"fTitle\":\"Diphoton invariant-mass \",\"fTextAngle\":0,\"fTextSize\":0,\"fTextAlign\":0,\"fTextColor\":0,\"fTextFont\":0,\"fX\":0,\"fY\":0,\"fLineColor\":1,\"fLineStyle\":1,\"fLineWidth\":2,\"fLimitFactorSize\":3,\"fOriginSize\":0.0517132878303528}],\"opt\":[\"\"]}}],\"opt\":[\"\",\"E\",\"blNDC\"]},\"fExecs\":null,\"fName\":\"Canvas\",\"fTitle\":\"cz\",\"fNumPaletteColor\":0,\"fNextPaletteColor\":0,\"fDISPLAY\":\"$DISPLAY\",\"fDoubleBuffer\":0,\"fRetained\":true,\"fXsizeUser\":0,\"fYsizeUser\":0,\"fXsizeReal\":20,\"fYsizeReal\":15,\"fWindowTopX\":0,\"fWindowTopY\":0,\"fWindowWidth\":0,\"fWindowHeight\":0,\"fCw\":796,\"fCh\":572,\"fCatt\":{\"_typename\":\"TAttCanvas\",\"fXBetween\":2,\"fYBetween\":2,\"fTitleFromTop\":1.2,\"fXdate\":0.2,\"fYdate\":0.3,\"fAdate\":1},\"kMoveOpaque\":true,\"kResizeOpaque\":true,\"fHighLightColor\":2,\"fBatch\":true,\"kShowEventStatus\":false,\"kAutoExec\":true,\"kMenuBar\":true});\n",
       "       Core.draw(\"root_plot_9\", obj, \"\");\n",
       "     }\n",
       " );\n",
       "</script>\n"
      ],
      "text/plain": [
       "<IPython.core.display.HTML object>"
      ]
     },
     "metadata": {},
     "output_type": "display_data"
    }
   ],
   "source": [
    "#hist.Draw(\"E\")\n",
    "#hist.SetMinimum(10)\n",
    "canvas.SetLogy()\n",
    "canvas.Draw()"
   ]
  },
  {
   "cell_type": "markdown",
   "metadata": {},
   "source": [
    "### Some questions to think about...\n",
    "\n",
    "1. Can we say we have 'found' the Higgs based on these histograms alone? Why/why not?\n",
    "2. What steps could we take to make our search for the Higgs more robust?"
   ]
  },
  {
   "cell_type": "markdown",
   "metadata": {},
   "source": [
    "---"
   ]
  },
  {
   "cell_type": "markdown",
   "metadata": {},
   "source": [
    "<CENTER><h2>Search 2: The H&#8594;WW channel</h2></CENTER>"
   ]
  },
  {
   "cell_type": "markdown",
   "metadata": {},
   "source": [
    "The following analysis will aim to find a signal for the Higgs boson decaying to 2 W-bosons:\n",
    "\n",
    "<br>\n",
    "\n",
    "<CENTER><img src=\"https://atlas.web.cern.ch/Atlas/GROUPS/PHYSICS/PAPERS/HIGG-2016-07/fig_01a.png\" style=\"width:30%\"></CENTER>\n",
    "\n",
    "<br>\n",
    "\n",
    "above its the largest background; Events coming from the SM WW-diboson background  production:\n",
    "\n",
    "<CENTER><img src=\"https://cds.cern.ch/record/1484203/files/fig1b.png\" style=\"width:30%\"></CENTER>\n",
    "\n",
    "\n",
    "<br>\n",
    "\n",
    "This __non-resonant search__ is done by histogramming some variable of the decay products (in this case a variable called _transverse mass_) for both data and Monte-Carlo simulations of the background, subtracting the backgrounds from the data (scaled for the fact we have many more simulated events than real events) before seeing if we have any **significant** number of events left over.\n",
    "\n",
    "\n",
    "**Question:** Why can a bump hunt not be performed in this channel? \n",
    "\n",
    "*Hint*: $m_H$=125 GeV, $m_W$=80 GeV"
   ]
  },
  {
   "cell_type": "code",
   "execution_count": 3,
   "metadata": {},
   "outputs": [],
   "source": [
    "def printTreeBranches(tree):\n",
    "    branches = tree.GetListOfBranches()\n",
    "\n",
    "    print('TTree branch names:')\n",
    "    print('-------------------')\n",
    "    for branch in branches:\n",
    "        print(branch.GetName())"
   ]
  },
  {
   "cell_type": "code",
   "execution_count": 7,
   "metadata": {},
   "outputs": [
    {
     "name": "stdout",
     "output_type": "stream",
     "text": [
      "Tree contains 668152 entries\n",
      "\n",
      "TTree branch names:\n",
      "-------------------\n",
      "runNumber\n",
      "eventNumber\n",
      "channelNumber\n",
      "mcWeight\n",
      "scaleFactor_PILEUP\n",
      "scaleFactor_ELE\n",
      "scaleFactor_MUON\n",
      "scaleFactor_PHOTON\n",
      "scaleFactor_TAU\n",
      "scaleFactor_BTAG\n",
      "scaleFactor_LepTRIGGER\n",
      "scaleFactor_PhotonTRIGGER\n",
      "trigE\n",
      "trigM\n",
      "trigP\n",
      "lep_n\n",
      "lep_truthMatched\n",
      "lep_trigMatched\n",
      "lep_pt\n",
      "lep_eta\n",
      "lep_phi\n",
      "lep_E\n",
      "lep_z0\n",
      "lep_charge\n",
      "lep_type\n",
      "lep_isTightID\n",
      "lep_ptcone30\n",
      "lep_etcone20\n",
      "lep_trackd0pvunbiased\n",
      "lep_tracksigd0pvunbiased\n",
      "met_et\n",
      "met_phi\n",
      "jet_n\n",
      "jet_pt\n",
      "jet_eta\n",
      "jet_phi\n",
      "jet_E\n",
      "jet_jvt\n",
      "jet_trueflav\n",
      "jet_truthMatched\n",
      "jet_MV2c10\n",
      "photon_n\n",
      "photon_truthMatched\n",
      "photon_trigMatched\n",
      "photon_pt\n",
      "photon_eta\n",
      "photon_phi\n",
      "photon_E\n",
      "photon_isTightID\n",
      "photon_ptcone30\n",
      "photon_etcone20\n",
      "photon_convType\n",
      "tau_n\n",
      "tau_pt\n",
      "tau_eta\n",
      "tau_phi\n",
      "tau_E\n",
      "tau_isTightID\n",
      "tau_truthMatched\n",
      "tau_trigMatched\n",
      "tau_nTracks\n",
      "tau_BDTid\n",
      "ditau_m\n",
      "lep_pt_syst\n",
      "met_et_syst\n",
      "jet_pt_syst\n",
      "photon_pt_syst\n",
      "tau_pt_syst\n",
      "XSection\n",
      "SumWeights\n",
      "largeRjet_n\n",
      "largeRjet_pt\n",
      "largeRjet_eta\n",
      "largeRjet_phi\n",
      "largeRjet_E\n",
      "largeRjet_m\n",
      "largeRjet_truthMatched\n",
      "largeRjet_D2\n",
      "largeRjet_tau32\n",
      "largeRjet_pt_syst\n",
      "tau_charge\n"
     ]
    }
   ],
   "source": [
    "#Dilepton data\n",
    "#More luminosity is available (B-D)! Add in at some point?\n",
    "data = ROOT.TFile.Open(\"https://atlas-opendata.web.cern.ch/atlas-opendata/samples/2020/2lep/Data/data_A.2lep.root\")\n",
    "dataTree = data.Get(\"mini\")\n",
    "print('Tree contains %d entries\\n' % dataTree.GetEntries())\n",
    "\n",
    "#Peek inside?\n",
    "view_branches = True #Set to True to look inside\n",
    "if view_branches: printTreeBranches(dataTree)"
   ]
  },
  {
   "cell_type": "code",
   "execution_count": 8,
   "metadata": {},
   "outputs": [
    {
     "name": "stdout",
     "output_type": "stream",
     "text": [
      "Tree contains 3409043 entries\n",
      "\n"
     ]
    }
   ],
   "source": [
    "## qq->WW background (MC)\n",
    "bkg = ROOT.TFile.Open(\"https://atlas-opendata.web.cern.ch/atlas-opendata/samples/2020/2lep/MC/mc_363492.llvv.2lep.root\")\n",
    "bkgTree = bkg.Get(\"mini\")\n",
    "print('Tree contains %d entries\\n' % bkgTree.GetEntries()) #Will need to be scaled to number of data events\n",
    "\n",
    "#Peek inside?\n",
    "view_branches = False #Set to True to look inside\n",
    "if view_branches: printTreeBranches(bkgTree)"
   ]
  },
  {
   "cell_type": "code",
   "execution_count": 9,
   "metadata": {},
   "outputs": [],
   "source": [
    "c = ROOT.TCanvas(\"HWWCanvas\",\"Higgs->WW Analysis\",800,600)\n",
    "h_bgs = ROOT.TH1F(\"h_bgs\",\"Transverse mass mT\",20,60,240)\n",
    "h_dat = ROOT.TH1F(\"h_dat\",\"Transverse mass mT\",20,60,240)"
   ]
  },
  {
   "cell_type": "markdown",
   "metadata": {},
   "source": [
    "---"
   ]
  },
  {
   "cell_type": "code",
   "execution_count": 39,
   "metadata": {},
   "outputs": [],
   "source": [
    "def hWW(tree,hist):\n",
    "    \"\"\"\n",
    "    Function which executes the analysis flow for the Higgs production cross-section measurement in the H->WW\n",
    "    decay channel paper: https://arxiv.org/pdf/1808.09054.pdf\n",
    "    \n",
    "    Fills a histogram with mT(llvv) of events which pass the full set of cuts \n",
    "    \n",
    "    Parameters\n",
    "    ----------\n",
    "    tree : A Ttree containing data / background information\n",
    "    \n",
    "    hist : The name of the histogram to be filled with mT(llvv) values\n",
    "    \"\"\"\n",
    "    \n",
    "    n = 0\n",
    "    for event in tree:\n",
    "        \n",
    "        #############################\n",
    "        ### Event-level requirements\n",
    "        #############################\n",
    "    \n",
    "        trackProgress(n,100000)\n",
    "        n += 1\n",
    "        \n",
    "        #if tree.trigE and tree.trigM: #... with different flavour (pass el and mu trigger)...\n",
    "        #if tree.trigE or tree.trigM: #... event passes el or mu trigger...\n",
    "\n",
    "        ###################################\n",
    "        ### Individual lepton requirements\n",
    "        ###################################\n",
    "\n",
    "        if tree.lep_n == 2: #Exactly two leptons...\n",
    "\n",
    "            if tree.lep_type[0] != tree.lep_type[1]: #... with different flavour\n",
    "\n",
    "                if tree.lep_charge[0] != tree.lep_charge[1]: #... and opposite charge...\n",
    "\n",
    "                    #... @to-Do with both isolated (need electron & muon isolation definitions)\n",
    "\n",
    "                    if (tree.lep_pt[0] > 22000) and (tree.lep_pt[0] > 15000): #pT requirements\n",
    "                        #Note TTrees always sort objects in descending pT order\n",
    "                        \n",
    "                        if abs(tree.lep_phi[0]-tree.lep_phi[1]) < 1.8: #lepton separtion in phi \n",
    "                        \n",
    "                            #################################\n",
    "                            ### Dilepton system requirements\n",
    "                            #################################\n",
    "\n",
    "                            #Initialse (set up) an empty 4 vector for dilepton system\n",
    "                            dilep_four_mmtm = ROOT.TLorentzVector()\n",
    "\n",
    "                            #Loop through our list of lepton indices\n",
    "                            for i in range(0,tree.lep_n):\n",
    "\n",
    "                                #Initialse (set up) an empty 4 vector for each lepton\n",
    "                                lep_i = ROOT.TLorentzVector()\n",
    "\n",
    "                                #Retrieve the lepton's 4 momentum components from the tree\n",
    "                                lep_i.SetPtEtaPhiE(tree.lep_pt[i], tree.lep_eta[i],tree.lep_phi[i],tree.lep_E[i])\n",
    "\n",
    "                                #Store lepton's 4 momentum\n",
    "                                dilep_four_mmtm += lep_i\n",
    "\n",
    "                            if (dilep_four_mmtm.M() > 10000) :#and (dilep_four_mmtm.M() < 55000):\n",
    "\n",
    "                                #####################\n",
    "                                ### MET requirements\n",
    "                                #####################\n",
    "\n",
    "                                #Initialse (set up) an empty 4 vector for the event's MET and fill from tree\n",
    "                                met_four_mom = ROOT.TLorentzVector()\n",
    "                                met_four_mom.SetPtEtaPhiE(tree.met_et,0,tree.met_phi,tree.met_et)\n",
    "                                \n",
    "                                if met_four_mom.Pt() > 20000:\n",
    "                                    \n",
    "                                        #####################\n",
    "                                        ### Full llvv system\n",
    "                                        #####################\n",
    "                                        \n",
    "                                        system_four_mom = dilep_four_mmtm + met_four_mom\n",
    "                                        hist.Fill(system_four_mom.Mt()/1000)\n",
    "                                        \n",
    "                                        \n",
    "#Additional analysis cuts:    \n",
    "#∆φ(ll,EmissT)> π/2 (0 jet channel)\n",
    "#pT_ll>30GeV (0 jet channel)\n",
    "\n",
    "#Think also:\n",
    "#Electron, muon eta\n",
    "#Trigger matching\n",
    "#e,mu / lep,jet OR\n",
    "\n",
    "#Also Nb-jet,(pT>20GeV)=0"
   ]
  },
  {
   "cell_type": "code",
   "execution_count": 40,
   "metadata": {},
   "outputs": [
    {
     "name": "stdout",
     "output_type": "stream",
     "text": [
      "Event loop tracker\n",
      "------------------\n",
      "0 events processed\n",
      "100000 events processed\n",
      "200000 events processed\n",
      "300000 events processed\n",
      "400000 events processed\n",
      "500000 events processed\n",
      "600000 events processed\n"
     ]
    }
   ],
   "source": [
    "#Data\n",
    "hWW(dataTree,h_dat)"
   ]
  },
  {
   "cell_type": "code",
   "execution_count": 41,
   "metadata": {},
   "outputs": [
    {
     "data": {
      "image/png": "[encoded data removed]",
      "text/plain": [
       "<IPython.core.display.Image object>"
      ]
     },
     "metadata": {},
     "output_type": "display_data"
    }
   ],
   "source": [
    "h_dat.SetFillStyle(3003)\n",
    "h_dat.SetFillColor(2)\n",
    "h_dat.SetLineColor(2)\n",
    "\n",
    "h_dat.Draw(\"hist\")\n",
    "c.Draw()"
   ]
  },
  {
   "cell_type": "code",
   "execution_count": 42,
   "metadata": {},
   "outputs": [
    {
     "name": "stdout",
     "output_type": "stream",
     "text": [
      "Event loop tracker\n",
      "------------------\n",
      "0 events processed\n",
      "100000 events processed\n",
      "200000 events processed\n",
      "300000 events processed\n",
      "400000 events processed\n",
      "500000 events processed\n",
      "600000 events processed\n",
      "700000 events processed\n",
      "800000 events processed\n",
      "900000 events processed\n",
      "1000000 events processed\n",
      "1100000 events processed\n",
      "1200000 events processed\n",
      "1300000 events processed\n",
      "1400000 events processed\n",
      "1500000 events processed\n",
      "1600000 events processed\n",
      "1700000 events processed\n",
      "1800000 events processed\n",
      "1900000 events processed\n",
      "2000000 events processed\n",
      "2100000 events processed\n",
      "2200000 events processed\n",
      "2300000 events processed\n",
      "2400000 events processed\n",
      "2500000 events processed\n",
      "2600000 events processed\n",
      "2700000 events processed\n",
      "2800000 events processed\n",
      "2900000 events processed\n",
      "3000000 events processed\n",
      "3100000 events processed\n",
      "3200000 events processed\n",
      "3300000 events processed\n",
      "3400000 events processed\n"
     ]
    }
   ],
   "source": [
    "#MC \n",
    "hWW(bkgTree,h_bgs)"
   ]
  },
  {
   "cell_type": "code",
   "execution_count": 14,
   "metadata": {},
   "outputs": [
    {
     "data": {
      "image/png": "[encoded data removed]",
      "text/plain": [
       "<IPython.core.display.Image object>"
      ]
     },
     "metadata": {},
     "output_type": "display_data"
    }
   ],
   "source": [
    "h_bgs.SetFillStyle(3001)\n",
    "h_bgs.SetFillColor(4)\n",
    "h_bgs.SetLineColor(4)\n",
    "\n",
    "h_bgs.Draw(\"hist\")\n",
    "c.Draw()"
   ]
  },
  {
   "cell_type": "markdown",
   "metadata": {},
   "source": [
    "---"
   ]
  },
  {
   "cell_type": "code",
   "execution_count": 34,
   "metadata": {},
   "outputs": [
    {
     "name": "stdout",
     "output_type": "stream",
     "text": [
      "MC event weight = 0.0078\n"
     ]
    }
   ],
   "source": [
    "#MC \"lumi weight\"\n",
    "#tree.weight_mc*tree.weight_pileup*tree.weight_leptonSF*tree.weight_jvt*tree['weight_bTagSF_%s'%bTagger]\n",
    "runCell = True #NB that this cell is only run once! Failsafe flag\n",
    "\n",
    "if runCell:\n",
    "    #Calculate lumi weight\n",
    "    mcScale = 0.04*dataTree.GetEntries()/(bkgTree.GetEntries())\n",
    "    print('MC event weight = %0.4f' % mcScale)\n",
    "\n",
    "    #Scale MC histogram\n",
    "    h_bgs_scale = h_bgs.Clone(\"scale\")\n",
    "    h_bgs_scale.Scale(mcScale)"
   ]
  },
  {
   "cell_type": "code",
   "execution_count": 35,
   "metadata": {},
   "outputs": [
    {
     "data": {
      "image/png": "[encoded data removed]",
      "text/plain": [
       "<IPython.core.display.Image object>"
      ]
     },
     "metadata": {},
     "output_type": "display_data"
    }
   ],
   "source": [
    "h_dat.Draw(\"hist\")\n",
    "h_bgs_scale.Draw(\"histsame\")\n",
    "\n",
    "h_dat.SetStats(0)\n",
    "h_bgs_scale.SetStats(0)\n",
    "\n",
    "legend=ROOT.TLegend(0.5,0.7,0.9,0.9)\n",
    "legend.AddEntry(h_bgs_scale,\"Background (WW) \",\"l\")\n",
    "legend.AddEntry(h_dat,\"Data\",\"l\")\n",
    "legend.Draw()\n",
    "\n",
    "c.Draw()"
   ]
  },
  {
   "cell_type": "code",
   "execution_count": 37,
   "metadata": {},
   "outputs": [
    {
     "data": {
      "text/plain": [
       "True"
      ]
     },
     "execution_count": 37,
     "metadata": {},
     "output_type": "execute_result"
    }
   ],
   "source": [
    "h_diff = h_dat.Clone(\"diff\")\n",
    "h_diff.Add(h_bgs_scale,-1)"
   ]
  },
  {
   "cell_type": "code",
   "execution_count": 38,
   "metadata": {},
   "outputs": [
    {
     "data": {
      "image/png": "[encoded data removed]",
      "text/plain": [
       "<IPython.core.display.Image object>"
      ]
     },
     "metadata": {},
     "output_type": "display_data"
    }
   ],
   "source": [
    "h_diff.SetFillStyle(3001)\n",
    "h_diff.SetFillColor(8)\n",
    "h_diff.SetLineColor(8)\n",
    "h_diff.SetStats(0)\n",
    "#h_diff.SetMinimum(10)  #This is doing a lot of heavy lifting to hide the data underestimation!\n",
    "\n",
    "h_diff.Draw(\"hist\")\n",
    "c.Draw()"
   ]
  },
  {
   "cell_type": "markdown",
   "metadata": {},
   "source": [
    "1. Background subtracted plot (ratio panel style?)\n",
    "2. Discovery significance?"
   ]
  },
  {
   "cell_type": "code",
   "execution_count": 65,
   "metadata": {},
   "outputs": [
    {
     "data": {
      "text/html": [
       "\n",
       "<div id=\"root_plot_6\"\n",
       "     style=\"width: 796px; height: 572px\">\n",
       "</div>\n",
       "\n",
       "<script>\n",
       " requirejs.config({\n",
       "     paths: {\n",
       "       'JSRootCore' : 'https://root.cern.ch/js/notebook//scripts/JSRootCore',\n",
       "     }\n",
       "   });\n",
       " require(['JSRootCore'],\n",
       "     function(Core) {\n",
       "       var obj = Core.JSONR_unref({\"_typename\":\"TCanvas\",\"fUniqueID\":0,\"fBits\":53673992,\"fLineColor\":1,\"fLineStyle\":1,\"fLineWidth\":1,\"fFillColor\":0,\"fFillStyle\":1001,\"fLeftMargin\":0.1,\"fRightMargin\":0.1,\"fBottomMargin\":0.1,\"fTopMargin\":0.1,\"fXfile\":2,\"fYfile\":2,\"fAfile\":1,\"fXstat\":0.99,\"fYstat\":0.99,\"fAstat\":2,\"fFrameFillColor\":0,\"fFrameLineColor\":1,\"fFrameFillStyle\":1001,\"fFrameLineStyle\":1,\"fFrameLineWidth\":1,\"fFrameBorderSize\":1,\"fFrameBorderMode\":0,\"fX1\":-25.0000018626453,\"fY1\":-0.0260816001207828,\"fX2\":225.000001862645,\"fY2\":0.234734385541201,\"fXtoAbsPixelk\":79.6000547445299,\"fXtoPixelk\":79.6000547445299,\"fXtoPixel\":3.1839999525547,\"fYtoAbsPixelk\":514.800046590614,\"fYtoPixelk\":514.800046590614,\"fYtoPixel\":-2193.11710725166,\"fUtoAbsPixelk\":5e-5,\"fUtoPixelk\":5e-5,\"fUtoPixel\":796,\"fVtoAbsPixelk\":572.00005,\"fVtoPixelk\":572,\"fVtoPixel\":-572,\"fAbsPixeltoXk\":-25.0000018626453,\"fPixeltoXk\":-25.0000018626453,\"fPixeltoX\":0.314070356438807,\"fAbsPixeltoYk\":0.234734385541201,\"fPixeltoYk\":-0.0260816001207828,\"fPixeltoY\":-4.55972002905565e-4,\"fXlowNDC\":0,\"fYlowNDC\":0,\"fXUpNDC\":0,\"fYUpNDC\":0,\"fWNDC\":1,\"fHNDC\":1,\"fAbsXlowNDC\":0,\"fAbsYlowNDC\":0,\"fAbsWNDC\":1,\"fAbsHNDC\":1,\"fUxmin\":0,\"fUymin\":0,\"fUxmax\":200,\"fUymax\":0.208652785420418,\"fTheta\":30,\"fPhi\":30,\"fAspectRatio\":0,\"fNumber\":0,\"fTickx\":0,\"fTicky\":0,\"fLogx\":0,\"fLogy\":0,\"fLogz\":0,\"fPadPaint\":0,\"fCrosshair\":0,\"fCrosshairPos\":0,\"fBorderSize\":2,\"fBorderMode\":0,\"fModified\":false,\"fGridx\":false,\"fGridy\":false,\"fAbsCoord\":false,\"fEditable\":true,\"fFixedAspectRatio\":false,\"fPrimitives\":{\"_typename\":\"TList\",\"name\":\"TList\",\"arr\":[{\"_typename\":\"TFrame\",\"fUniqueID\":0,\"fBits\":50331656,\"fLineColor\":1,\"fLineStyle\":1,\"fLineWidth\":1,\"fFillColor\":0,\"fFillStyle\":1001,\"fX1\":0,\"fY1\":0,\"fX2\":200,\"fY2\":0.208652785420418,\"fBorderSize\":1,\"fBorderMode\":0},{\"_typename\":\"TH1F\",\"fUniqueID\":0,\"fBits\":50332168,\"fName\":\"h_sig\",\"fTitle\":\"Example plot: Missing transverse energey\",\"fLineColor\":2,\"fLineStyle\":1,\"fLineWidth\":1,\"fFillColor\":2,\"fFillStyle\":3003,\"fMarkerColor\":1,\"fMarkerStyle\":1,\"fMarkerSize\":1,\"fNcells\":22,\"fXaxis\":{\"_typename\":\"TAxis\",\"fUniqueID\":0,\"fBits\":50331648,\"fName\":\"xaxis\",\"fTitle\":\"\",\"fNdivisions\":510,\"fAxisColor\":1,\"fLabelColor\":1,\"fLabelFont\":42,\"fLabelOffset\":0.005,\"fLabelSize\":0.035,\"fTickLength\":0.03,\"fTitleOffset\":1,\"fTitleSize\":0.035,\"fTitleColor\":1,\"fTitleFont\":42,\"fNbins\":20,\"fXmin\":0,\"fXmax\":200,\"fXbins\":[],\"fFirst\":0,\"fLast\":0,\"fBits2\":0,\"fTimeDisplay\":false,\"fTimeFormat\":\"\",\"fLabels\":null,\"fModLabs\":null},\"fYaxis\":{\"_typename\":\"TAxis\",\"fUniqueID\":0,\"fBits\":50331648,\"fName\":\"yaxis\",\"fTitle\":\"\",\"fNdivisions\":510,\"fAxisColor\":1,\"fLabelColor\":1,\"fLabelFont\":42,\"fLabelOffset\":0.005,\"fLabelSize\":0.035,\"fTickLength\":0.03,\"fTitleOffset\":0,\"fTitleSize\":0.035,\"fTitleColor\":1,\"fTitleFont\":42,\"fNbins\":1,\"fXmin\":0,\"fXmax\":1,\"fXbins\":[],\"fFirst\":0,\"fLast\":0,\"fBits2\":0,\"fTimeDisplay\":false,\"fTimeFormat\":\"\",\"fLabels\":null,\"fModLabs\":null},\"fZaxis\":{\"_typename\":\"TAxis\",\"fUniqueID\":0,\"fBits\":50331648,\"fName\":\"zaxis\",\"fTitle\":\"\",\"fNdivisions\":510,\"fAxisColor\":1,\"fLabelColor\":1,\"fLabelFont\":42,\"fLabelOffset\":0.005,\"fLabelSize\":0.035,\"fTickLength\":0.03,\"fTitleOffset\":1,\"fTitleSize\":0.035,\"fTitleColor\":1,\"fTitleFont\":42,\"fNbins\":1,\"fXmin\":0,\"fXmax\":1,\"fXbins\":[],\"fFirst\":0,\"fLast\":0,\"fBits2\":0,\"fTimeDisplay\":false,\"fTimeFormat\":\"\",\"fLabels\":null,\"fModLabs\":null},\"fBarOffset\":0,\"fBarWidth\":1000,\"fEntries\":628685,\"fTsumw\":625850,\"fTsumw2\":625850,\"fTsumwx\":30496820.0629338,\"fTsumwx2\":1905355733.66705,\"fMaximum\":-1111,\"fMinimum\":-1111,\"fNormFactor\":0,\"fContour\":[],\"fSumw2\":[0,3.56839935364664e-8,1.13018460747821e-7,1.98604388723993e-7,2.82244891854005e-7,3.17515291131839e-7,2.57753473810411e-7,1.55274007504783e-7,8.79781367436954e-8,5.09512383921628e-8,3.13131702600529e-8,1.97146596614862e-8,1.32120388174296e-8,9.62244914065549e-9,6.90344984779316e-9,5.10099585646847e-9,3.79128070413197e-9,3.16578321422468e-9,2.37689046164772e-9,1.90968213245166e-9,1.69267279921852e-9,7.23789952607013e-9],\"fOption\":\"\",\"fFunctions\":{\"_typename\":\"TList\",\"name\":\"TList\",\"arr\":[],\"opt\":[]},\"fBufferSize\":0,\"fBuffer\":[],\"fBinStatErrOpt\":0,\"fStatOverflows\":2,\"fArray\":[0,0.02233283,0.0707326,0.1242966,0.176643,0.1987169,0.161315,0.09717824,0.05506112,0.03188783,0.01959735,0.01233842,0.008268755,0.00602221,0.004320524,0.003192458,0.002372773,0.001981305,0.001487577,0.001195175,0.001059359,0.004529839]},{\"_typename\":\"TH1F\",\"fUniqueID\":0,\"fBits\":50332168,\"fName\":\"h_bgs\",\"fTitle\":\"Example plot: Missing transverse energey\",\"fLineColor\":4,\"fLineStyle\":1,\"fLineWidth\":1,\"fFillColor\":4,\"fFillStyle\":3001,\"fMarkerColor\":1,\"fMarkerStyle\":1,\"fMarkerSize\":1,\"fNcells\":22,\"fXaxis\":{\"_typename\":\"TAxis\",\"fUniqueID\":0,\"fBits\":50331648,\"fName\":\"xaxis\",\"fTitle\":\"\",\"fNdivisions\":510,\"fAxisColor\":1,\"fLabelColor\":1,\"fLabelFont\":42,\"fLabelOffset\":0.005,\"fLabelSize\":0.035,\"fTickLength\":0.03,\"fTitleOffset\":1,\"fTitleSize\":0.035,\"fTitleColor\":1,\"fTitleFont\":42,\"fNbins\":20,\"fXmin\":0,\"fXmax\":200,\"fXbins\":[],\"fFirst\":0,\"fLast\":0,\"fBits2\":0,\"fTimeDisplay\":false,\"fTimeFormat\":\"\",\"fLabels\":null,\"fModLabs\":null},\"fYaxis\":{\"_typename\":\"TAxis\",\"fUniqueID\":0,\"fBits\":50331648,\"fName\":\"yaxis\",\"fTitle\":\"\",\"fNdivisions\":510,\"fAxisColor\":1,\"fLabelColor\":1,\"fLabelFont\":42,\"fLabelOffset\":0.005,\"fLabelSize\":0.035,\"fTickLength\":0.03,\"fTitleOffset\":0,\"fTitleSize\":0.035,\"fTitleColor\":1,\"fTitleFont\":42,\"fNbins\":1,\"fXmin\":0,\"fXmax\":1,\"fXbins\":[],\"fFirst\":0,\"fLast\":0,\"fBits2\":0,\"fTimeDisplay\":false,\"fTimeFormat\":\"\",\"fLabels\":null,\"fModLabs\":null},\"fZaxis\":{\"_typename\":\"TAxis\",\"fUniqueID\":0,\"fBits\":50331648,\"fName\":\"zaxis\",\"fTitle\":\"\",\"fNdivisions\":510,\"fAxisColor\":1,\"fLabelColor\":1,\"fLabelFont\":42,\"fLabelOffset\":0.005,\"fLabelSize\":0.035,\"fTickLength\":0.03,\"fTitleOffset\":1,\"fTitleSize\":0.035,\"fTitleColor\":1,\"fTitleFont\":42,\"fNbins\":1,\"fXmin\":0,\"fXmax\":1,\"fXbins\":[],\"fFirst\":0,\"fLast\":0,\"fBits2\":0,\"fTimeDisplay\":false,\"fTimeFormat\":\"\",\"fLabels\":null,\"fModLabs\":null},\"fBarOffset\":0,\"fBarWidth\":1000,\"fEntries\":3409043,\"fTsumw\":3293178,\"fTsumw2\":3293178,\"fTsumwx\":205426490.725037,\"fTsumwx2\":17745707668.9622,\"fMaximum\":-1111,\"fMinimum\":-1111,\"fNormFactor\":0,\"fContour\":[],\"fSumw2\":[0,8.09873925084957e-9,2.20155398981407e-8,3.14320266713216e-8,3.63978075871174e-8,3.73534534706415e-8,3.48322966057904e-8,2.99931175616735e-8,2.40928986505446e-8,1.85306228273273e-8,1.4124637951562e-8,1.07271342633789e-8,8.26711144144345e-9,6.5520387442659e-9,5.12862061381805e-9,4.12511866955013e-9,3.38284258286844e-9,2.77343852611326e-9,2.2977363731703e-9,1.93784773139159e-9,1.59501760837513e-9,1.06837041966923e-8],\"fOption\":\"\",\"fFunctions\":{\"_typename\":\"TList\",\"name\":\"TList\",\"arr\":[],\"opt\":[]},\"fBufferSize\":0,\"fBuffer\":[],\"fBinStatErrOpt\":0,\"fStatOverflows\":2,\"fArray\":[0,0.02667059,0.07250109,0.1035113,0.1198645,0.1230116,0.114709,0.09877267,0.0793422,0.06102464,0.04651495,0.03532636,0.02722507,0.02157703,0.01688946,0.01358475,0.0111403,0.009133426,0.007566855,0.006381677,0.005252677,0.03518334]},{\"_typename\":\"TLegend\",\"fUniqueID\":0,\"fBits\":50331656,\"fLineColor\":1,\"fLineStyle\":1,\"fLineWidth\":1,\"fFillColor\":0,\"fFillStyle\":1001,\"fX1\":100,\"fY1\":0.156489589842606,\"fX2\":200.000001490116,\"fY2\":0.208652786975002,\"fX1NDC\":0.5,\"fY1NDC\":0.7,\"fX2NDC\":0.9,\"fY2NDC\":0.9,\"fBorderSize\":1,\"fInit\":1,\"fShadowColor\":1,\"fCornerRadius\":0,\"fOption\":\"brNDC\",\"fName\":\"TPave\",\"fTextAngle\":0,\"fTextSize\":0,\"fTextAlign\":12,\"fTextColor\":1,\"fTextFont\":42,\"fPrimitives\":{\"_typename\":\"TList\",\"name\":\"TList\",\"arr\":[{\"_typename\":\"TLegendEntry\",\"fUniqueID\":0,\"fBits\":50331656,\"fTextAngle\":0,\"fTextSize\":0,\"fTextAlign\":0,\"fTextColor\":0,\"fTextFont\":42,\"fLineColor\":4,\"fLineStyle\":1,\"fLineWidth\":1,\"fFillColor\":0,\"fFillStyle\":0,\"fMarkerColor\":1,\"fMarkerStyle\":21,\"fMarkerSize\":1,\"fObject\":{\"$ref\":8},\"fLabel\":\"Background (WW) \",\"fOption\":\"l\"},{\"_typename\":\"TLegendEntry\",\"fUniqueID\":0,\"fBits\":50331656,\"fTextAngle\":0,\"fTextSize\":0,\"fTextAlign\":0,\"fTextColor\":0,\"fTextFont\":42,\"fLineColor\":2,\"fLineStyle\":1,\"fLineWidth\":1,\"fFillColor\":0,\"fFillStyle\":0,\"fMarkerColor\":1,\"fMarkerStyle\":21,\"fMarkerSize\":1,\"fObject\":{\"$ref\":3},\"fLabel\":\"Signal (H #rightarrow WW)\",\"fOption\":\"l\"}],\"opt\":[\"l\",\"l\"]},\"fEntrySeparation\":0.1,\"fMargin\":0.25,\"fNColumns\":1,\"fColumnSeparation\":0},{\"_typename\":\"TPaveText\",\"fUniqueID\":0,\"fBits\":50331657,\"fLineColor\":1,\"fLineStyle\":1,\"fLineWidth\":1,\"fFillColor\":0,\"fFillStyle\":0,\"fX1\":12.4999986961483,\"fY1\":0.217562481155445,\"fX2\":187.500001303852,\"fY2\":0.233430306856558,\"fX1NDC\":0.15,\"fY1NDC\":0.934160843929211,\"fX2NDC\":0.85,\"fY2NDC\":0.995000004768372,\"fBorderSize\":0,\"fInit\":1,\"fShadowColor\":1,\"fCornerRadius\":0,\"fOption\":\"blNDC\",\"fName\":\"title\",\"fTextAngle\":0,\"fTextSize\":0,\"fTextAlign\":22,\"fTextColor\":1,\"fTextFont\":42,\"fLabel\":\"\",\"fLongest\":40,\"fMargin\":0.05,\"fLines\":{\"_typename\":\"TList\",\"name\":\"TList\",\"arr\":[{\"_typename\":\"TLatex\",\"fUniqueID\":0,\"fBits\":50331648,\"fName\":\"\",\"fTitle\":\"Example plot: Missing transverse energey\",\"fTextAngle\":0,\"fTextSize\":0,\"fTextAlign\":0,\"fTextColor\":0,\"fTextFont\":0,\"fX\":0,\"fY\":0,\"fLineColor\":1,\"fLineStyle\":1,\"fLineWidth\":2,\"fLimitFactorSize\":3,\"fOriginSize\":0.0517132878303528}],\"opt\":[\"\"]}}],\"opt\":[\"\",\"hist\",\"histsame\",\"\",\"blNDC\"]},\"fExecs\":null,\"fName\":\"testCanvas\",\"fTitle\":\"a first way to plot a variable\",\"fNumPaletteColor\":0,\"fNextPaletteColor\":0,\"fDISPLAY\":\"$DISPLAY\",\"fDoubleBuffer\":0,\"fRetained\":true,\"fXsizeUser\":0,\"fYsizeUser\":0,\"fXsizeReal\":20,\"fYsizeReal\":15,\"fWindowTopX\":0,\"fWindowTopY\":0,\"fWindowWidth\":0,\"fWindowHeight\":0,\"fCw\":796,\"fCh\":572,\"fCatt\":{\"_typename\":\"TAttCanvas\",\"fXBetween\":2,\"fYBetween\":2,\"fTitleFromTop\":1.2,\"fXdate\":0.2,\"fYdate\":0.3,\"fAdate\":1},\"kMoveOpaque\":true,\"kResizeOpaque\":true,\"fHighLightColor\":2,\"fBatch\":true,\"kShowEventStatus\":false,\"kAutoExec\":true,\"kMenuBar\":true});\n",
       "       Core.draw(\"root_plot_6\", obj, \"\");\n",
       "     }\n",
       " );\n",
       "</script>\n"
      ],
      "text/plain": [
       "<IPython.core.display.HTML object>"
      ]
     },
     "metadata": {},
     "output_type": "display_data"
    }
   ],
   "source": [
    "###########################\n",
    "### Plot formatting example\n",
    "###########################\n",
    "\n",
    "scale_bgs = h_bgs.Integral()\n",
    "h_bgs.Scale(1/scale_bgs)\n",
    "\n",
    "scale_sig = h_sig.Integral()\n",
    "h_sig.Scale(1/scale_sig)\n",
    "\n",
    "\n",
    "h_bgs.SetFillStyle(3001)\n",
    "h_bgs.SetFillColor(4)\n",
    "h_bgs.SetLineColor(4)\n",
    "\n",
    "h_sig.SetFillStyle(3003)\n",
    "h_sig.SetFillColor(2)\n",
    "h_sig.SetLineColor(2)\n",
    "\n",
    "legend=ROOT.TLegend(0.5,0.7,0.9,0.9)\n",
    "legend.AddEntry(h_bgs,\"Background (WW) \",\"l\")\n",
    "legend.AddEntry(h_sig,\"Signal (H #rightarrow WW)\",\"l\")\n",
    "\n",
    "h_sig.SetStats(0)\n",
    "h_bgs.SetStats(0)\n",
    "\n",
    "h_sig.Draw(\"hist\")\n",
    "h_bgs.Draw(\"histsame\")\n",
    "legend.Draw()\n",
    "c.Draw()\n"
   ]
  },
  {
   "cell_type": "markdown",
   "metadata": {},
   "source": [
    "### Follow-up excercises\n",
    "\n",
    "1. Adding more data will improve the precision of our measurement: dataB-D in same folder\n",
    "2. Next leading background is top, identified by bjets, which themselves are identified by the `jet` `MV2c10` algorithm. Add a bjet veto to cutflow."
   ]
  },
  {
   "cell_type": "markdown",
   "metadata": {},
   "source": [
    "---"
   ]
  }
 ],
 "metadata": {
  "kernelspec": {
   "display_name": "Python 3",
   "language": "python",
   "name": "python3"
  },
  "language_info": {
   "codemirror_mode": {
    "name": "ipython",
    "version": 3
   },
   "file_extension": ".py",
   "mimetype": "text/x-python",
   "name": "python",
   "nbconvert_exporter": "python",
   "pygments_lexer": "ipython3",
   "version": "3.7.6"
  }
 },
 "nbformat": 4,
 "nbformat_minor": 4
}
