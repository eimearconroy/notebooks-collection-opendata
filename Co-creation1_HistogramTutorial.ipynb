{
 "cells": [
  {
   "cell_type": "markdown",
   "metadata": {},
   "source": [
    "<CENTER>\n",
    "    <a href=\"http://opendata.atlas.cern/release/2020/documentation/notebooks/intro.html\" class=\"icons\"><img src=\"./images/ATLASOD.gif\" style=\"width:40%\"></a>\n",
    "</CENTER>"
   ]
  },
  {
   "cell_type": "markdown",
   "metadata": {},
   "source": [
    "<CENTER><h1>Intro to histogramming</h1></CENTER>\n",
    "<CENTER>aka 'It's Not All Event Displays' </CENTER>\n",
    "\n",
    "During the __Masterclass__, you will have made measurements of the Z-peak and Higgs mass using event displays. However, in practice, particle physics measurements involve so much data that this event display method is impractical - instead, we use computer code to make our measurements.\n",
    "\n",
    "This notebook will walk you through some basic computing techniques commonly used in high energy physics (HEP) analyses. You will learn how to:\n",
    "\n",
    "1. Interact with ATLAS data files\n",
    "2. Create a histogram for displaying data\n",
    "3. Fill your histogram\n",
    "4. Draw your histogram\n",
    "5. Normalise your histogram\n",
    "    \n",
    "We will be showing you examples of these techniques to produce a plot with the __number of leptons__ in each event in a set of 13 TeV Z boson data. At the same time, you will be following along to produce your own plot with the __number of jets__ in each event in a set of 8 TeV W and Z boson data.\n",
    "    \n",
    "<table><tr>\n",
    "<td> <img src=\"./images/Zboson.png\" style=\"width: 150px;\"/> </td>\n",
    "<td> <img src=\"./images/WBoson.png\" style=\"width: 150px;\"/> </td>\n",
    "</tr></table>"
   ]
  },
  {
   "cell_type": "markdown",
   "metadata": {},
   "source": [
    "---"
   ]
  },
  {
   "cell_type": "markdown",
   "metadata": {},
   "source": [
    "## Step 0: What to load"
   ]
  },
  {
   "cell_type": "markdown",
   "metadata": {},
   "source": [
    "The software we will use to analyse our ATLAS data is called __ROOT__. Using ROOT, we are able to process large datasets, do statistical analyses, and visualise our data using __histograms__. ROOT also has its own format for __storing__ data - we'll come back to this later."
   ]
  },
  {
   "cell_type": "code",
   "execution_count": null,
   "metadata": {},
   "outputs": [],
   "source": [
    "#Import the ROOT library\n",
    "import ROOT\n",
    "\n",
    "#Here you could also import any other python libraries you would like to use"
   ]
  },
  {
   "cell_type": "markdown",
   "metadata": {},
   "source": [
    "---"
   ]
  },
  {
   "cell_type": "markdown",
   "metadata": {},
   "source": [
    "## Step 1: Working with .root files"
   ]
  },
  {
   "cell_type": "markdown",
   "metadata": {},
   "source": [
    "Next we have to open the data files that we want to analyze. \n",
    "\n",
    "As mentioned above, ROOT has it's own format for storing physics data - a _[something].root_ file. For each event in the dataset we could have many particles, and for each particle, there are several __variables__ we measure (e.g. energy, momentum, charge). The structure of a _*.root_ file is as follows:\n",
    "\n",
    "\n",
    "- A _.root_ file stores and keeps track of all this information in a container called a __TTree__. \n",
    "- Inside the TTree, each variable that we measure are stored separately in containers called __branches__. \n",
    "- Inside each branch, the measurement of that variable for each event is stored."
   ]
  },
  {
   "cell_type": "markdown",
   "metadata": {},
   "source": [
    "<CENTER><img src=\"./images/root_struct.png\" style=\"width:70%\"></CENTER>"
   ]
  },
  {
   "cell_type": "markdown",
   "metadata": {},
   "source": [
    "Lets load our _*.root_ file using ROOT's `TFile.Open()` function. The __argument__ inside the brackets tells ROOT where to look for the file."
   ]
  },
  {
   "cell_type": "code",
   "execution_count": null,
   "metadata": {},
   "outputs": [],
   "source": [
    "f = ROOT.TFile.Open(\"https://atlas-opendata.web.cern.ch/atlas-opendata/samples/2020/1largeRjet1lep/MC/mc_361106.Zee.1largeRjet1lep.root\") ## 13 TeV sample\n",
    "#f = ROOT.TFile.Open(\"http://opendata.atlas.cern/release/samples/MC/mc_105987.WZ.root\") ## 8 TeV sample\n",
    "#f = ROOT.TFile.Open(\"/home/student/datasets/MC/mc_105987.WZ.root\") ## local file example"
   ]
  },
  {
   "cell_type": "markdown",
   "metadata": {},
   "source": [
    "_You could uncomment one of the other lines to repeat the analysis we will do below for a different dataset (remember to comment out the top line first)._"
   ]
  },
  {
   "cell_type": "markdown",
   "metadata": {},
   "source": [
    "Next, to load our data from the _*.root_ file, we retrieve the TTree  using the `.Get()` function, which takes the name of the TTree as its argument."
   ]
  },
  {
   "cell_type": "code",
   "execution_count": null,
   "metadata": {},
   "outputs": [],
   "source": [
    "#In this .root file, the TTree is called \"mini\"\n",
    "tree = f.Get(\"mini\")"
   ]
  },
  {
   "cell_type": "markdown",
   "metadata": {},
   "source": [
    "The `.GetListOfBranches()` function will extract the set of branches from the tree. Looping through each branch in this set, the `.GetName()` function can be used to acess the branch names."
   ]
  },
  {
   "cell_type": "code",
   "execution_count": null,
   "metadata": {},
   "outputs": [],
   "source": [
    "branches = tree.GetListOfBranches()\n",
    "\n",
    "print('TTree branch names:')\n",
    "print('-------------------')\n",
    "for branch in branches:\n",
    "    print(branch.GetName())"
   ]
  },
  {
   "cell_type": "markdown",
   "metadata": {},
   "source": [
    "We can see how many events are stored in the tree using the `.GetEntries()` function. This is a useful check that the TTree has loaded correctly."
   ]
  },
  {
   "cell_type": "code",
   "execution_count": null,
   "metadata": {},
   "outputs": [],
   "source": [
    "print('Number of events in this tree: %d' %tree.GetEntries())"
   ]
  },
  {
   "cell_type": "markdown",
   "metadata": {},
   "source": [
    "### Over to you"
   ]
  },
  {
   "cell_type": "markdown",
   "metadata": {},
   "source": [
    "__1)__ __Replace the ###'s in the cell below__ to open the _*.root_ data file `\"http://opendata.atlas.cern/release/samples/MC/mc_105987.WZ.root\"`\n",
    "\n",
    "_Relevant functions:_ `.TFile.Open()`"
   ]
  },
  {
   "cell_type": "code",
   "execution_count": null,
   "metadata": {},
   "outputs": [],
   "source": [
    "my_file = ###"
   ]
  },
  {
   "cell_type": "markdown",
   "metadata": {},
   "source": [
    "__2)__ Load the tree named \"mini\" stored in the _.*root_ data file. Print the number of events in this tree.\n",
    "\n",
    "_Relevant functions:_ `.Get()` `.GetEntries()`"
   ]
  },
  {
   "cell_type": "code",
   "execution_count": null,
   "metadata": {},
   "outputs": [],
   "source": [
    "my_tree = my_file.###\n",
    "print('Number of events in this tree: %d' % ### )"
   ]
  },
  {
   "cell_type": "markdown",
   "metadata": {},
   "source": [
    "__3)__ We will also need to create variables for the maximum number of jets and the minimum number of jets in a single event in this dataset for later, using the `GetMaximum(*args)` and `GetMinimum(*args)`, which take the branch name storing the number of jets per event (`'jet_n'`) as their argument."
   ]
  },
  {
   "cell_type": "code",
   "execution_count": null,
   "metadata": {},
   "outputs": [],
   "source": [
    "minimum = int(my_tree.### )\n",
    "maximum = int(my_tree.### )\n",
    "\n",
    "#Print them out so we can see\n",
    "print('Max no. jets: %d' %maximum)\n",
    "print('Min no. jets: %d' %minimum)"
   ]
  },
  {
   "cell_type": "markdown",
   "metadata": {},
   "source": [
    "---"
   ]
  },
  {
   "cell_type": "markdown",
   "metadata": {},
   "source": [
    "## Step 2: Getting ready to display histograms"
   ]
  },
  {
   "cell_type": "markdown",
   "metadata": {},
   "source": [
    "We're now almost ready to begin working with our data.\n",
    "\n",
    "Similarly to a physical drawing, our histogram needs a structure to be drawn onto, so we create a __canvas__ to hold our histogram. If we do not have a canvas we will not be able to see our histogram at the end. \n",
    "\n",
    "We create our canvas using the `ROOT.TCanvas()` function. Its arguments are:\n",
    "\n",
    "- Its name: `\"Canvas\"`\n",
    "- Its title: `\"a first way to plot a variable\"`. \n",
    "- The two following arguments define the width and the height of the canvas (in pixels)."
   ]
  },
  {
   "cell_type": "code",
   "execution_count": null,
   "metadata": {},
   "outputs": [],
   "source": [
    "canvas = ROOT.TCanvas(\"Canvas\",\"a first way to plot a variable\",800,600)"
   ]
  },
  {
   "cell_type": "markdown",
   "metadata": {},
   "source": [
    "Now we define a histogram that will later be placed on this canvas using the `ROOT.TH1F()` function. \n",
    "\n",
    "Its name is `\"variable\"` and the title of the histogram is `\"Example plot: Number of leptons\"` with the the titles of the histogram's x and y axes (_Number of leptons_ and _Events_ respectively) appended to the plot title using semicolons. The three following arguments indicate that this histogram contains 5 __bins__ which have a range from 0 to 4."
   ]
  },
  {
   "cell_type": "code",
   "execution_count": null,
   "metadata": {},
   "outputs": [],
   "source": [
    "hist = ROOT.TH1F(\"variable\",\"Example plot: Number of leptons; Number of leptons ; Events \",5,-0.5,4.5)"
   ]
  },
  {
   "cell_type": "markdown",
   "metadata": {},
   "source": [
    "_(Note the offset of 0.5 in the range arguments. This shifts the bins so they are __centred__ on 0,1,2,3,4 rather than having their leftmost edges on those values, as is the default.)_"
   ]
  },
  {
   "cell_type": "markdown",
   "metadata": {},
   "source": [
    "### Over to you"
   ]
  },
  {
   "cell_type": "markdown",
   "metadata": {},
   "source": [
    "__4)__ Create a canvas to display your plot. Name your canvas `\"8TeV_Canvas\"`, give it the title `\"plotting my variable\"` and dimensions `700`x`500` pixels.\n",
    "\n",
    "_Relevant functions:_ `ROOT.TCanvas()`"
   ]
  },
  {
   "cell_type": "code",
   "execution_count": null,
   "metadata": {},
   "outputs": [],
   "source": [
    "my_canvas = ###"
   ]
  },
  {
   "cell_type": "markdown",
   "metadata": {},
   "source": [
    "__5)__ Set up an (empty for now) histogram, which will contain the number of __jets__ in each event. Name your plot `\"8TeV_variable\"`, title it `\"Example plot: Number of jets\"` with axes `\"Number of jets\"` and `\"Events\"`. \n",
    "\n",
    "This time, instead of explicitly giving the bin range and number, do so in terms of the `maximum` and `minimum`. Remember how to centre the bins?\n",
    "\n",
    "_Relevant functions:_ `ROOT.TH1F()`"
   ]
  },
  {
   "cell_type": "code",
   "execution_count": null,
   "metadata": {},
   "outputs": [],
   "source": [
    "my_hist = ###"
   ]
  },
  {
   "cell_type": "markdown",
   "metadata": {},
   "source": [
    "---"
   ]
  },
  {
   "cell_type": "markdown",
   "metadata": {},
   "source": [
    "## Step 3: Filling histograms"
   ]
  },
  {
   "cell_type": "markdown",
   "metadata": {},
   "source": [
    "It's now time to fill our histogram! In this example, we want to display the number of leptons in each event in our tree. This information is stored in a branch called `lep_n`.\n",
    "\n",
    "To do this, we need to loop through all the events in the tree and fill the histogram `hist` that we already defined with the value stored in `lep_n` for each event. This is done with the `.Fill()` function which takes the branch name as its argument.\n",
    "\n",
    "After the program has looped over all the data it prints the word __Done!__."
   ]
  },
  {
   "cell_type": "markdown",
   "metadata": {},
   "source": [
    "_In later examples, we'll be more picky about the events we put in our histogram, skipping some events in the tree if they don't meet certain criteria. This is called making __cuts__._"
   ]
  },
  {
   "cell_type": "code",
   "execution_count": null,
   "metadata": {},
   "outputs": [],
   "source": [
    "#Example of an event loop\n",
    "for event in tree:\n",
    "    hist.Fill(tree.lep_n)\n",
    "    \n",
    "print(\"Done!\")"
   ]
  },
  {
   "cell_type": "markdown",
   "metadata": {},
   "source": [
    "### Over to you"
   ]
  },
  {
   "cell_type": "markdown",
   "metadata": {},
   "source": [
    "__6)__ Loop through each event in the tree, filling your histogram with the number of jets (contained in the branch `jet_n`) in each. When the loop is finished, print a message to indicate that it is done.\n",
    "\n",
    "_Relevant functions:_ `.Fill()`"
   ]
  },
  {
   "cell_type": "code",
   "execution_count": null,
   "metadata": {},
   "outputs": [],
   "source": [
    "for event in my_tree:\n",
    "    my_hist.###(my_tree.###)\n",
    "    \n",
    "### "
   ]
  },
  {
   "cell_type": "markdown",
   "metadata": {},
   "source": [
    "---"
   ]
  },
  {
   "cell_type": "markdown",
   "metadata": {},
   "source": [
    "## Step 4: Drawing histograms"
   ]
  },
  {
   "cell_type": "markdown",
   "metadata": {},
   "source": [
    "After filling the histogram, we want to see the results of the analysis. ROOT has a very specific order of operations for drawing histograms:\n",
    "\n",
    "1. Declare any formatting you would like. In this example, we want to fill the histogram in a solid colour using the `.SetFillColor()` function. We set the edges to be the same colour by passing the same argument to `.SetEdgeColor()`.\n",
    "2. Move ('change directory') to the canvas by calling `.cd()` \n",
    "3. Draw the histogram onto the canvas using the `.Draw()` function.\n",
    "4. Draw the canvas on which the histogram is now \"mounted\". This is also done with the `.Draw()` function."
   ]
  },
  {
   "cell_type": "code",
   "execution_count": null,
   "metadata": {},
   "outputs": [],
   "source": [
    "hist.SetFillColor(2) #.SetFillColor() takes whole numbers, which represent colours, as arguments\n",
    "hist.SetLineColor(2) #Similarly, .SetLineColor() changes the histogram edge color \n",
    "#Try giving .SetFillColor() and .SetLineColor() different numbers as arguments\n",
    "\n",
    "canvas.cd() #Move to the canvas\n",
    "hist.Draw(\"h\")\n",
    "canvas.Draw(\"hist\")"
   ]
  },
  {
   "cell_type": "markdown",
   "metadata": {},
   "source": [
    "### Over to you"
   ]
  },
  {
   "cell_type": "markdown",
   "metadata": {},
   "source": [
    "__7)__ Set up your histogram to be filled with a color other than red. Move to your canvas, draw your histogram onto the canvas, then draw your canvas. \n",
    "\n",
    "_Relevant functions:_ `.SetFillColor()` `.cd()` `.Draw()`"
   ]
  },
  {
   "cell_type": "code",
   "execution_count": null,
   "metadata": {},
   "outputs": [],
   "source": [
    "my_hist.###\n",
    "\n",
    "my_canvas.###\n",
    "\n",
    "my_hist.###\n",
    "my_canvas.###"
   ]
  },
  {
   "cell_type": "markdown",
   "metadata": {},
   "source": [
    "---"
   ]
  },
  {
   "cell_type": "markdown",
   "metadata": {},
   "source": [
    "## Step 5: Normalising histograms"
   ]
  },
  {
   "cell_type": "markdown",
   "metadata": {},
   "source": [
    "Often, we are more interested in the __proportions__ of our histogram than the absolute number of events it contains (which can change depending on what dataset you use).\n",
    "\n",
    "Our final step will be to rescale the y-axis of our histogram to that the histogram's total is equal to 1. This is called __normalisation__."
   ]
  },
  {
   "cell_type": "code",
   "execution_count": null,
   "metadata": {},
   "outputs": [],
   "source": [
    "#Find the number of entries in the histogram\n",
    "#In this particular case (where no cuts are made), this should be equal to the number of events in the tree\n",
    "\n",
    "scale = hist.Integral() \n",
    "print('Number of entries in histogram: %0.1f' %scale)\n",
    "\n",
    "\n",
    "#Divide the number of entries in each bin by the total number of entries in the histogram\n",
    "#This will indicate what fraction of the total is held in each bin\n",
    "\n",
    "hist.Scale(1/scale)"
   ]
  },
  {
   "cell_type": "markdown",
   "metadata": {},
   "source": [
    "Finally, we format and draw the normalised histogram onto our canvas, then draw the canvas as we did above. "
   ]
  },
  {
   "cell_type": "code",
   "execution_count": null,
   "metadata": {
    "scrolled": true
   },
   "outputs": [],
   "source": [
    "hist.SetFillColor(2)\n",
    "hist.GetYaxis().SetTitle(\"Fraction of events\") #Note the re-naming of the y-axis\n",
    "\n",
    "canvas.cd()\n",
    "hist.Draw(\"h\")\n",
    "canvas.Draw(\"hist\")"
   ]
  },
  {
   "cell_type": "markdown",
   "metadata": {},
   "source": [
    "### Over to you"
   ]
  },
  {
   "cell_type": "markdown",
   "metadata": {},
   "source": [
    "__8)__ Normalize your histogram. Redraw it onto the canvas then redraw the canvas.\n",
    "\n",
    "_Relevant functions:_ `.Integral()` `.Scale()` and functions from __7)__"
   ]
  },
  {
   "cell_type": "code",
   "execution_count": null,
   "metadata": {},
   "outputs": [],
   "source": [
    "my_scale = my_hist.###\n",
    "\n",
    "my_hist.Scale(###)\n",
    "\n",
    "#Formatting options go here\n",
    "#Rename the y-axis?\n",
    "#Change the color?\n",
    "\n",
    "my_canvas.cd()\n",
    "my_hist.###\n",
    "my_canvas.###"
   ]
  },
  {
   "cell_type": "markdown",
   "metadata": {},
   "source": [
    "---"
   ]
  },
  {
   "cell_type": "markdown",
   "metadata": {},
   "source": [
    "## Optional Extra"
   ]
  },
  {
   "cell_type": "markdown",
   "metadata": {},
   "source": [
    "Remember how to extract the list of branches from a TTree? Choose a new branch from `my_tree` and repeat the steps __4-8__ above to show the distribution of that branch's variable over the dataset."
   ]
  }
 ],
 "metadata": {
  "kernelspec": {
   "display_name": "Python 3",
   "language": "python",
   "name": "python3"
  },
  "language_info": {
   "codemirror_mode": {
    "name": "ipython",
    "version": 3
   },
   "file_extension": ".py",
   "mimetype": "text/x-python",
   "name": "python",
   "nbconvert_exporter": "python",
   "pygments_lexer": "ipython3",
   "version": "3.7.6"
  }
 },
 "nbformat": 4,
 "nbformat_minor": 2
}
