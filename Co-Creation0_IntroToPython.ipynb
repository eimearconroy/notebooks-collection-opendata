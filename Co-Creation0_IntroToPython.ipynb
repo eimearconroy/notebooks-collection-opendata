{
 "cells": [
  {
   "cell_type": "markdown",
   "metadata": {},
   "source": [
    "# Introduction to coding in Python\n",
    "\n",
    "Being able to code is an essential skill for a Particle Physicist (or any scientist, for that matter).  Our datasets are simply too large to process without the assistance of computers!  An ATLAS Physicist typically uses some combination of the C++ and Python programming languages to accomplish everything from simulating proton-proton collisions to searching for Higgs bosons.\n",
    "\n",
    "As being code-literate is a prerequisite to analysing ATLAS data, we will in this notebook review some of the basics of coding in Python.  We will do this by presenting a diluted and interactive version of the tutorial of the [official Python documentation][PyTutorial].  For more information on any topic, let the official Python documentation be your first port of call.  We will link to specific parts of the tutorial as we go along.\n",
    "\n",
    "Python is a super easy programming language and is used extensively by beginners and software engineers alike.  As an interpreted language, no manual compilation (translation from human-readable code to machine-usable code) is necessary, which facilitates rapid development and swift experimentation.  Python is also fun!  It is named after the BBC series \"Monty Python's Flying Circus\" and refers to its founder as a Benevolent Dictator For Life ([BDFL][BDFL]).\n",
    "\n",
    "For the duration of the Co-Creation workshop, you will be accompanied by expert Pythonistas, so if you have any questions, do ask!\n",
    "\n",
    "[PyTutorial]: <https://docs.python.org/3/tutorial/index.html>\n",
    "[BDFL]: <https://docs.python.org/3/glossary.html>"
   ]
  },
  {
   "cell_type": "markdown",
   "metadata": {},
   "source": [
    "> ## A note on Jupyter notebooks\n",
    ">\n",
    "> The web-based, interactive coding environment you are currently seeing is a [Jupyter notebook][Jupyter].  With Jupyter, you can edit and execute code in your browser, and edit rich text to explain/document what you are doing as you go using the [Markdown][Markdown] markup language.\n",
    ">\n",
    "> It is easy!  To get started, memorise these [keyboard shortcuts][kbd]:\n",
    "> * `Shift + Enter`: run cell\n",
    "> * `Enter`: enter edit mode\n",
    "> * `Esc`: exit a cell\n",
    ">\n",
    "> Give these commands a quick go by clicking on this text (highlighting the encompassing cell), hitting `Enter` to enter edit mode, then pressing `Shift + Enter` to 'run' the cell.  Feel free to make a change!  If you ever change something to the point of breaking, just reload the page to retrieve a fresh copy of the notebook.\n",
    ">\n",
    "> To learn more about using Jupyter notebooks, browse through the items of the menu above (Edit, View, Insert, etc.) and note what you can (and cannot) do.  As an extra perk, see that under Help, there is a series of links to Reference material for some of the most widely used Python libraries in science.\n",
    "\n",
    "[Jupyter]: <https://jupyter-notebook.readthedocs.io/en/stable/index.html>\n",
    "[Markdown]: <https://daringfireball.net/projects/markdown/>\n",
    "[kbd]: <https://jupyter-notebook.readthedocs.io/en/stable/notebook.html#keyboard-shortcuts>"
   ]
  },
  {
   "cell_type": "markdown",
   "metadata": {},
   "source": [
    "## Hello, World!\n",
    "\n",
    "The [\"Hello, World!\" programme][HelloWorld] is a time-honoured tradition in Computer Science which will be respected here.  The idea of Hello World is to illustrate the basic syntax of a language and to verify that the coding environment has been properly installed and set up.  So to test Python in this notebook, have a go at running the code of the next cell (`Shift + Enter`)...if it does what you expect, then you are good to go!  Because Python is such a simple language, this programme is in fact not especially interesting.\n",
    "\n",
    "[HelloWorld]: <https://en.wikipedia.org/wiki/%22Hello,_World!%22_program>"
   ]
  },
  {
   "cell_type": "code",
   "execution_count": 6,
   "metadata": {},
   "outputs": [
    {
     "name": "stdout",
     "output_type": "stream",
     "text": [
      "Hello, World!\n"
     ]
    }
   ],
   "source": [
    "print(\"Hello, World!\")"
   ]
  },
  {
   "cell_type": "markdown",
   "metadata": {},
   "source": [
    "## Numbers, Strings, and Compound Data Types\n",
    "\n",
    "[Follwing [An Informal Introduction to Python](https://docs.python.org/3/tutorial/introduction.html)]"
   ]
  },
  {
   "cell_type": "markdown",
   "metadata": {},
   "source": [
    "### Python as a calculator\n",
    "\n",
    "In Python, numbers are numbers and are treated by the interpreter as you would expect.  Evaluate the examples of the following code cells to see what the operators `+`, `-`, `*` and `/` do, to find that - surprise, surprise - they have the effect of addition, subtraction, multiplication, and division."
   ]
  },
  {
   "cell_type": "code",
   "execution_count": 4,
   "metadata": {},
   "outputs": [
    {
     "data": {
      "text/plain": [
       "4"
      ]
     },
     "execution_count": 4,
     "metadata": {},
     "output_type": "execute_result"
    }
   ],
   "source": [
    "2 + 2"
   ]
  },
  {
   "cell_type": "code",
   "execution_count": 5,
   "metadata": {},
   "outputs": [
    {
     "data": {
      "text/plain": [
       "20"
      ]
     },
     "execution_count": 5,
     "metadata": {},
     "output_type": "execute_result"
    }
   ],
   "source": [
    "50 - 5*6"
   ]
  },
  {
   "cell_type": "code",
   "execution_count": 7,
   "metadata": {},
   "outputs": [
    {
     "data": {
      "text/plain": [
       "5.0"
      ]
     },
     "execution_count": 7,
     "metadata": {},
     "output_type": "execute_result"
    }
   ],
   "source": [
    "(50 - 5*6) / 4"
   ]
  },
  {
   "cell_type": "code",
   "execution_count": 9,
   "metadata": {},
   "outputs": [
    {
     "data": {
      "text/plain": [
       "1.6"
      ]
     },
     "execution_count": 9,
     "metadata": {},
     "output_type": "execute_result"
    }
   ],
   "source": [
    "8 / 5"
   ]
  },
  {
   "cell_type": "markdown",
   "metadata": {},
   "source": [
    "Why do some of the numbers produced by these operations have decimal points, while others do not?  It is because we have here two _types_ of numbers: `int` types and `float` types.  The `float` type represents a [floating point number][fpn] and is a computer's formulaic binary representation of a decimal number.  The `int` type represents integer values.\n",
    "> If you are lucky, you will never have to worry about 'floating point precision', but it can be a significant consideration, with errors here having in the past caused [rockets to explode][Ariane]!\n",
    "\n",
    "[fpn]: <https://en.wikipedia.org/wiki/Floating-point_arithmetic>\n",
    "[Ariane]: <http://www-users.math.umn.edu/~arnold/disasters/ariane.html>"
   ]
  },
  {
   "cell_type": "markdown",
   "metadata": {},
   "source": [
    "Python further provides floor-division, modulo, and power operators for convenience."
   ]
  },
  {
   "cell_type": "code",
   "execution_count": 10,
   "metadata": {},
   "outputs": [
    {
     "data": {
      "text/plain": [
       "5"
      ]
     },
     "execution_count": 10,
     "metadata": {},
     "output_type": "execute_result"
    }
   ],
   "source": [
    "17 // 3 # Floor division"
   ]
  },
  {
   "cell_type": "code",
   "execution_count": 11,
   "metadata": {},
   "outputs": [
    {
     "data": {
      "text/plain": [
       "2"
      ]
     },
     "execution_count": 11,
     "metadata": {},
     "output_type": "execute_result"
    }
   ],
   "source": [
    "17 % 3 # Modulo, or remainder division"
   ]
  },
  {
   "cell_type": "code",
   "execution_count": 13,
   "metadata": {},
   "outputs": [
    {
     "data": {
      "text/plain": [
       "128"
      ]
     },
     "execution_count": 13,
     "metadata": {},
     "output_type": "execute_result"
    }
   ],
   "source": [
    "2 ** 7 # Power"
   ]
  },
  {
   "cell_type": "markdown",
   "metadata": {},
   "source": [
    "It is possible to assign a value to a variable using the `=` operator.  Python is special in that in `x = 4`, the type of `x` does not have to be declared.  The type of the variable is the type of the value."
   ]
  },
  {
   "cell_type": "code",
   "execution_count": 23,
   "metadata": {},
   "outputs": [
    {
     "data": {
      "text/plain": [
       "16"
      ]
     },
     "execution_count": 23,
     "metadata": {},
     "output_type": "execute_result"
    }
   ],
   "source": [
    "x = 4\n",
    "x**2"
   ]
  },
  {
   "cell_type": "markdown",
   "metadata": {},
   "source": [
    "We have also the handy in-place operators `+=`, `-=`, `*=` and `/=`"
   ]
  },
  {
   "cell_type": "code",
   "execution_count": 37,
   "metadata": {},
   "outputs": [
    {
     "name": "stdout",
     "output_type": "stream",
     "text": [
      "12\n"
     ]
    }
   ],
   "source": [
    "y = 10\n",
    "y += 2\n",
    "print(y)"
   ]
  },
  {
   "cell_type": "code",
   "execution_count": 38,
   "metadata": {},
   "outputs": [
    {
     "name": "stdout",
     "output_type": "stream",
     "text": [
      "1.5\n"
     ]
    }
   ],
   "source": [
    "z = 2\n",
    "z *= 2\n",
    "z -=1\n",
    "z /= 2\n",
    "print(z)"
   ]
  },
  {
   "cell_type": "markdown",
   "metadata": {},
   "source": [
    "### Strings\n",
    "\n",
    "The Python `string` is a string of characters enclosed in quotation marks (`'...'` or `\"...\"`).  Strings are amenable to the above mathematical operations in a curious way and are indexed as if they were lists of characters!"
   ]
  },
  {
   "cell_type": "code",
   "execution_count": 39,
   "metadata": {},
   "outputs": [
    {
     "data": {
      "text/plain": [
       "'Python'"
      ]
     },
     "execution_count": 39,
     "metadata": {},
     "output_type": "execute_result"
    }
   ],
   "source": [
    "prefix = 'Py'\n",
    "prefix + 'thon'"
   ]
  },
  {
   "cell_type": "code",
   "execution_count": 40,
   "metadata": {},
   "outputs": [
    {
     "data": {
      "text/plain": [
       "'unununium'"
      ]
     },
     "execution_count": 40,
     "metadata": {},
     "output_type": "execute_result"
    }
   ],
   "source": [
    "# 3 times 'un', followed by 'ium'\n",
    "3 * 'un' + 'ium'"
   ]
  },
  {
   "cell_type": "code",
   "execution_count": 43,
   "metadata": {},
   "outputs": [],
   "source": [
    "word = 'Python'"
   ]
  },
  {
   "cell_type": "code",
   "execution_count": 44,
   "metadata": {},
   "outputs": [
    {
     "data": {
      "text/plain": [
       "'P'"
      ]
     },
     "execution_count": 44,
     "metadata": {},
     "output_type": "execute_result"
    }
   ],
   "source": [
    "word[0]"
   ]
  },
  {
   "cell_type": "code",
   "execution_count": 45,
   "metadata": {},
   "outputs": [
    {
     "data": {
      "text/plain": [
       "'n'"
      ]
     },
     "execution_count": 45,
     "metadata": {},
     "output_type": "execute_result"
    }
   ],
   "source": [
    "word[-1]"
   ]
  },
  {
   "cell_type": "code",
   "execution_count": 46,
   "metadata": {},
   "outputs": [
    {
     "data": {
      "text/plain": [
       "'ytho'"
      ]
     },
     "execution_count": 46,
     "metadata": {},
     "output_type": "execute_result"
    }
   ],
   "source": [
    "word[1:5]"
   ]
  },
  {
   "cell_type": "markdown",
   "metadata": {},
   "source": [
    "### Compound Data Types\n",
    "\n",
    "A Python list is a mutable, compound data type for grouping together a sequence of values."
   ]
  },
  {
   "cell_type": "code",
   "execution_count": 80,
   "metadata": {},
   "outputs": [],
   "source": [
    "# Here is an example list\n",
    "nums = [1, 2, 3]"
   ]
  },
  {
   "cell_type": "code",
   "execution_count": 81,
   "metadata": {},
   "outputs": [
    {
     "data": {
      "text/plain": [
       "[4, 2, 3]"
      ]
     },
     "execution_count": 81,
     "metadata": {},
     "output_type": "execute_result"
    }
   ],
   "source": [
    "# Lists are mutable\n",
    "nums[0] = 4\n",
    "nums"
   ]
  },
  {
   "cell_type": "code",
   "execution_count": 82,
   "metadata": {},
   "outputs": [
    {
     "data": {
      "text/plain": [
       "[4, 2, 3, 'a']"
      ]
     },
     "execution_count": 82,
     "metadata": {},
     "output_type": "execute_result"
    }
   ],
   "source": [
    "# Lists can contain different data types\n",
    "nums += ['a']\n",
    "nums"
   ]
  },
  {
   "cell_type": "code",
   "execution_count": 84,
   "metadata": {},
   "outputs": [
    {
     "data": {
      "text/plain": [
       "[2, 3]"
      ]
     },
     "execution_count": 84,
     "metadata": {},
     "output_type": "execute_result"
    }
   ],
   "source": [
    "# Lists can be 'sliced'\n",
    "nums[1:3]"
   ]
  },
  {
   "cell_type": "markdown",
   "metadata": {},
   "source": [
    "The [built-in][builtin-funcs] function [`len(s)`][len] returns the length of, or number of items in, a sequence or collection `s`.  One excellent example use case is to find the number of characters in the string (a sequence type) 'supercalifragilisticexpialidocious'.\n",
    "\n",
    "[builtin-funcs]: <https://docs.python.org/3/library/functions.html>\n",
    "[len]: <https://docs.python.org/3/library/functions.html#len>"
   ]
  },
  {
   "cell_type": "code",
   "execution_count": 86,
   "metadata": {},
   "outputs": [
    {
     "data": {
      "text/plain": [
       "34"
      ]
     },
     "execution_count": 86,
     "metadata": {},
     "output_type": "execute_result"
    }
   ],
   "source": [
    "len('supercalifragilisticexpialidocious')"
   ]
  },
  {
   "cell_type": "markdown",
   "metadata": {},
   "source": [
    "As compound data types, [_tuples_][tuples] and [_dictionaries_][dicts] are also frequently used.  Can you figure out what they do from the linked pages?  Feel free to make new code cells here to explore.\n",
    "\n",
    "[tuples]: <https://docs.python.org/3/tutorial/datastructures.html#tuples-and-sequences>\n",
    "[dicts]: <https://docs.python.org/3/tutorial/datastructures.html#dictionaries>"
   ]
  },
  {
   "cell_type": "markdown",
   "metadata": {},
   "source": [
    "## Control Flow\n",
    "\n",
    "In the preceding example code snippets (the mathematical and string operations, and list manipulations), we programmed our commands to be executed line-by-line by the interpreter.  It would be fair to say that these straighforward, top-to-bottom programmes are quite dull.  A programme may be made to exhibit a more complex [control flow][flow] by use of [_control flow statements_][PFlow].  \n",
    "\n",
    "As control flow statements in Python (as in most other languages), there are conditional statements and loop constructs.  Conditional statements (`if`, `elif`, `else`) are used to execute blocks of code only when certain conditions are met.  Loop constructs are used to execute blocks of code some number of times (`for`) or while certain conditions are met (`while`).\n",
    "\n",
    "[flow]: <https://en.wikipedia.org/wiki/Control_flow>\n",
    "[PFlow]: <https://docs.python.org/3/tutorial/controlflow.html>\n",
    "\n",
    "### `if` Statements"
   ]
  },
  {
   "cell_type": "code",
   "execution_count": 1,
   "metadata": {},
   "outputs": [
    {
     "name": "stdout",
     "output_type": "stream",
     "text": [
      "Please enter an integer:  4\n"
     ]
    }
   ],
   "source": [
    "x = int(input('Please enter an integer:  '))"
   ]
  },
  {
   "cell_type": "code",
   "execution_count": 3,
   "metadata": {},
   "outputs": [
    {
     "name": "stdout",
     "output_type": "stream",
     "text": [
      "You entered a positive number\n"
     ]
    }
   ],
   "source": [
    "# Example conditional 'if' block\n",
    "if x < 0:\n",
    "    print('You entered a negative number!')\n",
    "elif x == 0:\n",
    "    print('You entered zero')\n",
    "else:\n",
    "    print('You entered a positive number')"
   ]
  },
  {
   "cell_type": "markdown",
   "metadata": {},
   "source": [
    "### `for` Statements\n",
    "\n",
    "`for` statements in Python allow you to iterate over the items of any sequence (like a list or string) in order."
   ]
  },
  {
   "cell_type": "code",
   "execution_count": 4,
   "metadata": {},
   "outputs": [
    {
     "name": "stdout",
     "output_type": "stream",
     "text": [
      "cat 3\n",
      "window 6\n",
      "defenestrate 12\n",
      "quark 5\n"
     ]
    }
   ],
   "source": [
    "# Measure some strings in a `for` loop\n",
    "words = ['cat', 'window', 'defenestrate', 'quark']\n",
    "for w in words:\n",
    "    print(w, len(w))"
   ]
  },
  {
   "cell_type": "markdown",
   "metadata": {},
   "source": [
    "In conjunction with `for` statements, the built-in [`range()`][range] function is often useful.  It returns a range object, constructed by calling `range(stop)` or `range(start, stop[, step])`, that represents a sequence of numbers that goes from `start` (0 by default) to `stop` in steps of `step` (1 by default).\n",
    "\n",
    "[range]: <https://docs.python.org/3/library/stdtypes.html#range>"
   ]
  },
  {
   "cell_type": "code",
   "execution_count": 5,
   "metadata": {},
   "outputs": [
    {
     "data": {
      "text/plain": [
       "range(0, 10)"
      ]
     },
     "execution_count": 5,
     "metadata": {},
     "output_type": "execute_result"
    }
   ],
   "source": [
    "range(10)"
   ]
  },
  {
   "cell_type": "code",
   "execution_count": 6,
   "metadata": {},
   "outputs": [
    {
     "data": {
      "text/plain": [
       "[0, 1, 2, 3, 4, 5, 6, 7, 8, 9]"
      ]
     },
     "execution_count": 6,
     "metadata": {},
     "output_type": "execute_result"
    }
   ],
   "source": [
    "list(range(10))"
   ]
  },
  {
   "cell_type": "code",
   "execution_count": 7,
   "metadata": {},
   "outputs": [
    {
     "data": {
      "text/plain": [
       "[0, 2, 4, 6, 8]"
      ]
     },
     "execution_count": 7,
     "metadata": {},
     "output_type": "execute_result"
    }
   ],
   "source": [
    "list(range(0, 10, 2))"
   ]
  },
  {
   "cell_type": "code",
   "execution_count": 4,
   "metadata": {},
   "outputs": [
    {
     "name": "stdout",
     "output_type": "stream",
     "text": [
      "[0, 1, 2, 3, 4, 5, 6, 7, 8, 9]\n"
     ]
    }
   ],
   "source": [
    "# Example 'for' loop over a range that pushes items onto a list\n",
    "items = []\n",
    "for i in range(10):\n",
    "    items.append(i)\n",
    "print(items)"
   ]
  },
  {
   "cell_type": "markdown",
   "metadata": {},
   "source": [
    "### `while` Statements\n",
    "\n",
    "A `while [condition]` loop executes for as long as `condition` is true.  If `condition` is _always_ true, then you have an infinite loop - a loop that will never end.  In Jupyter, you can interrupt a cell by clicking the stop button in the menu above, or double-tapping 'i' on your keyboard.  If you choose to run the following cell, it is up to you to interrupt it!  Can you think of a more interesting use of while?"
   ]
  },
  {
   "cell_type": "code",
   "execution_count": 1,
   "metadata": {},
   "outputs": [
    {
     "ename": "KeyboardInterrupt",
     "evalue": "",
     "output_type": "error",
     "traceback": [
      "\u001b[0;31m---------------------------------------------------------------------------\u001b[0m",
      "\u001b[0;31mKeyboardInterrupt\u001b[0m                         Traceback (most recent call last)",
      "\u001b[0;32m<ipython-input-1-b7133701d76c>\u001b[0m in \u001b[0;36m<module>\u001b[0;34m\u001b[0m\n\u001b[1;32m      1\u001b[0m \u001b[0;32mwhile\u001b[0m \u001b[0;32mTrue\u001b[0m\u001b[0;34m:\u001b[0m\u001b[0;34m\u001b[0m\u001b[0;34m\u001b[0m\u001b[0m\n\u001b[0;32m----> 2\u001b[0;31m     \u001b[0;32mpass\u001b[0m\u001b[0;34m\u001b[0m\u001b[0;34m\u001b[0m\u001b[0m\n\u001b[0m",
      "\u001b[0;31mKeyboardInterrupt\u001b[0m: "
     ]
    }
   ],
   "source": [
    "while True:\n",
    "    pass"
   ]
  },
  {
   "cell_type": "code",
   "execution_count": 7,
   "metadata": {},
   "outputs": [
    {
     "name": "stdout",
     "output_type": "stream",
     "text": [
      "0 1 1 2 3 5 8 13 21 34 55 89 144 233 377 610 987 "
     ]
    }
   ],
   "source": [
    "# A more interesting while loop: calculate the Fibonacci series!\n",
    "a, b = 0, 1\n",
    "while a < 1000:\n",
    "    print(a, end=' ')\n",
    "    a, b = b, a + b"
   ]
  },
  {
   "cell_type": "markdown",
   "metadata": {},
   "source": [
    "### `break`, `continue` and `pass`\n",
    "\n",
    "These simple statements are for fine-tuning the control flow of loop constructs and are good to know.\n",
    "* The `break` statement breaks out of the innermost (`for` or `while`) loop;\n",
    "* The `continue` statement continues to the next iteration of the innermost loop;\n",
    "* The `pass` statement does nothing!  It is sometimes useful as a placeholder."
   ]
  },
  {
   "cell_type": "markdown",
   "metadata": {},
   "source": [
    "## Functions\n",
    "\n",
    "What if we want to use some block of code multiple times and in different places?  We could simply copy-and-paste that block of code every time we want to use it, but there is a better way!  We can wrap the block of code in a [_function_][functions] and 'call' that function as many times as we like.\n",
    "\n",
    "In the preceding section, we calculated all the terms of the Fibonacci sequence that are less than 1000.  By making a function `fibonacci(n)` of our Fibonacci code, we could provide the upper limit as a parameter `n` of the function and calculate the series up to many different values of `n`!\n",
    "\n",
    "[functions]: <https://docs.python.org/3/tutorial/controlflow.html#defining-functions>"
   ]
  },
  {
   "cell_type": "code",
   "execution_count": 36,
   "metadata": {},
   "outputs": [],
   "source": [
    "def fibonacci(n):\n",
    "    '''Calculate and print out the terms of the Fibonacci series \n",
    "    that are less than `n`.'''\n",
    "    a, b = 0, 1\n",
    "    while a < n:\n",
    "        print(a, end=' ')\n",
    "        a, b = b, a + b\n",
    "    print()\n",
    "    \n",
    "    return"
   ]
  },
  {
   "cell_type": "code",
   "execution_count": 37,
   "metadata": {},
   "outputs": [
    {
     "name": "stdout",
     "output_type": "stream",
     "text": [
      "0 1 1 2 3 5 8 \n"
     ]
    }
   ],
   "source": [
    "# Print the terms of the Fibonacci series that are less than n = 10\n",
    "fibonacci(10)"
   ]
  },
  {
   "cell_type": "code",
   "execution_count": 64,
   "metadata": {},
   "outputs": [
    {
     "name": "stdout",
     "output_type": "stream",
     "text": [
      "\n",
      "0 \n",
      "0 1 1 \n",
      "0 1 1 2 \n",
      "0 1 1 2 3 \n",
      "0 1 1 2 3 \n",
      "0 1 1 2 3 5 \n",
      "0 1 1 2 3 5 \n",
      "0 1 1 2 3 5 \n",
      "0 1 1 2 3 5 8 \n",
      "0 1 1 2 3 5 8 \n",
      "0 1 1 2 3 5 8 \n",
      "0 1 1 2 3 5 8 \n",
      "0 1 1 2 3 5 8 \n",
      "0 1 1 2 3 5 8 13 \n",
      "0 1 1 2 3 5 8 13 \n",
      "0 1 1 2 3 5 8 13 \n",
      "0 1 1 2 3 5 8 13 \n",
      "0 1 1 2 3 5 8 13 \n",
      "0 1 1 2 3 5 8 13 \n",
      "0 1 1 2 3 5 8 13 \n",
      "0 1 1 2 3 5 8 13 \n",
      "0 1 1 2 3 5 8 13 21 \n",
      "0 1 1 2 3 5 8 13 21 \n",
      "0 1 1 2 3 5 8 13 21 \n"
     ]
    }
   ],
   "source": [
    "# Print the terms of the Fibonacci series that are less than n = i for each i < 25!\n",
    "for i in range(25):\n",
    "    fibonacci(i)"
   ]
  },
  {
   "cell_type": "markdown",
   "metadata": {},
   "source": [
    "Did you notice the `return` statement in the definition of the `fibonacci` function?  It did nothing!  But we can in general use the `return` statement to return (i.e. to _pass_) information from inside a function to outside.  Consider the following update of the original `fibonacci` function.  It returns a list of the terms of the Fibonacci series, which may be more useful than printing them!"
   ]
  },
  {
   "cell_type": "code",
   "execution_count": 65,
   "metadata": {},
   "outputs": [],
   "source": [
    "def return_fibonacci_series(n):\n",
    "    '''Calculate the terms of the Fibonacci series \n",
    "    that are less than `n`, returning a list of the result.'''\n",
    "    \n",
    "    # Make a list called 'series' to store the terms\n",
    "    series = []\n",
    "    \n",
    "    # Calculate the terms up to n\n",
    "    a, b = 0, 1\n",
    "    while a < n:\n",
    "        series.append(a)\n",
    "        a, b = b, a + b\n",
    "        \n",
    "    # Return the series\n",
    "    return series\n",
    "        "
   ]
  },
  {
   "cell_type": "markdown",
   "metadata": {},
   "source": [
    "Let's check to see if this function behaves as we would expect.  We will do that by calling it with `n = 100`, and then by operating on the returned list."
   ]
  },
  {
   "cell_type": "code",
   "execution_count": 57,
   "metadata": {},
   "outputs": [
    {
     "name": "stdout",
     "output_type": "stream",
     "text": [
      "[0, 1, 1, 2, 3, 5, 8, 13, 21, 34, 55, 89]\n",
      "[89, 55, 34, 21, 13, 8, 5, 3, 2, 1, 1, 0]\n"
     ]
    }
   ],
   "source": [
    "result = return_fibonacci_series(100)\n",
    "\n",
    "# Print the result...\n",
    "print(result)\n",
    "\n",
    "# Reverse the result and print it, just for fun...\n",
    "reversed_result = list(reversed(result))\n",
    "print(reversed_result)\n",
    "\n",
    "# Do anything you like with the Fibonacci series!\n",
    "# . . ."
   ]
  },
  {
   "cell_type": "markdown",
   "metadata": {},
   "source": [
    "When we printed the Fibonacci series in a for loop, we ended up printing each new series many times.  By using the returned list of the updated Fibonacci function, we could now print the series only if it differs from the previous series!  The next example illustrates how to implement this, and is logically as complicated as it gets..."
   ]
  },
  {
   "cell_type": "code",
   "execution_count": 70,
   "metadata": {},
   "outputs": [
    {
     "name": "stdout",
     "output_type": "stream",
     "text": [
      "0 \n",
      "0 1 1 \n",
      "0 1 1 2 \n",
      "0 1 1 2 3 \n",
      "0 1 1 2 3 5 \n",
      "0 1 1 2 3 5 8 \n",
      "0 1 1 2 3 5 8 13 \n",
      "0 1 1 2 3 5 8 13 21 \n",
      "0 1 1 2 3 5 8 13 21 34 \n",
      "0 1 1 2 3 5 8 13 21 34 55 \n",
      "0 1 1 2 3 5 8 13 21 34 55 89 \n",
      "0 1 1 2 3 5 8 13 21 34 55 89 144 \n",
      "0 1 1 2 3 5 8 13 21 34 55 89 144 233 \n",
      "0 1 1 2 3 5 8 13 21 34 55 89 144 233 377 \n",
      "0 1 1 2 3 5 8 13 21 34 55 89 144 233 377 610 \n",
      "0 1 1 2 3 5 8 13 21 34 55 89 144 233 377 610 987 \n",
      "0 1 1 2 3 5 8 13 21 34 55 89 144 233 377 610 987 1597 \n",
      "0 1 1 2 3 5 8 13 21 34 55 89 144 233 377 610 987 1597 2584 \n",
      "0 1 1 2 3 5 8 13 21 34 55 89 144 233 377 610 987 1597 2584 4181 \n",
      "0 1 1 2 3 5 8 13 21 34 55 89 144 233 377 610 987 1597 2584 4181 6765 \n"
     ]
    }
   ],
   "source": [
    "# Variable to hold the currently-largest term\n",
    "largest_term = -1\n",
    "\n",
    "for n in range(10000):\n",
    "    # Call the updated Fibonacci function that returns a list of terms\n",
    "    series = return_fibonacci_series(n)\n",
    "    \n",
    "    # If the series contains terms (`if series` checks that `series` is not empty = [])\n",
    "    if series:\n",
    "        \n",
    "        # If the largest term is larger than the largest term seen so far\n",
    "        series_largest_term = series[-1]\n",
    "        if series_largest_term > largest_term:\n",
    "            \n",
    "            # Print the series\n",
    "            for term in series:\n",
    "                print(term, end=' ')\n",
    "            print()\n",
    "            \n",
    "            # Update the largest term\n",
    "            largest_term = series_largest_term"
   ]
  },
  {
   "cell_type": "markdown",
   "metadata": {},
   "source": [
    "So you see in this last example that the coding techniques that we have learned in this notebook enable us to write some really quite complex programmes!\n",
    "\n",
    "You will meet functions repeatedly throughout the course of these notebooks. Whenever you execute code that has the signature `function(...)`, you are calling a function!  Furthermore, in the notebook on _'Searching for the Higgs boson'_, you will in fact get to write your own functions to help you along the way to observing the Higgs boson..."
   ]
  },
  {
   "cell_type": "markdown",
   "metadata": {},
   "source": [
    "## Modules"
   ]
  },
  {
   "cell_type": "code",
   "execution_count": null,
   "metadata": {},
   "outputs": [],
   "source": []
  },
  {
   "cell_type": "markdown",
   "metadata": {},
   "source": [
    "# Conclusion"
   ]
  },
  {
   "cell_type": "code",
   "execution_count": null,
   "metadata": {},
   "outputs": [],
   "source": []
  }
 ],
 "metadata": {
  "kernelspec": {
   "display_name": "Python 3",
   "language": "python",
   "name": "python3"
  },
  "language_info": {
   "codemirror_mode": {
    "name": "ipython",
    "version": 3
   },
   "file_extension": ".py",
   "mimetype": "text/x-python",
   "name": "python",
   "nbconvert_exporter": "python",
   "pygments_lexer": "ipython3",
   "version": "3.6.8"
  }
 },
 "nbformat": 4,
 "nbformat_minor": 5
}
