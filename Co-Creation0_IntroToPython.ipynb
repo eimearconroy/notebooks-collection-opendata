{
 "cells": [
  {
   "cell_type": "markdown",
   "metadata": {},
   "source": [
    "# Introduction to coding in Python\n",
    "\n",
    "Being able to code is an essential skill for a Particle Physicist (or any scientist, for that matter).  Our datasets are simply too large to process without the assistance of computers!  An ATLAS Physicist typically uses some combination of the C++ and Python programming languages to accomplish everything from simulating proton-proton collisions to searching for Higgs bosons.\n",
    "\n",
    "As being code-literate is a prerequisite to analysing ATLAS data, we will in this notebook review some of the basics of coding in Python.  We will do this by presenting a diluted and interactive version of the tutorial of the [official Python documentation][PyTutorial].  For more information on any topic, let the official Python documentation be your first port of call.  We will link you to specific parts of the tutorial as we go along.\n",
    "\n",
    "Python is a super easy programming language and is used extensively by beginners and software engineers alike.  As an interpreted language, no manual compilation (translation from human-readable code to machine-usable code) is necessary, which facilitates rapid development and swift experimentation.  Python is also fun!  It is named after the BBC series \"Monty Python's Flying Circus\" and refers to its founder as a Benevolent Dictator For Life ([BDFL][BDFL]).\n",
    "\n",
    "For the duration of the Co-Creation workshop, you will be accompanied by expert Pythonistas, so if you have any questions, do ask!\n",
    "\n",
    "[PyTutorial]: <https://docs.python.org/3/tutorial/index.html>\n",
    "[BDFL]: <https://docs.python.org/3/glossary.html>"
   ]
  }
 ],
 "metadata": {
  "kernelspec": {
   "display_name": "Python 3",
   "language": "python",
   "name": "python3"
  },
  "language_info": {
   "codemirror_mode": {
    "name": "ipython",
    "version": 3
   },
   "file_extension": ".py",
   "mimetype": "text/x-python",
   "name": "python",
   "nbconvert_exporter": "python",
   "pygments_lexer": "ipython3",
   "version": "3.6.8"
  }
 },
 "nbformat": 4,
 "nbformat_minor": 5
}
