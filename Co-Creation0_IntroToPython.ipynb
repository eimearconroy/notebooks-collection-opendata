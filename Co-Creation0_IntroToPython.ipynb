{
 "cells": [
  {
   "cell_type": "markdown",
   "metadata": {},
   "source": [
    "# Introduction to coding in Python\n",
    "\n",
    "Being able to code is an essential skill for a Particle Physicist (or any scientist, for that matter).  Our datasets are simply too large to process without the assistance of computers!  An ATLAS Physicist typically uses some combination of the C++ and Python programming languages to accomplish everything from simulating proton-proton collisions to searching for Higgs bosons.\n",
    "\n",
    "As being code-literate is a prerequisite to analysing ATLAS data, we will in this notebook review some of the basics of coding in Python.  We will do this by presenting a diluted and interactive version of the tutorial of the [official Python documentation][PyTutorial].  For more information on any topic, let the official Python documentation be your first port of call.  We will link to specific parts of the tutorial as we go along.\n",
    "\n",
    "Python is extensively used by beginners and software engineers alike, for both business and pleasure.  It can be fun!  It is named after the BBC series \"Monty Python's Flying Circus\" and refers to its founder as a Benevolent Dictator For Life ([BDFL][BDFL]).\n",
    "\n",
    "For the duration of the Co-Creation workshop, you will be accompanied by expert Pythonistas, so if you have any questions, do ask!\n",
    "\n",
    "[PyTutorial]: <https://docs.python.org/3/tutorial/index.html>\n",
    "[BDFL]: <https://docs.python.org/3/glossary.html>"
   ]
  },
  {
   "cell_type": "markdown",
   "metadata": {},
   "source": [
    "> ## A note on Jupyter notebooks\n",
    ">\n",
    "> The web-based, interactive coding environment you are currently seeing is a [Jupyter notebook][Jupyter].  With Jupyter, you can edit and execute code in your browser, and write and edit text boxes to explain/document what you are doing as you go using the [Markdown][Markdown] language.\n",
    ">\n",
    "> To get started, memorise these [keyboard shortcuts][kbd]:\n",
    "> * `Shift + Enter`: run cell\n",
    "> * `Enter`: enter edit mode\n",
    "> * `Esc`: exit a cell\n",
    ">\n",
    "> Give these commands a quick go by clicking on this text, hitting `Enter` to enter edit mode, then pressing `Shift + Enter` to 'run' the cell.  Feel free to make a change!  If you ever change something to the point of breaking, just reload the page to retrieve a fresh copy of the notebook.\n",
    ">\n",
    "> To learn more about using Jupyter notebooks, browse through the items of the menu above (Edit, View, Insert, etc.) and note what you can (and cannot) do.  As an extra perk, see that under Help, there is a series of links to Reference material for some of the most widely used Python libraries in science.\n",
    "\n",
    "[Jupyter]: <https://jupyter-notebook.readthedocs.io/en/stable/index.html>\n",
    "[Markdown]: <https://daringfireball.net/projects/markdown/>\n",
    "[kbd]: <https://jupyter-notebook.readthedocs.io/en/stable/notebook.html#keyboard-shortcuts>"
   ]
  },
  {
   "cell_type": "markdown",
   "metadata": {},
   "source": [
    "## Hello, World!\n",
    "\n",
    "The [\"Hello, World!\" programme][HelloWorld] is a time-honoured tradition in Computer Science which will be respected here.  The idea of Hello World is to illustrate the basics of a language and to verify that the coding environment has been properly installed and set up.  So to test Python in this notebook, have a go at running the code of the next cell (`Shift + Enter`)...if it does what you expect, then you are good to go!\n",
    "\n",
    "[HelloWorld]: <https://en.wikipedia.org/wiki/%22Hello,_World!%22_program>"
   ]
  },
  {
   "cell_type": "code",
   "execution_count": null,
   "metadata": {},
   "outputs": [],
   "source": [
    "print(\"Hello, World!\")"
   ]
  },
  {
   "cell_type": "markdown",
   "metadata": {},
   "source": [
    "`print` will take whatever you give it and print it out on the screen, followed by a new line. If you want to print multiple things on the same line, separate them by commas.\n",
    "\n",
    "Additionally, any text after a hashtag (`#`) is ignored by Python, so typically we use that to put in little comments to help the reader understand. **Commenting is extremely important**! If you come back to some code after a few days, you will thank yourself if you have kept your commenting up to date."
   ]
  },
  {
   "cell_type": "code",
   "execution_count": null,
   "metadata": {},
   "outputs": [],
   "source": [
    "print(\"Hello,\") # This is a comment - it is ignored.\n",
    "print(\"       World!\") # Another comment\n",
    "# A hashtag at the start of a line ignores the whole line.\n",
    "\n",
    "# Here's an example of the use of commas\n",
    "print(\"Hello\",  \"World!\", 123)"
   ]
  },
  {
   "cell_type": "markdown",
   "metadata": {},
   "source": [
    "## Numbers, Lists, and Strings\n",
    "\n",
    "These are the basic objects that Python manipulates. You will need them!\n",
    "\n",
    "[Follwing [An Informal Introduction to Python](https://docs.python.org/3/tutorial/introduction.html)]"
   ]
  },
  {
   "cell_type": "markdown",
   "metadata": {},
   "source": [
    "### Python as a calculator\n",
    "\n",
    "Python is good at maths!  Run the examples of the following code cells to see what the operators `+`, `-`, `*` and `/` do, to find that they have the effect of addition, subtraction, multiplication, and division."
   ]
  },
  {
   "cell_type": "code",
   "execution_count": null,
   "metadata": {},
   "outputs": [],
   "source": [
    "2 + 2"
   ]
  },
  {
   "cell_type": "code",
   "execution_count": null,
   "metadata": {},
   "outputs": [],
   "source": [
    "50 - 5*6"
   ]
  },
  {
   "cell_type": "code",
   "execution_count": null,
   "metadata": {},
   "outputs": [],
   "source": [
    "(50 - 5*6) / 4  # the usual order of operations is respected, and we can force it by using brackets, like you would on your calculator."
   ]
  },
  {
   "cell_type": "code",
   "execution_count": null,
   "metadata": {},
   "outputs": [],
   "source": [
    "8 / 5"
   ]
  },
  {
   "cell_type": "markdown",
   "metadata": {},
   "source": [
    "Python additionally povides a convenient power operator `**`, i.e. `x**y` $=x^y$. If you have used other programming languages before, you might be more used to seeing`^` do this - this is just a difference that you will have to remember."
   ]
  },
  {
   "cell_type": "code",
   "execution_count": null,
   "metadata": {},
   "outputs": [],
   "source": [
    "2**7 # Power"
   ]
  },
  {
   "cell_type": "markdown",
   "metadata": {},
   "source": [
    "Why do some of the numbers produced by these operations have decimal points, while others do not?  It is because we have here two _types_ of numbers: `int` types and `float` types.  The `float` type represents a [floating point number][fpn] and is a computer's formulaic binary representation of a decimal number.  The `int` type represents integer values.\n",
    "> If you are lucky, you will never have to worry about 'floating point precision', but it can be a significant consideration, with errors here having in the past caused [rockets to explode][Ariane]!\n",
    "\n",
    "[fpn]: <https://en.wikipedia.org/wiki/Floating-point_arithmetic>\n",
    "[Ariane]: <http://www-users.math.umn.edu/~arnold/disasters/ariane.html>"
   ]
  },
  {
   "cell_type": "markdown",
   "metadata": {},
   "source": [
    "### Variables"
   ]
  },
  {
   "cell_type": "markdown",
   "metadata": {},
   "source": [
    "We use **variables** to store information: think of these as boxes to store data. Variable names can contain numbers, letters, and underscores, which we usually use instead of spaces, `like_this`. They can't start with a number, though.\n",
    "\n",
    "It is possible to assign a value to a variable (putting a number in the box) using the `=` operator."
   ]
  },
  {
   "cell_type": "code",
   "execution_count": null,
   "metadata": {},
   "outputs": [],
   "source": [
    "x = 4 # sets x to contain the number 4.\n",
    "x**2 # returns the value of x squared"
   ]
  },
  {
   "cell_type": "markdown",
   "metadata": {},
   "source": [
    "However, printing out $x^2$ did not change the value of $x$. To do that, we need to explicitly change it using $=$. "
   ]
  },
  {
   "cell_type": "code",
   "execution_count": null,
   "metadata": {},
   "outputs": [],
   "source": [
    "x = 6\n",
    "print('x should now have the value 6: x =', x)\n",
    "\n",
    "x = x + 8\n",
    "print('x should now have the value of 6+8 =', x)"
   ]
  },
  {
   "cell_type": "markdown",
   "metadata": {},
   "source": [
    "Don't be confused by `x=x+8`. If this was a maths equation, it wouldn't make sense - you can't solve this equation. Luckily, it isn't. `=` here is an operator, telling you to do the following:\n",
    "\n",
    "> \"take the old value of x, add 8 to it, and **assign** that new value to $x$.\"\n",
    "\n"
   ]
  },
  {
   "cell_type": "markdown",
   "metadata": {},
   "source": [
    "Instead of typing out $x = x+10$, We have also the handy in-place operators `+=`, `-=`, `*=` and `/=`. These might seem pointless, but when you have a long variable name, it can makes sense. Using a nice short variable name like `x` was neat, but when you've got hundreds of variables, you want to give them descriptive names, like we do here."
   ]
  },
  {
   "cell_type": "code",
   "execution_count": null,
   "metadata": {},
   "outputs": [],
   "source": [
    "number_of_jets_in_ATLAS_collision = 10\n",
    "number_of_jets_in_ATLAS_collision += 2\n",
    "print(number_of_jets_in_ATLAS_collision)"
   ]
  },
  {
   "cell_type": "markdown",
   "metadata": {},
   "source": [
    "We are just being lazy by using `+=` here. If we didn't have this sneaky operator, we would have to write out:\n",
    "\n",
    "`number_of_jets_in_ATLAS_collision = number_of_jets_in_ATLAS_collision + 2`\n",
    "\n",
    "The same applies to the other in-place operators: they just replace the `+` with the relevant sign. To see if you understand, try to work out what `z` will be at the end of this cell's execution in advance:"
   ]
  },
  {
   "cell_type": "code",
   "execution_count": null,
   "metadata": {},
   "outputs": [],
   "source": [
    "z = 2\n",
    "z *= 2\n",
    "z -=1\n",
    "z /= 2\n",
    "print(z)"
   ]
  },
  {
   "cell_type": "markdown",
   "metadata": {},
   "source": [
    "### Lists\n",
    "\n",
    "A Python list is a mutable (changeable), **compound data type** for grouping together a sequence of values.\n",
    "\n",
    "For example, we might use this to store the energies of the objects in an ATLAS collision.\n"
   ]
  },
  {
   "cell_type": "code",
   "execution_count": null,
   "metadata": {},
   "outputs": [],
   "source": [
    "# Here is an example list\n",
    "energies_of_electrons_in_collision = [100.0, 80.5, 35.3, 19.8, 15.5]  # Notice that we haven't set a unit here. These are just bare numbers."
   ]
  },
  {
   "cell_type": "markdown",
   "metadata": {},
   "source": [
    "We can **index** into the list, getting out particular values in the list. \n",
    "\n",
    "Weirdly, we start our ordering at zero, so **(what we would normally call) the 'first' object in the list is actually the one labelled as the 'zeroth'**:\n",
    "\n",
    "    my_list = [   100.0,       80.5,       35.3,        19.8,    15.5,    ... ]\n",
    "    index:         0th         1st         2nd          3rd      4th,     ...\n",
    "\n",
    "So we want the (zero-indexed) second object from a list called `my_list`, we say `my_list[2]`."
   ]
  },
  {
   "cell_type": "code",
   "execution_count": null,
   "metadata": {},
   "outputs": [],
   "source": [
    "energies_of_electrons_in_collision[2]"
   ]
  },
  {
   "cell_type": "markdown",
   "metadata": {},
   "source": [
    "Notice that this is $30$, not $80$, because the zero-indexed second object is actually what we would normally call the third object! Think about this carefully, as it can trip you up later. In fact, being tricked by this is [one of the most common errors in all of programming](https://en.wikipedia.org/wiki/Off-by-one_error).\n",
    "\n",
    "Finally, we can index from the back of the list as well, using **negative indices**. The last object in the list is `my_list[-1]`, with `my_list[-2]` being the second last, and so on:"
   ]
  },
  {
   "cell_type": "code",
   "execution_count": null,
   "metadata": {},
   "outputs": [],
   "source": [
    "energies_of_electrons_in_collision[-1]"
   ]
  },
  {
   "cell_type": "code",
   "execution_count": null,
   "metadata": {},
   "outputs": [],
   "source": [
    "print(\"Old list: \", energies_of_electrons_in_collision)\n",
    "\n",
    "# Lists are mutable. Let's say the first electron had an energy of 400 GeV instead.\n",
    "# We can change it like this:\n",
    "energies_of_electrons_in_collision[0] = 435.1\n",
    "# So, if we print the whole list out, you will see that we have \n",
    "print(\"New list: \", energies_of_electrons_in_collision)"
   ]
  },
  {
   "cell_type": "markdown",
   "metadata": {},
   "source": [
    "#### Acting on lists with operators\n",
    "\n",
    "We can add two lists together with a `+`,and this sticks the second onto the end of the first.\n",
    "\n"
   ]
  },
  {
   "cell_type": "code",
   "execution_count": null,
   "metadata": {},
   "outputs": [],
   "source": [
    "energies_of_electrons_in_collision1 = [100, 30, 20]\n",
    "energies_of_electrons_in_collision2 = [200, 30, 12]\n",
    "energies_of_electrons_in_collision1 + energies_of_electrons_in_collision2"
   ]
  },
  {
   "cell_type": "markdown",
   "metadata": {},
   "source": [
    "This is a new list:\n",
    "    "
   ]
  },
  {
   "cell_type": "code",
   "execution_count": null,
   "metadata": {},
   "outputs": [],
   "source": [
    "energies_of_electrons_in_two_collisions = energies_of_electrons_in_collision1 + energies_of_electrons_in_collision2\n",
    "energies_of_electrons_in_two_collisions[4]"
   ]
  },
  {
   "cell_type": "markdown",
   "metadata": {},
   "source": [
    "We can even act on lists with `+=`."
   ]
  },
  {
   "cell_type": "code",
   "execution_count": null,
   "metadata": {},
   "outputs": [],
   "source": [
    "# Just so you know - lists can contain different data types - even other lists!\n",
    "energies_of_electrons_in_collision += ['uh oh', \"we're in trouble\", [1, 2, 3]]\n",
    "print(energies_of_electrons_in_collision)"
   ]
  },
  {
   "cell_type": "markdown",
   "metadata": {},
   "source": [
    "And finally, we can index into a list with another variable. This sentence should now make sense."
   ]
  },
  {
   "cell_type": "code",
   "execution_count": null,
   "metadata": {},
   "outputs": [],
   "source": [
    "which_entry_I_want = 3 # If I want the 'real' THIRD index in the list\n",
    "zero_indexed_entry_number = which_entry_I_want - 1 \n",
    "print(energies_of_electrons_in_collision[zero_indexed_entry_number])"
   ]
  },
  {
   "cell_type": "markdown",
   "metadata": {},
   "source": [
    "Try varying `which_entry_I_want` to make sure you understand what it does."
   ]
  },
  {
   "cell_type": "markdown",
   "metadata": {},
   "source": [
    "### Strings\n",
    "\n",
    "Although less important for our purposes, no introduction to Python is complete without looking at strings (though sadly not the physics kind). \n",
    "\n",
    "The Python `string` is a list of characters enclosed in quotation marks (`'...'` or `\"...\"` - you can pick which one you want use). We can assign a string to a variable:"
   ]
  },
  {
   "cell_type": "code",
   "execution_count": null,
   "metadata": {},
   "outputs": [],
   "source": [
    "my_first_string = \"Hello world\""
   ]
  },
  {
   "cell_type": "markdown",
   "metadata": {},
   "source": [
    "Strings may be operated upon by the mathematical operations in a curious way and are **indexed** as if they were lists of characters!\n",
    "\n",
    "So really, Python thinks of \"Hello world\" as `[\"H\", \"e\", \"l\", \"l\", \"o\", \"  \", \"w\", \"o\", \"r\", \"l\", \"d\"]`."
   ]
  },
  {
   "cell_type": "code",
   "execution_count": null,
   "metadata": {},
   "outputs": [],
   "source": [
    "prefix = 'Py'\n",
    "prefix + 'thon'"
   ]
  },
  {
   "cell_type": "code",
   "execution_count": null,
   "metadata": {},
   "outputs": [],
   "source": [
    "# 3 times 'un', followed by 'ium'\n",
    "3 * 'un' + 'ium'"
   ]
  },
  {
   "cell_type": "code",
   "execution_count": null,
   "metadata": {},
   "outputs": [],
   "source": [
    "word = 'Python'"
   ]
  },
  {
   "cell_type": "code",
   "execution_count": null,
   "metadata": {},
   "outputs": [],
   "source": [
    "# Access the first character of the string which is indexed by 0\n",
    "word[0]"
   ]
  },
  {
   "cell_type": "code",
   "execution_count": null,
   "metadata": {},
   "outputs": [],
   "source": [
    "# Access the last character of the string which is indexed by -1\n",
    "word[-1]"
   ]
  },
  {
   "cell_type": "markdown",
   "metadata": {},
   "source": [
    "We can get multiple characters out at the same time, by **slicing**:"
   ]
  },
  {
   "cell_type": "code",
   "execution_count": null,
   "metadata": {},
   "outputs": [],
   "source": [
    "# Slice the string from index 1 (inclusive) to 5 (not inclusive)\n",
    "word[1:5]"
   ]
  },
  {
   "cell_type": "code",
   "execution_count": null,
   "metadata": {},
   "outputs": [],
   "source": [
    "# Lists can be 'sliced', too - and we can use variables when slicing.\n",
    "first_collision_of_slice = 1\n",
    "last_collision_of_slice = 3\n",
    "energies_of_electrons_in_collision[first_collision_of_slice:(last_collision_of_slice+1)]  # We have to use brackets here to make it clear that we want x:(y+1)"
   ]
  },
  {
   "cell_type": "markdown",
   "metadata": {},
   "source": [
    "The [built-in][builtin-funcs] function [`len(s)`][len] returns the length of, or number of items in, a sequence or collection `s`.  One excellent example use case is to find which of the words ['Llanfairpwllgwyngyllgogerychwyrndrobwllsantysiliogogogoch'][Llanfairpwll] and 'supercalifragilisticexpialidocious' is longer, without having to do the legwork of actually counting them:\n",
    "\n",
    "[builtin-funcs]: <https://docs.python.org/3/library/functions.html>\n",
    "[len]: <https://docs.python.org/3/library/functions.html#len>\n",
    "[Llanfairpwll]: <https://en.wikipedia.org/wiki/Llanfairpwllgwyngyll>"
   ]
  },
  {
   "cell_type": "code",
   "execution_count": null,
   "metadata": {},
   "outputs": [],
   "source": [
    "len_llanfair = len('Llanfairpwllgwyngyllgogerychwyrndrobwllllantysiliogogogoch')\n",
    "len_supercali = len('supercalifragilisticexpialidocious')\n",
    "\n",
    "print(len_llanfair)\n",
    "print(len_llanfair / len_supercali)"
   ]
  },
  {
   "cell_type": "markdown",
   "metadata": {},
   "source": [
    "But `len` also works on lists:"
   ]
  },
  {
   "cell_type": "code",
   "execution_count": null,
   "metadata": {},
   "outputs": [],
   "source": [
    "len(energies_of_electrons_in_collision)"
   ]
  },
  {
   "cell_type": "markdown",
   "metadata": {},
   "source": [
    "As compound data types, [_tuples_][tuples] and [_dictionaries_][dicts] are also frequently used.  Can you figure out what they do from the linked pages?  Feel free to make new code cells here to explore.\n",
    "\n",
    "[tuples]: <https://docs.python.org/3/tutorial/datastructures.html#tuples-and-sequences>\n",
    "[dicts]: <https://docs.python.org/3/tutorial/datastructures.html#dictionaries>"
   ]
  },
  {
   "cell_type": "markdown",
   "metadata": {},
   "source": [
    "Finally, we can turn numbers into strings, using the inbuilt function `str(number)`, and convert them back with `int` (for round numbers), or `float` (to get numbers with decimal places)."
   ]
  },
  {
   "cell_type": "code",
   "execution_count": null,
   "metadata": {},
   "outputs": [],
   "source": [
    "number_as_string = \"300\"\n",
    "print(number_as_string*2)\n",
    "print(\"That's not what we want!\")"
   ]
  },
  {
   "cell_type": "code",
   "execution_count": null,
   "metadata": {},
   "outputs": [],
   "source": [
    "number = int(number_as_string)"
   ]
  },
  {
   "cell_type": "code",
   "execution_count": null,
   "metadata": {},
   "outputs": [],
   "source": [
    "number *= 2"
   ]
  },
  {
   "cell_type": "code",
   "execution_count": null,
   "metadata": {},
   "outputs": [],
   "source": [
    "new_num_as_string = str(number)\n",
    "print(\"There we go: \", new_num_as_string)"
   ]
  },
  {
   "cell_type": "markdown",
   "metadata": {},
   "source": [
    "However, if you ask Python to `print` a number, it will convert it to a string for you:"
   ]
  },
  {
   "cell_type": "code",
   "execution_count": null,
   "metadata": {},
   "outputs": [],
   "source": [
    "print(6) # converts 6 to \"6\", which it can print."
   ]
  },
  {
   "cell_type": "code",
   "execution_count": null,
   "metadata": {},
   "outputs": [],
   "source": [
    "engineers_pi = int(3.141592653589)\n",
    "print(engineers_pi)"
   ]
  },
  {
   "cell_type": "markdown",
   "metadata": {},
   "source": [
    "## Where do we go next? Control Flow.\n",
    "\n",
    "In the preceding example code snippets (the mathematical and string operations, and list manipulations), we programmed our commands to be executed line-by-line.  It would be fair to say that these top-to-bottom programmes are quite dull.  A programme may be made to exhibit a more complex [control flow][flow] by use of [_control flow statements_][PFlow].  \n",
    "\n",
    "As control flow statements in Python, there are conditional statements and loop constructs.  Conditional statements (`if`, `elif`, `else`) are used to execute blocks of code only when certain conditions are met.  Loop constructs are used to execute blocks of code some number of times (`for`) or while certain conditions are met (`while`).\n",
    "\n",
    "[flow]: <https://en.wikipedia.org/wiki/Control_flow>\n",
    "[PFlow]: <https://docs.python.org/3/tutorial/controlflow.html>\n",
    "\n",
    "### `if` statements\n",
    "\n",
    "Here's a very simplistic example of when you would use an 'if' statement:"
   ]
  },
  {
   "cell_type": "code",
   "execution_count": null,
   "metadata": {},
   "outputs": [],
   "source": [
    "number_of_electrons = int(input('Please enter how many electrons were in this collision:  '))\n",
    "# input(\"Give me a string: \") asks for a string from the user, with a prompt of \"Give me a string: \"\n",
    "# Wrapping int( ) around this takes the string we give it and tries to turn it into a round number.\n",
    "# What happens if you feed it something that can't be turned into a number?\n",
    "\n",
    "# Example conditional 'if' block\n",
    "if number_of_electrons < 0:\n",
    "    print(\"You entered a negative number! That can't be right...\")\n",
    "elif number_of_electrons == 0:\n",
    "    print('There were no electrons in this collision. ')\n",
    "else:\n",
    "    print('There were electrons in this collision!')"
   ]
  },
  {
   "cell_type": "markdown",
   "metadata": {},
   "source": [
    "### `for` statements\n",
    "\n",
    "`for` statements in Python allow you to iterate over each object in any sequence (like a list or string) in order.\n",
    "\n",
    "Here's an example of when you might use this.\n",
    "\n",
    "In particle physics, we measure energy in eV, or electronvolts. A GeV is then a gigaelectronvolt, or billion electron volts, which is equal to $1.602\\times 10^{-10}$ Joules. So, if our detector measures things in Joules, we can get nice normal-size numbers by converting to GeV:"
   ]
  },
  {
   "cell_type": "code",
   "execution_count": null,
   "metadata": {},
   "outputs": [],
   "source": [
    "# Let's do some unit conversion in a `for` loop\n",
    "electron_energies_in_Joules = [0.0000000001, 0.00000000005, 0.000000000025, 0.00000000001]\n",
    "\n",
    "for energy_in_Joules in electron_energies_in_Joules:\n",
    "    energy_in_GeV = energy_in_Joules/(1.60218e-10)  # (This number is 1 GeV in Joules)\n",
    "    message = \"The electron with energy \" +str(energy_in_Joules) + \" in Joules has energy \"+ str(energy_in_GeV) + \" in GeV\"\n",
    "    print(message)"
   ]
  },
  {
   "cell_type": "markdown",
   "metadata": {},
   "source": [
    "Notice that Python decided that `0.0000000001` was too long to print normally, so it printed $1\\times 10^{-10}$ instead, or `1e-10` in compact scientific notation."
   ]
  },
  {
   "cell_type": "markdown",
   "metadata": {},
   "source": [
    "### `range` function\n"
   ]
  },
  {
   "cell_type": "markdown",
   "metadata": {},
   "source": [
    "In conjunction with `for` statements, the built-in [`range()`][range] function is often useful.  It returns a range object, constructed by calling `range(stop)` or `range(start, stop[, step])`, that represents a sequence of numbers that goes from `start` (0 by default) to `stop` in steps of `step` (1 by default).\n",
    "\n",
    "As usual, this is zero-indexed!\n",
    "\n",
    "[range]: <https://docs.python.org/3/library/stdtypes.html#range>"
   ]
  },
  {
   "cell_type": "code",
   "execution_count": null,
   "metadata": {},
   "outputs": [],
   "source": [
    "range(10)"
   ]
  },
  {
   "cell_type": "code",
   "execution_count": null,
   "metadata": {},
   "outputs": [],
   "source": [
    "list(range(10))   # Expands out the 'range'"
   ]
  },
  {
   "cell_type": "code",
   "execution_count": null,
   "metadata": {},
   "outputs": [],
   "source": [
    "list(range(0, 10, 2))"
   ]
  },
  {
   "cell_type": "code",
   "execution_count": null,
   "metadata": {},
   "outputs": [],
   "source": [
    "# Example 'for' loop over a range that makes a list of the 'first 10' (zero-indexed) square numbers:\n",
    "items = []\n",
    "for i in range(10):\n",
    "    items.append(i**2)\n",
    "print(items)"
   ]
  },
  {
   "cell_type": "markdown",
   "metadata": {},
   "source": [
    "### `while` statements\n",
    "\n",
    "A `while [condition]` loop executes for as long as `condition` is true.  If `condition` is _always_ true, then you have an infinite loop - a loop that will never end.  In Jupyter, you can interrupt a cell by clicking the stop button in the menu above, or double-tapping 'i' on your keyboard.  If you choose to run the following cell, it is up to you to interrupt it!  Can you think of a more interesting use of while?"
   ]
  },
  {
   "cell_type": "code",
   "execution_count": null,
   "metadata": {},
   "outputs": [],
   "source": [
    "while True:\n",
    "    # Do nothing\n",
    "    pass"
   ]
  },
  {
   "cell_type": "code",
   "execution_count": null,
   "metadata": {},
   "outputs": [],
   "source": [
    "# A more interesting while loop: calculate the Fibonacci series up to some number!\n",
    "a, b = 0, 1\n",
    "while a < 1000:   # Try playing with this number: how high can you go?\n",
    "    print(a, end=' ')\n",
    "    temporary_variable = b  # usually, we would abbreviate 'temporary_variable', which is only used within the loop, to just 'temp', or even 't'\n",
    "    b = a+b\n",
    "    a = temporary_variable"
   ]
  },
  {
   "cell_type": "markdown",
   "metadata": {},
   "source": [
    "## Functions\n",
    "\n",
    "What if we want to use some block of code multiple times and in different places?  We could simply copy-and-paste that block of code every time we want to use it, but there is a better way!  We can wrap the block of code in a [_function_][functions] and 'call' that function as many times as we like.\n",
    "\n",
    "A function takes a particular input, performs some task, and then optionally `return`s an output.\n",
    "\n",
    "In the preceding section, we calculated all the terms of the Fibonacci sequence that are less than 1000.  By making a function `fibonacci(n)` of our Fibonacci code, we could provide the upper limit as a parameter `n` of the function and calculate the series up to many different values of `n`!\n",
    "\n",
    "[functions]: <https://docs.python.org/3/tutorial/controlflow.html#defining-functions>"
   ]
  },
  {
   "cell_type": "code",
   "execution_count": null,
   "metadata": {},
   "outputs": [],
   "source": [
    "def fibonacci(n):\n",
    "    '''Calculate and print out the terms of the Fibonacci series \n",
    "    that are less than `n`.'''\n",
    "    a, b = 0, 1\n",
    "    while a < n:\n",
    "        print(a, end=' ')\n",
    "        temporary_variable = b  # usually, we would abbreviate 'temporary_variable', which is only used within the loop, to just 'temp', or even 't'\n",
    "        b = a+b\n",
    "        a = temporary_variable\n",
    "    print()\n",
    "    \n",
    "    return # Don't return anything."
   ]
  },
  {
   "cell_type": "code",
   "execution_count": null,
   "metadata": {},
   "outputs": [],
   "source": [
    "# Print the terms of the Fibonacci series that are less than n = 10\n",
    "fibonacci(10)"
   ]
  },
  {
   "cell_type": "code",
   "execution_count": null,
   "metadata": {},
   "outputs": [],
   "source": [
    "# Print the terms of the Fibonacci series that are less than n = i for each i < 25!\n",
    "for i in range(25):\n",
    "    fibonacci(i)"
   ]
  },
  {
   "cell_type": "markdown",
   "metadata": {},
   "source": [
    "Did you notice the `return` statement in the definition of the `fibonacci` function?  It did nothing!\n",
    "\n",
    "However, we can in general use the `return` statement to return (i.e. to _pass_) information from inside a function to outside.  Consider the following update of the original `fibonacci` function.  It returns a list of the terms of the Fibonacci series, which may be more useful than printing them!"
   ]
  },
  {
   "cell_type": "code",
   "execution_count": null,
   "metadata": {},
   "outputs": [],
   "source": [
    "def return_fibonacci_series(n):\n",
    "    '''Calculate the terms of the Fibonacci series \n",
    "    that are less than `n`, returning a list of the result.'''\n",
    "    \n",
    "    # Make a list called 'series' to store the terms\n",
    "    series = []\n",
    "    \n",
    "    # Calculate the terms up to n\n",
    "    a, b = 0, 1\n",
    "    while a < n:\n",
    "        series.append(a)\n",
    "        a, b = b, a + b\n",
    "        \n",
    "    # Return the series\n",
    "    return series\n",
    "        "
   ]
  },
  {
   "cell_type": "markdown",
   "metadata": {},
   "source": [
    "Let's check to see if this function behaves as we would expect.  We will do that by calling it with `n = 100`. That returns a list, which we assign to a variable `result`. We can then treat this list like any other list."
   ]
  },
  {
   "cell_type": "code",
   "execution_count": null,
   "metadata": {},
   "outputs": [],
   "source": [
    "result = return_fibonacci_series(100)\n",
    "\n",
    "# Print the result...\n",
    "print(result)\n",
    "\n",
    "# Reverse the result and print it, just for fun...\n",
    "reversed_result = list(reversed(result))   # reversed() is a special inbuilt function that takes a list and reverses it.\n",
    "print(reversed_result)\n",
    "\n",
    "# Do anything you like with the Fibonacci series!\n",
    "# . . ."
   ]
  },
  {
   "cell_type": "markdown",
   "metadata": {},
   "source": [
    "When we printed the Fibonacci series in a for loop, we ended up printing each new series many times.  By using the returned list of the updated Fibonacci function, we could now print the series only if it differs from the previous series!  The next example illustrates how to implement this, and is logically as complicated as it gets..."
   ]
  },
  {
   "cell_type": "code",
   "execution_count": null,
   "metadata": {},
   "outputs": [],
   "source": [
    "# Variable to hold the currently-largest term\n",
    "largest_term = -1\n",
    "\n",
    "for n in range(10000):\n",
    "    # Call the updated Fibonacci function that returns a list of terms\n",
    "    series = return_fibonacci_series(n)\n",
    "    \n",
    "    # If the series contains terms (`if series` checks that `series` is not empty = [])\n",
    "    if series:\n",
    "        \n",
    "        # If the largest term is larger than the largest term seen so far\n",
    "        series_largest_term = series[-1]\n",
    "        if series_largest_term > largest_term:\n",
    "            \n",
    "            # Print the series\n",
    "            for term in series:\n",
    "                print(term, end=' ')\n",
    "            print()\n",
    "            \n",
    "            # Update the largest term\n",
    "            largest_term = series_largest_term"
   ]
  },
  {
   "cell_type": "markdown",
   "metadata": {},
   "source": [
    "So you see in this last example that the coding techniques that we have learned in this notebook enable us to write some really quite complex programmes!\n",
    "\n",
    "You will meet functions repeatedly throughout the course of these notebooks. Whenever you execute code that has the signature `function(...)`, you are calling a function!  Furthermore, in the notebook on _'Searching for the Higgs boson'_, you will in fact get to write your own functions to help you along the way to observing the Higgs boson..."
   ]
  },
  {
   "cell_type": "markdown",
   "metadata": {},
   "source": [
    "### **Exercise**\n",
    "\n",
    "Write a function that takes an energy in Joules as an input, and returns a number in **gigaelectronvolts**. You may find the code above useful."
   ]
  },
  {
   "cell_type": "code",
   "execution_count": null,
   "metadata": {},
   "outputs": [],
   "source": [
    "def Joules_to_GeV(energy_in_Joules):\n",
    "    energy_in_GeV =            # what goes here?\n",
    "    return energy_in_GeV"
   ]
  },
  {
   "cell_type": "markdown",
   "metadata": {},
   "source": [
    "## Modules\n",
    "\n",
    "In this notebook, we have been writing small snippets of disposable code and executing them, before moving on and forgetting about them.  When it comes to writing a more elaborate programme, it is more convenient to put your code in a file.  When a file is populated with Python definitions, it becomes a [_module_][module] which can be _imported_ from other Python-speaking files such that its content may be used.\n",
    "\n",
    "The module-oriented approach to software development has the effect of keeping your code organsied, but more importantly facilitates code-sharing.  In the world of open-source and free software, much of the code you will ever need to write has already been written and is available to use!  One rarely has to code everything from scratch.  \n",
    "\n",
    "### The `ROOT` library\n",
    "\n",
    "The [ROOT][ROOT] library is very useful to a Particle Physicist.  It will be used extensively in this course of notebooks and you will become close allies in data analysis.  In the [words of the maintainers][AboutROOT],\n",
    "> \"ROOT is a framework for data processing, born at CERN, at the heart of the research on high-energy physics.\"\n",
    "\n",
    "Here, we introduce you to it.  Start by importing it.\n",
    "\n",
    "[module]: <https://docs.python.org/3/tutorial/modules.html>\n",
    "[ROOT]: <https://root.cern/>\n",
    "[AboutROOT]: <https://root.cern/about/>"
   ]
  },
  {
   "cell_type": "code",
   "execution_count": null,
   "metadata": {},
   "outputs": [],
   "source": [
    "import ROOT"
   ]
  },
  {
   "cell_type": "markdown",
   "metadata": {},
   "source": [
    "Let's use ROOT to generate ten random numbers by way of the `TRandom3` submodule, just to show that it works."
   ]
  },
  {
   "cell_type": "code",
   "execution_count": null,
   "metadata": {},
   "outputs": [],
   "source": [
    "# Construct an instance of the TRandom3 class and call it 'randg' (a RANDom number Generator)\n",
    "randg = ROOT.TRandom3()\n",
    "\n",
    "# Generate 10 random numbers\n",
    "for i in range(10):\n",
    "    print(randg.Rndm())"
   ]
  },
  {
   "cell_type": "markdown",
   "metadata": {},
   "source": [
    "We were here able to generate random numbers without having to programme a random number generator for ourselves.  It was so easy because there is already a random number generator implemented in ROOT.  So with ROOT at our fingertips, we saved a lot of time!\n",
    "\n",
    "ROOT is not the only library that is available to us.  Other popular libraries include\n",
    "* [`numpy`][numpy] for numerical computing\n",
    "* [`matplotlib`][matplotlib] for data visualisation\n",
    "* [`tensorflow`][tensorflow] for machine learning\n",
    "* [`pandas`][pandas] for data manipulation\n",
    "\n",
    "These libraries of modules are there to be used at no cost.  But this is a look ahead!  In these notebooks, we make use of ROOT and numpy only.\n",
    "\n",
    "[numpy]: <https://numpy.org/>\n",
    "[matplotlib]: <https://matplotlib.org/>\n",
    "[tensorflow]: <https://www.tensorflow.org/>\n",
    "[pandas]: <https://pandas.pydata.org/>"
   ]
  },
  {
   "cell_type": "markdown",
   "metadata": {},
   "source": []
  },
  {
   "cell_type": "markdown",
   "metadata": {},
   "source": [
    "## One last bit of code"
   ]
  },
  {
   "cell_type": "markdown",
   "metadata": {},
   "source": [
    "Let's put together as much of what we have learned above as we can. \n",
    "\n",
    "First, some preliminaries. Since we're going to do some Physics, we want to define some universal constants:"
   ]
  },
  {
   "cell_type": "code",
   "execution_count": null,
   "metadata": {},
   "outputs": [],
   "source": [
    "### Universal constants:\n",
    "c = 3e8 # The speed of light in m/s, 300,000,000 m/s\n",
    "electron_mass = 9.1e-31 # in kg"
   ]
  },
  {
   "cell_type": "markdown",
   "metadata": {},
   "source": [
    "Let's say that we get the data back from a collision in the ATLAS detector, and we have detected two electrons coming out of it. Each electron has momentum in the x, y, and z directions: $p_x, p_y, p_z$. We have measured these momenta in units of `kg m/s`, and we can put the measured momenta into a list for each particle."
   ]
  },
  {
   "cell_type": "code",
   "execution_count": null,
   "metadata": {},
   "outputs": [],
   "source": [
    "### Collision data:\n",
    "\n",
    "electron1_px = 1e-19 # kg m/s\n",
    "electron1_py = 5.3e-19\n",
    "electron1_pz = -3e-19\n",
    "\n",
    "electron1_p = [electron1_px, electron1_py, electron1_pz]\n",
    "\n",
    "# To save space, we can just put in the numbers for electron 2 directly:\n",
    "electron2_p = [1.2e-19, -0.5e-19, 5e-19]"
   ]
  },
  {
   "cell_type": "code",
   "execution_count": null,
   "metadata": {},
   "outputs": [],
   "source": [
    "# We can then group the electrons into one list, which we can call collision1.\n",
    "# Remember, each entry in this list is actually just *another* list containing an x,y, and z-momentum.\n",
    "collision1 = [electron1_p, electron2_p]"
   ]
  },
  {
   "cell_type": "code",
   "execution_count": null,
   "metadata": {},
   "outputs": [],
   "source": [
    "# Let's write out some more collisions by hand. Normally the detector software would do this for us!\n",
    "collision2 = [[3e-19, 4e-19, -0.5e-19], [2e-19, 1e-19, 4.4e-19], [5e-19, 0.3e-19, 2e-19]]\n",
    "collision3 = [[5e-19, 2.1e-19, -0.8e-19]] # There's only one electron coming out of this collision.\n",
    "collision4 = [] # This collision made no electrons at all.\n",
    "\n",
    "# Let's put the collisions into a list which we can iterate over.\n",
    "list_of_collisions = [collision1, collision2, collision3, collision4]"
   ]
  },
  {
   "cell_type": "markdown",
   "metadata": {},
   "source": [
    "So, we have a bunch of data, held in `list_of_collisions`. This data has this structure:\n",
    "```\n",
    "collision 1:\n",
    "    electron 1: \n",
    "        p_x, p_y, p_z (in GeV)\n",
    "    electron 2:\n",
    "        p_x, p_y, p_z\n",
    "collision 2:\n",
    "    electron 1:\n",
    "        p_x, p_y, p_z\n",
    "    electron 2:\n",
    "        p_x, p_y, p_z \n",
    "    electron 3:\n",
    "        p_x, p_y, p_z \n",
    "....\n",
    "```\n",
    "\n",
    "If we just ask Python to print `list_of_collisions`, though, we get a much more horrible result. You will see tools to help with this in later tutorials."
   ]
  },
  {
   "cell_type": "code",
   "execution_count": null,
   "metadata": {},
   "outputs": [],
   "source": [
    "print(list_of_collisions)"
   ]
  },
  {
   "cell_type": "markdown",
   "metadata": {},
   "source": [
    "Let's try working out the energy of every electron in each collision, and also the total energy in each collision, printing this all out as we go.\n",
    "\n",
    "To test out `if` statements, we won't bother doing this if there are fewer than 2 electrons in the collision.\n",
    "\n",
    "These particles are moving close to the speed of light (**relativistically**), so we can no longer use $p = mv$ and $E = \\frac{1}{2}mv^2$ to find the energy $E$ from the momentum $p$ of a particle of mass $m$- we need the equations of **[special relativity](https://en.wikipedia.org/wiki/Special_relativity)**. You know Einstein's equation says that $E=mc^2$. HOwever, if the particle is moving with momentum $p$, that's not quite right: we actually need $E^2 = m^2 c^4 + p^2 c^2$."
   ]
  },
  {
   "cell_type": "code",
   "execution_count": null,
   "metadata": {},
   "outputs": [],
   "source": [
    "### Looping over collisions:\n",
    "\n",
    "which_collision = 0 # Keep track of which collision we're at. Zero-indexed!\n",
    "for collision in list_of_collisions:\n",
    "    print(\"Collision\", which_collision, \": \")\n",
    "    number_of_electrons = len(collision)\n",
    "    \n",
    "    if number_of_electrons < 2:  # If there are fewer than 2 electrons, don't bother.\n",
    "        print(\"    \", \"There were < 2 electrons, so we didn't bother\")\n",
    "    else:                        # If there are 2 or more electrons, we keep going.\n",
    "        total_collision_energy_in_GeV = 0\n",
    "        for electron in collision:\n",
    "            # Let's work out the electron energy. In python form, Einstein's equation is:\n",
    "            # E**2 = m**2 * c**4 + p**2 c**2\n",
    "            \n",
    "            electron_momentum_squared = (electron[0]**2 + electron[1]**2 + electron[2]**2)\n",
    "            \n",
    "            electron_energy_squared = electron_mass**2 * (c**4) + electron_momentum_squared * (c**2)\n",
    "            electron_energy_in_Joules = electron_energy_squared**0.5\n",
    "\n",
    "            electron_energy_in_GeV = electron_energy_in_Joules# Joules_to_GeV(electron_energy_in_Joules)\n",
    "            print(\"    \", \"Electron energy:       \", electron_energy_in_GeV, \"GeV\")\n",
    "            total_collision_energy_in_GeV += electron_energy_in_GeV\n",
    "\n",
    "        print(\"    \", \"Total collision energy:\", total_collision_energy_in_GeV, \"GeV\")\n",
    "    which_collision += 1  # We're done, so increment the collision count!"
   ]
  },
  {
   "cell_type": "markdown",
   "metadata": {},
   "source": [
    "If you haven't got your `Joules_to_GeV()` function working, this will return rubbish, which will be way too small.\n",
    "\n",
    "You should be getting total energies of a few GeV. If you aren't, check your working!"
   ]
  },
  {
   "cell_type": "markdown",
   "metadata": {},
   "source": [
    "# Conclusion\n",
    "\n",
    "In this notebook, we have very quickly gone from zero to sixty at coding in Python!  We have been working in a Jupyter notebook where we can run code interactively and write text to annotate what we are doing.  After saying `'Hello, World!'`, we learned how to do maths with Python and how to use strings and compound data types.  By using control flow statements, we saw that we can write quite complex programmes, which we can organise into functions and modules for convenience and shareability!\n",
    "\n",
    "On all of these features, we were brief so that we can get on to more interesting topics quickly.  To that end, we omitted or glossed over many details and many technicalities - there is much more to learn!  But independently learning how to do something new can be a part of the fun and is certainly a part of the job.  When coding, it is normal to not immediately know how to do something.\n",
    "\n",
    "In using Python, you are a part of a large global community.  This means that the internet is full of advice on how to write Python code well.  Describing your problem to a search engine more often than not brings up a solution straight away (usually on [StackExchange](https://stackexchange.com/)).  Make use of what other Pythonistas know about Python!\n",
    "\n",
    "Good luck analysing ATLAS Open Data!  We hope that this _Introduction to coding in Python_ will serve you well."
   ]
  }
 ],
 "metadata": {
  "kernelspec": {
   "display_name": "Python 3",
   "language": "python",
   "name": "python3"
  },
  "language_info": {
   "codemirror_mode": {
    "name": "ipython",
    "version": 3
   },
   "file_extension": ".py",
   "mimetype": "text/x-python",
   "name": "python",
   "nbconvert_exporter": "python",
   "pygments_lexer": "ipython3",
   "version": "3.6.9"
  }
 },
 "nbformat": 4,
 "nbformat_minor": 5
}
